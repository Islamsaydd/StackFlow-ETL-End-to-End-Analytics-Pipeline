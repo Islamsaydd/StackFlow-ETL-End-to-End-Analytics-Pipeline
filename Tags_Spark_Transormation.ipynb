{
 "cells": [
  {
   "cell_type": "code",
   "execution_count": 1,
   "id": "051df63e-169e-4d94-ab05-4ba787ddb085",
   "metadata": {},
   "outputs": [
    {
     "name": "stdout",
     "output_type": "stream",
     "text": [
      "Requirement already satisfied: beautifulsoup4 in d:\\mada\\programs\\anaconda\\envs\\lab2\\lib\\site-packages (4.13.3)\n",
      "Requirement already satisfied: soupsieve>1.2 in d:\\mada\\programs\\anaconda\\envs\\lab2\\lib\\site-packages (from beautifulsoup4) (2.6)\n",
      "Requirement already satisfied: typing-extensions>=4.0.0 in d:\\mada\\programs\\anaconda\\envs\\lab2\\lib\\site-packages (from beautifulsoup4) (4.12.2)\n"
     ]
    }
   ],
   "source": [
    "import sys, os\n",
    "!\"{sys.executable}\" -m pip install beautifulsoup4"
   ]
  },
  {
   "cell_type": "code",
   "execution_count": 2,
   "id": "4f9a24db-482c-49f2-a724-81180dd4bea7",
   "metadata": {},
   "outputs": [],
   "source": [
    "os.environ[\"PYSPARK_PYTHON\"] = sys.executable\n",
    "os.environ[\"PYSPARK_DRIVER_PYTHON\"] = sys.executable"
   ]
  },
  {
   "cell_type": "code",
   "execution_count": 3,
   "id": "4d86cc91-07ca-4cfe-97b9-2cad23bdcdcb",
   "metadata": {},
   "outputs": [],
   "source": [
    "os.environ[\"HADOOP_HOME\"] = \"C:/Spark/spark-3.5.5-bin-hadoop3\"  \n",
    "os.environ[\"HADOOP_OPTS\"] = \"-Djava.library.path=C:/Spark/spark-3.5.5-bin-hadoop3/bin\""
   ]
  },
  {
   "cell_type": "code",
   "execution_count": 4,
   "id": "e588f31b-2017-4d2a-a8a3-2ba5fd5d7119",
   "metadata": {},
   "outputs": [],
   "source": [
    "from pyspark.sql import SparkSession"
   ]
  },
  {
   "cell_type": "code",
   "execution_count": 5,
   "id": "13f3ffea-4dc6-4b03-86db-01552400a37a",
   "metadata": {},
   "outputs": [],
   "source": [
    "from pyspark.sql.functions import col , date_format , when , sum , count , lower, regexp_replace, trim, lit, udf"
   ]
  },
  {
   "cell_type": "code",
   "execution_count": 6,
   "id": "a8cd3367-1123-4b6e-bacb-a77f5b27eb49",
   "metadata": {},
   "outputs": [],
   "source": [
    "from pyspark.sql.types import StructType, StructField, IntegerType, StringType, TimestampType"
   ]
  },
  {
   "cell_type": "code",
   "execution_count": 7,
   "id": "301a7c45-bae2-4b55-bdbb-ea8c49c43dda",
   "metadata": {},
   "outputs": [
    {
     "name": "stdout",
     "output_type": "stream",
     "text": [
      "Requirement already satisfied: beautifulsoup4 in d:\\mada\\programs\\anaconda\\envs\\lab2\\lib\\site-packages (4.13.3)\n",
      "Requirement already satisfied: soupsieve>1.2 in d:\\mada\\programs\\anaconda\\envs\\lab2\\lib\\site-packages (from beautifulsoup4) (2.6)\n",
      "Requirement already satisfied: typing-extensions>=4.0.0 in d:\\mada\\programs\\anaconda\\envs\\lab2\\lib\\site-packages (from beautifulsoup4) (4.12.2)\n"
     ]
    }
   ],
   "source": [
    "!pip install beautifulsoup4"
   ]
  },
  {
   "cell_type": "code",
   "execution_count": 8,
   "id": "49a83c29-8023-44d8-b408-367e6cd1cfa3",
   "metadata": {},
   "outputs": [],
   "source": [
    "from bs4 import BeautifulSoup"
   ]
  },
  {
   "cell_type": "code",
   "execution_count": 9,
   "id": "0c33381e-30a2-4f78-98ee-5a2a82d9f3ca",
   "metadata": {},
   "outputs": [],
   "source": [
    "import sys"
   ]
  },
  {
   "cell_type": "code",
   "execution_count": 10,
   "id": "dddcb85a-de27-41d8-8f1d-4927931ffd57",
   "metadata": {},
   "outputs": [],
   "source": [
    "spark = SparkSession.builder.appName(\"Tags_Spark_Cleansing\")\\\n",
    "    .config(\"spark.executor.memory\", \"3g\")\\\n",
    "    .config(\"spark.jars.packages\", \"com.databricks:spark-xml_2.12:0.16.0,org.apache.parquet:parquet-hadoop:1.15.1\")\\\n",
    "    .config(\"spark.pyspark.python\", sys.executable) \\\n",
    "    .config(\"spark.pyspark.driver.python\", sys.executable) \\\n",
    "    .config(\"spark.hadoop.io.native.lib.available\", \"false\")\\\n",
    "    .getOrCreate()"
   ]
  },
  {
   "cell_type": "code",
   "execution_count": 11,
   "id": "30b77796-7719-4c1d-9ba1-676dce846233",
   "metadata": {},
   "outputs": [],
   "source": [
    "schema = StructType([\n",
    "    StructField(\"Id\", IntegerType(), True),\n",
    "    StructField(\"TagName\",StringType(), True),\n",
    "    StructField(\"Count\", IntegerType(), True),\n",
    "    StructField(\"ExcerptPostId\", IntegerType(), True),\n",
    "    StructField(\"WikiPostId\",IntegerType(), True)\n",
    "])\n",
    "\t\t\t\t\t"
   ]
  },
  {
   "cell_type": "code",
   "execution_count": 13,
   "id": "7b1a2739-30ca-4b9a-8213-aad1e25156cc",
   "metadata": {},
   "outputs": [],
   "source": [
    "df_Tags = spark.read.format(\"xml\") \\\n",
    "    .option(\"rowTag\", \"row\")\\\n",
    "    .option(\"attributePrefix\", \"\") \\\n",
    "    .schema(schema) \\\n",
    "    .load(r\"DataSet/Tags.xml\") "
   ]
  },
  {
   "cell_type": "code",
   "execution_count": 14,
   "id": "696c7ea7-2027-418a-970c-5e0f56888f09",
   "metadata": {},
   "outputs": [
    {
     "name": "stdout",
     "output_type": "stream",
     "text": [
      "+---+--------------------+-----+-------------+----------+\n",
      "| Id|             TagName|Count|ExcerptPostId|WikiPostId|\n",
      "+---+--------------------+-----+-------------+----------+\n",
      "|  1|            bayesian| 7844|        20258|     20257|\n",
      "|  2|               prior|  978|        62158|     62157|\n",
      "|  3|         elicitation|   12|         NULL|      NULL|\n",
      "|  5|         open-source|   18|         NULL|      NULL|\n",
      "|  6|       distributions| 9359|         8046|      8045|\n",
      "|  9|    machine-learning|19853|         9066|      9065|\n",
      "| 10|             dataset| 1879|        20490|     20489|\n",
      "| 11|              sample|  999|        28276|     28275|\n",
      "| 12|          population|  517|        69287|     69286|\n",
      "| 15|         measurement|  334|        66319|     66318|\n",
      "| 16|              scales|  406|       139243|    139242|\n",
      "| 17|       interpolation|  265|        64387|     64386|\n",
      "| 18|       multivariable|   39|         NULL|      NULL|\n",
      "| 21|               anova| 5195|         9251|      9250|\n",
      "| 23|              census|   55|        63450|     63449|\n",
      "| 26|         frequentist|  453|        87156|     87155|\n",
      "| 27|    density-function| 1675|        40526|     40525|\n",
      "| 28|cumulative-distri...|  776|        40912|     40911|\n",
      "| 30|         time-series|14091|         3017|      3016|\n",
      "| 33|  standard-deviation| 2011|        28218|     28217|\n",
      "+---+--------------------+-----+-------------+----------+\n",
      "only showing top 20 rows\n",
      "\n"
     ]
    },
    {
     "data": {
      "text/plain": [
       "1597"
      ]
     },
     "execution_count": 14,
     "metadata": {},
     "output_type": "execute_result"
    }
   ],
   "source": [
    "df_Tags.show()\n",
    "df_Tags.count()"
   ]
  },
  {
   "cell_type": "code",
   "execution_count": 15,
   "id": "7a798ccd-6c86-4470-a974-41b29ff1b2af",
   "metadata": {},
   "outputs": [
    {
     "name": "stdout",
     "output_type": "stream",
     "text": [
      "excerpt posts null percentage: 24.11%\n",
      "wiki post null percentage: 24.11%\n"
     ]
    }
   ],
   "source": [
    "# Calculate null percentages for the last two columns to decide which is better as a description\n",
    "null_percentage = df_Tags.select(\n",
    "    (count(when(col(\"ExcerptPostId\").isNull(), 1)) / count(lit(1)) * 100).alias(\"ExcerptPostId_null_percentage\"),\n",
    "    (count(when(col(\"WikiPostId\").isNull(), 1)) / count(lit(1)) * 100).alias(\"BountyAmount_null_percentage\")\n",
    ").collect()[0]\n",
    "\n",
    "print(f\"excerpt posts null percentage: {null_percentage['ExcerptPostId_null_percentage']:.2f}%\")\n",
    "print(f\"wiki post null percentage: {null_percentage['BountyAmount_null_percentage']:.2f}%\")\n"
   ]
  },
  {
   "cell_type": "code",
   "execution_count": 16,
   "id": "945f719c-74ca-46c4-afaf-2fd889247daa",
   "metadata": {},
   "outputs": [],
   "source": [
    "schema = StructType([\n",
    "    StructField(\"AcceptedAnswerId\", IntegerType(), True),\n",
    "    StructField(\"AnswerCount\",IntegerType(), True),\n",
    "    StructField(\"Body\", StringType(), True),\n",
    "    StructField(\"ClosedDate\", TimestampType(), True),\n",
    "    StructField(\"CommentCount\",IntegerType(), True),\n",
    "    StructField(\"CommunityOwnedDate\", TimestampType(), True),\n",
    "    StructField(\"ContentLicense\", StringType(), True),\n",
    "    StructField(\"CreationDate\", TimestampType(), True),\n",
    "    StructField(\"FavoriteCount\",IntegerType(), True),\n",
    "    StructField(\"Id\",IntegerType(), True),\n",
    "    StructField(\"LastActivityDate\", TimestampType(), True),\n",
    "    StructField(\"LastEditDate\", TimestampType(), True),\n",
    "    StructField(\"LastEditorDisplayName\", StringType(), True),\n",
    "    StructField(\"LastEditorUserId\",IntegerType(), True),\n",
    "    StructField(\"OwnerDisplayName\", StringType(), True),\n",
    "    StructField(\"OwnerUserId\",IntegerType(), True),\n",
    "    StructField(\"ParentId\",IntegerType(), True),\n",
    "    StructField(\"PostTypeId\",IntegerType(), True),\n",
    "    StructField(\"Score\",IntegerType(), True),\n",
    "    StructField(\"Tags\", StringType(), True),\n",
    "    StructField(\"Title\", StringType(), True),\n",
    "    StructField(\"ViewCount\",IntegerType(), True)\n",
    "])\n",
    "   "
   ]
  },
  {
   "cell_type": "code",
   "execution_count": 19,
   "id": "dcdbc0cc-4db1-40b6-b344-0698744fa041",
   "metadata": {},
   "outputs": [],
   "source": [
    "df_posts = spark.read.format(\"xml\") \\\n",
    "    .option(\"rowTag\", \"row\")\\\n",
    "    .option(\"attributePrefix\", \"\") \\\n",
    "    .schema(schema) \\\n",
    "    .load(r\"Dataset/Posts.xml\") "
   ]
  },
  {
   "cell_type": "code",
   "execution_count": null,
   "id": "fef62824-91b3-4709-a4ba-aa1fcc0ded0f",
   "metadata": {},
   "outputs": [
    {
     "name": "stdout",
     "output_type": "stream",
     "text": [
      "+----------------+-----------+--------------------+----------+------------+--------------------+--------------+--------------------+-------------+---+--------------------+--------------------+---------------------+----------------+----------------+-----------+--------+----------+-----+--------------------+--------------------+---------+\n",
      "|AcceptedAnswerId|AnswerCount|                Body|ClosedDate|CommentCount|  CommunityOwnedDate|ContentLicense|        CreationDate|FavoriteCount| Id|    LastActivityDate|        LastEditDate|LastEditorDisplayName|LastEditorUserId|OwnerDisplayName|OwnerUserId|ParentId|PostTypeId|Score|                Tags|               Title|ViewCount|\n",
      "+----------------+-----------+--------------------+----------+------------+--------------------+--------------+--------------------+-------------+---+--------------------+--------------------+---------------------+----------------+----------------+-----------+--------+----------+-----+--------------------+--------------------+---------+\n",
      "|              15|          6|<p>How should I e...|      NULL|           2|                NULL|  CC BY-SA 2.5|2010-07-19 22:12:...|         NULL|  1|2023-07-14 11:18:...|                NULL|                 NULL|            NULL|            NULL|          8|    NULL|         1|   55|<bayesian><prior>...|Eliciting priors ...|     5928|\n",
      "|              59|          7|<p>In many differ...|      NULL|           1|                NULL|  CC BY-SA 2.5|2010-07-19 22:12:...|         NULL|  2|2022-11-23 15:03:...|2010-08-07 20:56:...|               user88|            NULL|            NULL|         24|    NULL|         1|   34|<distributions><n...|  What is normality?|    33925|\n",
      "|               5|         19|<p>What are some ...|      NULL|           3|2010-07-19 22:13:...|  CC BY-SA 2.5|2010-07-19 22:13:...|         NULL|  3|2022-11-28 01:33:...|2011-02-12 07:50:...|                 NULL|             183|            NULL|         18|    NULL|         1|   71|<software><open-s...|What are some val...|     6720|\n",
      "|             135|          5|<p>I have two gro...|      NULL|           2|                NULL|  CC BY-SA 2.5|2010-07-19 22:13:...|         NULL|  4|2010-09-08 05:00:...|                NULL|                 NULL|            NULL|            NULL|         23|    NULL|         1|   23|<distributions><s...|Assessing the sig...|    47588|\n",
      "|            NULL|       NULL|<p>The R-project<...|      NULL|           3|2010-07-19 22:14:...|  CC BY-SA 2.5|2010-07-19 22:14:...|         NULL|  5|2010-07-19 22:21:...|2010-07-19 22:21:...|                 NULL|              23|            NULL|         23|       3|         2|   90|                NULL|                NULL|     NULL|\n",
      "|            NULL|         20|<p>Last year, I r...|      NULL|          10|2010-08-09 16:05:...|  CC BY-SA 4.0|2010-07-19 22:14:...|         NULL|  6|2024-10-01 02:36:...|2024-10-01 02:36:...|                 NULL|          358340|            NULL|          5|    NULL|         1|  497|<machine-learning...|The Two Cultures:...|   178162|\n",
      "|              18|         25|<p>I've been work...|      NULL|           2|2010-07-20 23:50:...|  CC BY-SA 2.5|2010-07-19 22:15:...|         NULL|  7|2022-11-30 07:37:...|2013-09-26 23:50:...|                 NULL|             253|            NULL|         38|    NULL|         1|  103|<dataset><sample>...|Locating freely a...|    42887|\n",
      "|            NULL|       NULL|<p><a href=\"http:...|      NULL|           3|2010-07-19 22:16:...|  CC BY-SA 2.5|2010-07-19 22:16:...|         NULL|  9|2010-07-19 22:16:...|                NULL|                 NULL|            NULL|            NULL|         50|       3|         2|   15|                NULL|                NULL|     NULL|\n",
      "|            1887|          4|<p>Many studies i...|      NULL|           4|                NULL|  CC BY-SA 2.5|2010-07-19 22:17:...|         NULL| 10|2021-02-04 20:28:...|2017-01-26 13:52:...|                 NULL|           28666|            NULL|         24|    NULL|         1|   68|<ordinal-data><li...|Under what condit...|   125612|\n",
      "|            1201|          1|<p>Is there a goo...|      NULL|           2|                NULL|  CC BY-SA 2.5|2010-07-19 22:18:...|         NULL| 11|2010-08-04 00:50:...|2010-07-28 10:58:...|                 NULL|              34|            NULL|         34|    NULL|         1|    5|<multivariable><i...|Multivariate Inte...|      363|\n",
      "|            NULL|       NULL|<p>See my respons...|      NULL|           1|2011-08-12 22:29:...|  CC BY-SA 2.5|2010-07-19 22:18:...|         NULL| 12|2010-07-19 22:18:...|2017-05-23 14:39:...|                 NULL|              -1|            NULL|          5|       7|         2|   24|                NULL|                NULL|     NULL|\n",
      "|            NULL|       NULL|<p>Machine Learni...|      NULL|           6|                NULL|  CC BY-SA 2.5|2010-07-19 22:18:...|         NULL| 13|2010-07-19 22:18:...|                NULL|                 NULL|            NULL|            NULL|         23|       6|         2|   28|                NULL|                NULL|     NULL|\n",
      "|            NULL|       NULL|<p>I second that ...|      NULL|           1|2010-07-19 22:19:...|  CC BY-SA 2.5|2010-07-19 22:19:...|         NULL| 14|2010-07-19 22:19:...|                NULL|                 NULL|            NULL|            NULL|         36|       3|         2|    6|                NULL|                NULL|     NULL|\n",
      "|            NULL|       NULL|<p>John Cook give...|      NULL|           0|                NULL|  CC BY-SA 2.5|2010-07-19 22:19:...|         NULL| 15|2010-07-19 22:19:...|                NULL|                 NULL|            NULL|            NULL|          6|       1|         2|   26|                NULL|                NULL|     NULL|\n",
      "|            NULL|       NULL|<p>Two projects s...|      NULL|           2|2010-07-19 22:22:...|  CC BY-SA 2.5|2010-07-19 22:22:...|         NULL| 16|2010-07-19 23:43:...|2010-07-19 23:43:...|                 NULL|               8|            NULL|          8|       3|         2|   17|                NULL|                NULL|     NULL|\n",
      "|              29|          1|<p>I have four co...|      NULL|           0|                NULL|  CC BY-SA 2.5|2010-07-19 22:24:...|         NULL| 17|2012-01-23 01:34:...|2012-01-23 01:34:...|                 NULL|            7972|          user28|       NULL|    NULL|         1|   12|<anova><chi-squar...|How can I adapt A...|     2075|\n",
      "|            NULL|       NULL|<p>Also see the U...|      NULL|           1|2011-08-12 22:31:...|  CC BY-SA 2.5|2010-07-19 22:24:...|         NULL| 18|2010-07-19 22:24:...|                NULL|                 NULL|            NULL|            NULL|         36|       7|         2|   43|                NULL|                NULL|     NULL|\n",
      "|            NULL|       NULL|<p><a href=\"http:...|      NULL|           0|2011-08-12 22:29:...|  CC BY-SA 2.5|2010-07-19 22:24:...|         NULL| 19|2010-07-19 22:24:...|                NULL|                 NULL|            NULL|            NULL|         55|       7|         2|   16|                NULL|                NULL|     NULL|\n",
      "|            NULL|       NULL|<p>The assumption...|      NULL|           2|                NULL|  CC BY-SA 2.5|2010-07-19 22:24:...|         NULL| 20|2010-07-19 22:24:...|                NULL|                 NULL|            NULL|            NULL|         37|       2|         2|    3|                NULL|                NULL|     NULL|\n",
      "|            NULL|          1|<p>What are some ...|      NULL|           1|                NULL|  CC BY-SA 2.5|2010-07-19 22:24:...|         NULL| 21|2019-08-04 11:23:...|2019-08-04 11:23:...|                 NULL|           11887|            NULL|         59|    NULL|         1|    6|<forecasting><pop...|Forecasting demog...|      307|\n",
      "+----------------+-----------+--------------------+----------+------------+--------------------+--------------+--------------------+-------------+---+--------------------+--------------------+---------------------+----------------+----------------+-----------+--------+----------+-----+--------------------+--------------------+---------+\n",
      "only showing top 20 rows\n",
      "\n"
     ]
    }
   ],
   "source": [
    "df_posts.show()"
   ]
  },
  {
   "cell_type": "code",
   "execution_count": 20,
   "id": "34de5d7b-9b37-4ecd-ac80-487d06c733ca",
   "metadata": {},
   "outputs": [
    {
     "name": "stdout",
     "output_type": "stream",
     "text": [
      "+---+--------------------+-----+-------------+----------+------+--------------------+\n",
      "| Id|             TagName|Count|ExcerptPostId|WikiPostId|    Id|                Body|\n",
      "+---+--------------------+-----+-------------+----------+------+--------------------+\n",
      "| 10|             dataset| 1879|        20490|     20489| 20490|Requests for data...|\n",
      "| 28|cumulative-distri...|  776|        40912|     40911| 40912|Cumulative distri...|\n",
      "| 26|         frequentist|  453|        87156|     87155| 87156|In the frequentis...|\n",
      "| 30|         time-series|14091|         3017|      3016|  3017|Time series are d...|\n",
      "|  3|         elicitation|   12|         NULL|      NULL|  NULL|                NULL|\n",
      "|  5|         open-source|   18|         NULL|      NULL|  NULL|                NULL|\n",
      "| 18|       multivariable|   39|         NULL|      NULL|  NULL|                NULL|\n",
      "| 37|          algorithms|  942|        21863|     21862| 21863|An unambiguous li...|\n",
      "| 23|              census|   55|        63450|     63449| 63450|A census is a stu...|\n",
      "| 17|       interpolation|  265|        64387|     64386| 64387|Given a set of bi...|\n",
      "| 12|          population|  517|        69287|     69286| 69287|A population is t...|\n",
      "|  9|    machine-learning|19853|         9066|      9065|  9066|Machine learning ...|\n",
      "| 11|              sample|  999|        28276|     28275| 28276|a sequence of obj...|\n",
      "| 15|         measurement|  334|        66319|     66318| 66319|Measurement is th...|\n",
      "|  6|       distributions| 9359|         8046|      8045|  8046|A distribution is...|\n",
      "| 21|               anova| 5195|         9251|      9250|  9251|ANOVA stands for ...|\n",
      "|  1|            bayesian| 7844|        20258|     20257| 20258|Bayesian inferenc...|\n",
      "| 27|    density-function| 1675|        40526|     40525| 40526|Probability densi...|\n",
      "| 16|              scales|  406|       139243|    139242|139243|Scales used to ex...|\n",
      "| 33|  standard-deviation| 2011|        28218|     28217| 28218|Standard deviatio...|\n",
      "+---+--------------------+-----+-------------+----------+------+--------------------+\n",
      "only showing top 20 rows\n",
      "\n"
     ]
    }
   ],
   "source": [
    "df_tags_with_desc = df_Tags.join(\n",
    "    df_posts.select(\"Id\", \"Body\"),  # Include \"Id\" for the join condition\n",
    "    df_Tags.ExcerptPostId == df_posts.Id,  # Use df_Tags, not df_votes\n",
    "    \"left\"\n",
    ")\n",
    "\n",
    "df_tags_with_desc.show()"
   ]
  },
  {
   "cell_type": "code",
   "execution_count": 21,
   "id": "5fe42c4b-8108-4543-8e48-d3e97c9702e9",
   "metadata": {},
   "outputs": [
    {
     "name": "stdout",
     "output_type": "stream",
     "text": [
      "+---+--------------------+-----+-------------+----------+--------------------+\n",
      "| Id|             TagName|Count|ExcerptPostId|WikiPostId|                Body|\n",
      "+---+--------------------+-----+-------------+----------+--------------------+\n",
      "| 10|             dataset| 1879|        20490|     20489|Requests for data...|\n",
      "| 28|cumulative-distri...|  776|        40912|     40911|Cumulative distri...|\n",
      "| 26|         frequentist|  453|        87156|     87155|In the frequentis...|\n",
      "| 30|         time-series|14091|         3017|      3016|Time series are d...|\n",
      "|  3|         elicitation|   12|         NULL|      NULL|                NULL|\n",
      "|  5|         open-source|   18|         NULL|      NULL|                NULL|\n",
      "| 18|       multivariable|   39|         NULL|      NULL|                NULL|\n",
      "| 37|          algorithms|  942|        21863|     21862|An unambiguous li...|\n",
      "| 23|              census|   55|        63450|     63449|A census is a stu...|\n",
      "| 17|       interpolation|  265|        64387|     64386|Given a set of bi...|\n",
      "| 12|          population|  517|        69287|     69286|A population is t...|\n",
      "|  9|    machine-learning|19853|         9066|      9065|Machine learning ...|\n",
      "| 11|              sample|  999|        28276|     28275|a sequence of obj...|\n",
      "| 15|         measurement|  334|        66319|     66318|Measurement is th...|\n",
      "|  6|       distributions| 9359|         8046|      8045|A distribution is...|\n",
      "| 21|               anova| 5195|         9251|      9250|ANOVA stands for ...|\n",
      "|  1|            bayesian| 7844|        20258|     20257|Bayesian inferenc...|\n",
      "| 27|    density-function| 1675|        40526|     40525|Probability densi...|\n",
      "| 16|              scales|  406|       139243|    139242|Scales used to ex...|\n",
      "| 33|  standard-deviation| 2011|        28218|     28217|Standard deviatio...|\n",
      "+---+--------------------+-----+-------------+----------+--------------------+\n",
      "only showing top 20 rows\n",
      "\n"
     ]
    }
   ],
   "source": [
    "df_tags_with_desc = df_tags_with_desc.drop(df_posts.Id)\n",
    "df_tags_with_desc.show()"
   ]
  },
  {
   "cell_type": "code",
   "execution_count": 22,
   "id": "6542d052-1e17-4392-9f3b-edba9bcda4b3",
   "metadata": {},
   "outputs": [],
   "source": [
    "df_tags_with_desc = df_tags_with_desc.withColumnRenamed('Body','TagDesc')\n",
    "df_tags_with_desc = df_tags_with_desc.withColumnRenamed('ExcerptPostId','TagDescPostId')"
   ]
  },
  {
   "cell_type": "code",
   "execution_count": 23,
   "id": "0280a294-4e21-4cfe-a8aa-4a222f012f9b",
   "metadata": {},
   "outputs": [],
   "source": [
    "df_tags_with_desc= df_tags_with_desc.drop('WikiPostId')"
   ]
  },
  {
   "cell_type": "code",
   "execution_count": 24,
   "id": "7b61fba1-7dfa-4460-abb5-2320641d5cb4",
   "metadata": {},
   "outputs": [
    {
     "name": "stdout",
     "output_type": "stream",
     "text": [
      "+---+--------------------------------+-----+-------------+----------------------------------------------------------------------------------------------------------------------------------------------------------------------------------------------------------------------------------------------------------------------------------------------------+\n",
      "|Id |TagName                         |Count|TagDescPostId|TagDesc                                                                                                                                                                                                                                                                                             |\n",
      "+---+--------------------------------+-----+-------------+----------------------------------------------------------------------------------------------------------------------------------------------------------------------------------------------------------------------------------------------------------------------------------------------------+\n",
      "|10 |dataset                         |1879 |20490        |Requests for datasets are off-topic on this site.  Use this tag for questions concerning creating, processing, or maintaining datasets.                                                                                                                                                             |\n",
      "|28 |cumulative-distribution-function|776  |40912        |Cumulative distribution function. While the PDF gives the probability density of each value of a random variable, the CDF (often denoted $F(x)$) gives the probability that the random variable will be less than or equal to a specified value.                                                    |\n",
      "|26 |frequentist                     |453  |87156        |In the frequentist approach to inference, statistical procedures are assessed by their performance over a hypothetical long run of repetitions of a process deemed to have generated the data.                                                                                                      |\n",
      "|30 |time-series                     |14091|3017         |Time series are data observed over time (either in continuous time or at discrete time periods).                                                                                                                                                                                                    |\n",
      "|3  |elicitation                     |12   |NULL         |NULL                                                                                                                                                                                                                                                                                                |\n",
      "|5  |open-source                     |18   |NULL         |NULL                                                                                                                                                                                                                                                                                                |\n",
      "|18 |multivariable                   |39   |NULL         |NULL                                                                                                                                                                                                                                                                                                |\n",
      "|37 |algorithms                      |942  |21863        |An unambiguous list of computational steps involved in finding a solution to a class of problems.                                                                                                                                                                                                   |\n",
      "|23 |census                          |55   |63450        |A census is a study that includes observations for every member of the population being studied, as opposed to a sample from that population.                                                                                                                                                       |\n",
      "|17 |interpolation                   |265  |64387        |Given a set of bivariate data (x, y), to impute a value of y corresponding to some value of x at which there is no measurement of y is called interpolation, if the value of x is within the range of the measured values of x.                                                                     |\n",
      "|12 |population                      |517  |69287        |A population is the entire set of units from which a sample may be drawn.                                                                                                                                                                                                                           |\n",
      "|9  |machine-learning                |19853|9066         |Machine learning algorithms build a model of the training data. The term \"machine learning\" is vaguely defined; it includes what is also called statistical learning, reinforcement learning, unsupervised learning, etc. ALWAYS ADD A MORE SPECIFIC TAG.                                           |\n",
      "|11 |sample                          |999  |28276        |a sequence of objects or individuals collected from a larger (possibly infinite) population or process.                                                                                                                                                                                             |\n",
      "|15 |measurement                     |334  |66319        |Measurement is the assignment of a value (numeric or otherwise) to an observation.                                                                                                                                                                                                                  |\n",
      "|6  |distributions                   |9359 |8046         |A distribution is a mathematical description of probabilities or frequencies.                                                                                                                                                                                                                       |\n",
      "|21 |anova                           |5195 |9251         |ANOVA stands for ANalysis Of VAriance, a statistical model and set of procedures for comparing multiple group means. The independent variables in an ANOVA model are categorical, but an ANOVA table can be used to test continuous variables as well.                                              |\n",
      "|1  |bayesian                        |7844 |20258        |Bayesian inference is a method of statistical inference that relies on treating the model parameters as random variables and applying Bayes' theorem to deduce subjective probability statements about the parameters or hypotheses, conditional on the observed dataset.                           |\n",
      "|27 |density-function                |1675 |40526        |Probability density function (PDF) of a continuous random variable gives the relative probability for each of its possible values. Use this tag for discrete probability mass functions (PMFs) too.                                                                                                 |\n",
      "|16 |scales                          |406  |139243       |Scales used to express measurements. Usually ratio, interval, ordinal or nominal types of scales are recognized. Dichotomous and count types are sometimes seen as their own. Other classifications exist. [For \"scale\" as a sum of individual items in psychometry - see also tag 'psychometrics'.]|\n",
      "|33 |standard-deviation              |2011 |28218        |Standard deviation is the square root of the variance of a random variable, an estimator thereof, or a similar measure of the spread of a batch of data.                                                                                                                                            |\n",
      "+---+--------------------------------+-----+-------------+----------------------------------------------------------------------------------------------------------------------------------------------------------------------------------------------------------------------------------------------------------------------------------------------------+\n",
      "only showing top 20 rows\n",
      "\n"
     ]
    }
   ],
   "source": [
    "df_tags_with_desc.show(truncate=False)"
   ]
  },
  {
   "cell_type": "code",
   "execution_count": 25,
   "id": "5b1f1eea-6121-4f34-bb9b-60b17b473bad",
   "metadata": {},
   "outputs": [],
   "source": [
    "output_path = \"SilverDataSet/Tags\"\n",
    "\n",
    "df_tags_with_desc.write.mode(\"overwrite\").parquet(output_path)"
   ]
  },
  {
   "cell_type": "code",
   "execution_count": 26,
   "id": "8f620b95-8a81-40e3-b5b7-669d6ea9f365",
   "metadata": {},
   "outputs": [
    {
     "name": "stdout",
     "output_type": "stream",
     "text": [
      "['Id', 'TagName', 'Count', 'TagDescPostId', 'TagDesc']\n"
     ]
    }
   ],
   "source": [
    "print(df_tags_with_desc.columns)\n"
   ]
  },
  {
   "cell_type": "code",
   "execution_count": 27,
   "id": "7931c98b-7db7-47bf-81a8-a2c54fba8e65",
   "metadata": {},
   "outputs": [
    {
     "name": "stdout",
     "output_type": "stream",
     "text": [
      "+---+--------------------+-----+-------------+--------------------+\n",
      "| Id|             TagName|Count|TagDescPostId|             TagDesc|\n",
      "+---+--------------------+-----+-------------+--------------------+\n",
      "| 10|             dataset| 1879|        20490|Requests for data...|\n",
      "| 28|cumulative-distri...|  776|        40912|Cumulative distri...|\n",
      "| 26|         frequentist|  453|        87156|In the frequentis...|\n",
      "| 30|         time-series|14091|         3017|Time series are d...|\n",
      "|  3|         elicitation|   12|         NULL|                NULL|\n",
      "|  5|         open-source|   18|         NULL|                NULL|\n",
      "| 18|       multivariable|   39|         NULL|                NULL|\n",
      "| 37|          algorithms|  942|        21863|An unambiguous li...|\n",
      "| 23|              census|   55|        63450|A census is a stu...|\n",
      "| 17|       interpolation|  265|        64387|Given a set of bi...|\n",
      "| 12|          population|  517|        69287|A population is t...|\n",
      "|  9|    machine-learning|19853|         9066|Machine learning ...|\n",
      "| 11|              sample|  999|        28276|a sequence of obj...|\n",
      "| 15|         measurement|  334|        66319|Measurement is th...|\n",
      "|  6|       distributions| 9359|         8046|A distribution is...|\n",
      "| 21|               anova| 5195|         9251|ANOVA stands for ...|\n",
      "|  1|            bayesian| 7844|        20258|Bayesian inferenc...|\n",
      "| 27|    density-function| 1675|        40526|Probability densi...|\n",
      "| 16|              scales|  406|       139243|Scales used to ex...|\n",
      "| 33|  standard-deviation| 2011|        28218|Standard deviatio...|\n",
      "+---+--------------------+-----+-------------+--------------------+\n",
      "only showing top 20 rows\n",
      "\n"
     ]
    }
   ],
   "source": [
    "df_tags_with_desc.show()"
   ]
  },
  {
   "cell_type": "code",
   "execution_count": 28,
   "id": "fbfa86ae-2850-4734-9ce9-fcf85e8f3810",
   "metadata": {},
   "outputs": [],
   "source": [
    "df_tags_with_desc = df_tags_with_desc.drop(df_posts.Id)\n"
   ]
  },
  {
   "cell_type": "code",
   "execution_count": null,
   "id": "e8b79c3f-c82a-45a0-a1e3-5cfa25740456",
   "metadata": {},
   "outputs": [],
   "source": []
  },
  {
   "cell_type": "code",
   "execution_count": null,
   "id": "10a8a2ca-9ddc-4868-90b9-9b7cc3d569bd",
   "metadata": {},
   "outputs": [],
   "source": []
  },
  {
   "cell_type": "code",
   "execution_count": null,
   "id": "aaaa8cbc-2e61-4489-a07b-beaf0b85dab4",
   "metadata": {},
   "outputs": [],
   "source": []
  },
  {
   "cell_type": "code",
   "execution_count": null,
   "id": "f82d1fa1-49be-4ace-85c7-dce79f321d2f",
   "metadata": {},
   "outputs": [],
   "source": []
  }
 ],
 "metadata": {
  "kernelspec": {
   "display_name": "Python (lab2)",
   "language": "python",
   "name": "lab2"
  },
  "language_info": {
   "codemirror_mode": {
    "name": "ipython",
    "version": 3
   },
   "file_extension": ".py",
   "mimetype": "text/x-python",
   "name": "python",
   "nbconvert_exporter": "python",
   "pygments_lexer": "ipython3",
   "version": "3.11.11"
  }
 },
 "nbformat": 4,
 "nbformat_minor": 5
}
