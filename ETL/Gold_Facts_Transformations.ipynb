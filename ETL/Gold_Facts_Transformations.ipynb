{
 "cells": [
  {
   "cell_type": "code",
   "execution_count": 1,
   "id": "7b93a3d7-7f9e-418e-8e4d-f8a5cf8a6335",
   "metadata": {},
   "outputs": [],
   "source": [
    "##This is a general file for the creation of all the StackExchange Golden Layer Fact Tables##"
   ]
  },
  {
   "cell_type": "code",
   "execution_count": 1,
   "id": "870d4476-df19-482f-bca6-5558974a8c70",
   "metadata": {},
   "outputs": [],
   "source": [
    "import sys, os\n",
    "os.environ[\"PYSPARK_PYTHON\"] = sys.executable\n",
    "os.environ[\"PYSPARK_DRIVER_PYTHON\"] = sys.executable\n",
    "os.environ[\"HADOOP_HOME\"] = \"C:/Spark/spark-3.5.5-bin-hadoop3\"  \n",
    "os.environ[\"HADOOP_OPTS\"] = \"-Djava.library.path=C:/Spark/spark-3.5.5-bin-hadoop3/bin\""
   ]
  },
  {
   "cell_type": "code",
   "execution_count": 51,
   "id": "09d148e3-a824-48f0-81e2-a03561990820",
   "metadata": {},
   "outputs": [],
   "source": [
    "from pyspark.sql import SparkSession\n",
    "from pyspark.sql.functions import (col, date_format, when, sum,\n",
    "    count, lower, regexp_replace,\n",
    "    trim, lit, udf, year, month,\n",
    "    dayofmonth, weekofyear, when,\n",
    "    quarter, dayofweek, monotonically_increasing_id, row_number)\n",
    "from pyspark.sql.types import StructType, StructField, IntegerType, StringType, TimestampType\n",
    "from pyspark.sql.window import Window\n"
   ]
  },
  {
   "cell_type": "code",
   "execution_count": 3,
   "id": "45fc4a97-387b-41d4-a0e4-c3c83cbcb0fd",
   "metadata": {},
   "outputs": [],
   "source": [
    "# Initialize Spark Session\n",
    "spark = SparkSession.builder.appName(\"Fact Tables\")\\\n",
    "    .config(\"spark.executor.memory\", \"3g\")\\\n",
    "    .config(\"spark.jars.packages\", \"com.databricks:spark-xml_2.12:0.16.0,org.apache.parquet:parquet-hadoop:1.15.1\")\\\n",
    "    .config(\"spark.pyspark.python\", sys.executable) \\\n",
    "    .config(\"spark.pyspark.driver.python\", sys.executable) \\\n",
    "    .config(\"spark.hadoop.io.native.lib.available\", \"false\")\\\n",
    "    .getOrCreate()"
   ]
  },
  {
   "cell_type": "code",
   "execution_count": 4,
   "id": "68bf4c0b-2431-41ed-89a0-6bc96473f580",
   "metadata": {},
   "outputs": [],
   "source": [
    "Tags_Dim = spark.read.parquet(r\"Gold/Tags_Dim\")\n",
    "Users_Dim = spark.read.parquet(r\"Gold/Users_Dim\")\n",
    "Questions_Dim = spark.read.parquet(r\"Gold/Questions_Dim\")\n",
    "Answers_Dim = spark.read.parquet(r\"Gold/Answers_Dim\")\n",
    "Date_Dim = spark.read.parquet(r\"Gold/Date_Dim\")\n",
    "Badges_Dim = spark.read.parquet(r\"Gold/Badges_Dim\")\n"
   ]
  },
  {
   "cell_type": "code",
   "execution_count": 38,
   "id": "e1cf931c-cc41-4b3e-a2ca-549acd69dc45",
   "metadata": {},
   "outputs": [],
   "source": [
    "#Question Fact Generation\n",
    "Questions = spark.read.parquet(r\"Silver\\Questions\")\n",
    "Questions_Fact = Questions.join(\n",
    "    Questions_Dim.select(\"Question_BK\", col(\"Question_SK\").alias(\"Question_FK\")),\n",
    "    Questions[\"QuestionId\"] == Questions_Dim[\"Question_BK\"],\n",
    "    \"left\"\n",
    ").join(\n",
    "    Users_Dim.select(\"User_BK\", col(\"User_SK\").alias(\"User_FK\")),\n",
    "    Questions[\"OwnerUserId\"] == Users_Dim[\"User_BK\"],\n",
    "    \"left\"\n",
    ").join(\n",
    "    Date_Dim.select(\n",
    "        col(\"FullDate\").alias(\"CreationDate_FullDate\"), \n",
    "        col(\"DateKey\").alias(\"CreationDate_FK\")\n",
    "    ),\n",
    "    Questions[\"CreationDate\"] == col(\"CreationDate_FullDate\"),\n",
    "    \"left\"\n",
    ").join(\n",
    "    Date_Dim.select(\n",
    "        col(\"FullDate\").alias(\"LastActivityDate_FullDate\"), \n",
    "        col(\"DateKey\").alias(\"LastActivityDate_FK\")\n",
    "    ),\n",
    "    Questions[\"LastActivityDate\"] == col(\"LastActivityDate_FullDate\"),\n",
    "    \"left\"\n",
    ").drop(\n",
    "    \"CreationDate_FullDate\", \"LastActivityDate_FullDate\",\n",
    "    \"QuestionId\", \"Question_BK\",\n",
    "    \"OwnerUserId\", \"CreationDate\", \"LastActivityDate\",\n",
    "    \"AcceptedAnswerId\", \"User_BK\",\n",
    "    \"Body\", \"Title\", \"Tags\"\n",
    ")\n",
    "#Writing the file\n",
    "Questions_Fact_path = \"Gold/Questions_Fact\"\n",
    "Questions_Fact.write.mode(\"overwrite\").parquet(Questions_Fact_path)"
   ]
  },
  {
   "cell_type": "code",
   "execution_count": 46,
   "id": "8d6a90b4-121c-4579-8d73-74112d67077c",
   "metadata": {},
   "outputs": [],
   "source": [
    "#Answers Fact Generation\n",
    "Answers = spark.read.parquet(r\"Silver\\Answers\")\n",
    "\n",
    "Answers_Fact = Answers.join(\n",
    "    Answers_Dim.select(\"Answer_BK\", col(\"Answer_SK\").alias(\"Answer_FK\")),\n",
    "    Answers[\"AnswerId\"] == Answers_Dim[\"Answer_BK\"],\n",
    "    \"left\"\n",
    ").join(\n",
    "    Users_Dim.select(\"User_BK\", col(\"User_SK\").alias(\"User_FK\")),\n",
    "    Answers[\"OwnerUserId\"] == Users_Dim[\"User_BK\"],\n",
    "    \"left\"\n",
    ").join(\n",
    "    Date_Dim.select(\n",
    "        col(\"FullDate\").alias(\"CreationDate_FullDate\"), \n",
    "        col(\"DateKey\").alias(\"CreationDate_FK\")\n",
    "    ),\n",
    "    Answers[\"CreationDate\"] == col(\"CreationDate_FullDate\"),\n",
    "    \"left\"\n",
    ").join(\n",
    "    Date_Dim.select(\n",
    "        col(\"FullDate\").alias(\"LastActivityDate_FullDate\"), \n",
    "        col(\"DateKey\").alias(\"LastActivityDate_FK\")\n",
    "    ),\n",
    "    Answers[\"LastActivityDate\"] == col(\"LastActivityDate_FullDate\"),\n",
    "    \"left\"\n",
    ").join(\n",
    "    Questions_Dim.select(\"Question_BK\", col(\"Question_SK\").alias(\"ParentQuestion_FK\")),\n",
    "    Answers[\"ParentId\"] == Questions_Dim[\"Question_BK\"],\n",
    "    \"left\"\n",
    ").drop(\n",
    "    \"CreationDate_FullDate\", \"LastActivityDate_FullDate\",\n",
    "    \"AnswerId\", \"Answer_BK\",\n",
    "    \"OwnerUserId\", \"CreationDate\", \"LastActivityDate\",\n",
    "    \"User_BK\",\n",
    "    \"Body\",\"Question_BK\",\"ParentId\"\n",
    ")\n",
    "#Writing the file\n",
    "Answers_Fact_path = \"Gold/Answers_Fact\"\n",
    "Answers_Fact.write.mode(\"overwrite\").parquet(Answers_Fact_path)"
   ]
  },
  {
   "cell_type": "code",
   "execution_count": 71,
   "id": "02eeeaa2-e1ef-400f-b6a6-f1681818e2a5",
   "metadata": {},
   "outputs": [],
   "source": [
    "#Badge Fact Generation\n",
    "Badges = spark.read.parquet(r\"Silver_Facts\\Badges\")\n",
    "Badges= Badges.withColumnRenamed(\"User_fk\",\"UserId\").withColumnRenamed(\"Badge_Desc_Id\",\"BadgeId\")\n",
    "\n",
    "\n",
    "Badges_Fact = Badges.join(\n",
    "    Users_Dim.select(\"User_BK\", col(\"User_SK\").alias(\"User_FK\")),\n",
    "    Badges[\"UserId\"] == Users_Dim[\"User_BK\"],\n",
    "    \"left\"\n",
    ").join(\n",
    "    Date_Dim.select(\n",
    "        col(\"FullDate\").alias(\"Assigneddate_FullDate\"), \n",
    "        col(\"DateKey\").alias(\"AssignedDate_FK\")),\n",
    "    Badges[\"Assigneddate\"] == col(\"Assigneddate_FullDate\"),\n",
    "    \"left\"\n",
    ").join(\n",
    "    Badges_Dim.select(\n",
    "        \"Badge_BK\", col(\"Badge_SK\").alias(\"Badge_FK\")),\n",
    "    Badges[\"BadgeId\"] == col(\"Badge_FK\"),\n",
    "    \"left\"\n",
    ").withColumn(\"IsTagBased\", when(col(\"TagBased\") == True, 1).otherwise(0)\n",
    ").drop(\"AssingingBadge_BK\", \"UserId\", \"User_BK\", \"Assigneddate\", \"TagBased\", \"BadgeId\", \"Assigneddate_FullDate\", \"Badge_BK\")\n",
    "#Writing the file\n",
    "Badges_Fact_path = \"Gold/Badges_Fact\"\n",
    "Badges_Fact.write.mode(\"overwrite\").parquet(Badges_Fact_path)"
   ]
  },
  {
   "cell_type": "code",
   "execution_count": 75,
   "id": "3e9c2e25-47b7-4b4b-93fb-3d12320355ee",
   "metadata": {},
   "outputs": [
    {
     "name": "stdout",
     "output_type": "stream",
     "text": [
      "+---+------+------+-----+--------------------+------------+--------------+\n",
      "| Id|PostId|UserId|Score|                Text|CreationDate|ContentLicense|\n",
      "+---+------+------+-----+--------------------+------------+--------------+\n",
      "|  1|     3|    13|    7|Could be a poster...|  2010-07-19|  CC BY-SA 2.5|\n",
      "|  2|     5|    13|    0|Yes, R is nice- b...|  2010-07-19|  CC BY-SA 2.5|\n",
      "|  3|     9|    13|    1|Again- why?  How ...|  2010-07-19|  CC BY-SA 2.5|\n",
      "|  4|     5|    37|   11|It's mature, well...|  2010-07-19|  CC BY-SA 2.5|\n",
      "|  6|    14|    23|   10|why ask the quest...|  2010-07-19|  CC BY-SA 2.5|\n",
      "|  7|    18|    36|    1|also the US censu...|  2010-07-19|  CC BY-SA 2.5|\n",
      "|  9|    16|    78|    1|Andrew Gelman has...|  2010-07-19|  CC BY-SA 2.5|\n",
      "| 10|    23|    -2|    8|I am not sure I u...|  2010-07-19|  CC BY-SA 2.5|\n",
      "| 11|    43|     5|    5|There are many R ...|  2010-07-19|  CC BY-SA 2.5|\n",
      "| 12|    38|    54|    0|That's just an ex...|  2010-07-19|  CC BY-SA 2.5|\n",
      "| 13|    20|    24|    2|What levels of ku...|  2010-07-19|  CC BY-SA 2.5|\n",
      "| 14|    46|    74|    6|this is an incred...|  2010-07-19|  CC BY-SA 2.5|\n",
      "| 15|     3|    24|    3|Maybe the focus s...|  2010-07-19|  CC BY-SA 2.5|\n",
      "| 18|    36|    68|   19|http://xkcd.com/552/|  2010-07-19|  CC BY-SA 2.5|\n",
      "| 20|    54|    -2|    4|I am not sure if ...|  2010-07-19|  CC BY-SA 2.5|\n",
      "| 21|    77|     8|    1|I like the first ...|  2010-07-19|  CC BY-SA 2.5|\n",
      "| 22|    56|   104|   17|I like the analog...|  2010-07-19|  CC BY-SA 2.5|\n",
      "| 24|    73|   107|    1|Very subjective q...|  2010-07-19|  CC BY-SA 2.5|\n",
      "| 27|    77|    55|    1|There's an intere...|  2010-07-19|  CC BY-SA 2.5|\n",
      "| 29|    79|    55|    1|I wasn't suggesti...|  2010-07-19|  CC BY-SA 2.5|\n",
      "+---+------+------+-----+--------------------+------------+--------------+\n",
      "only showing top 20 rows\n",
      "\n"
     ]
    }
   ],
   "source": [
    "Comments = spark.read.parquet(r\"Silver_Facts\\Comments\")\n",
    "Comments.show()"
   ]
  },
  {
   "cell_type": "code",
   "execution_count": 77,
   "id": "b19b7b5b-73d7-4f52-a950-53af6e778a16",
   "metadata": {},
   "outputs": [
    {
     "name": "stdout",
     "output_type": "stream",
     "text": [
      "+---------+--------+-----------+--------------------+---------+\n",
      "|Answer_BK|ParentId|OwnerUserId|                Body|Answer_SK|\n",
      "+---------+--------+-----------+--------------------+---------+\n",
      "|        5|       3|         23|the rproject http...|        1|\n",
      "|        9|       3|         50|incanter is a clo...|        2|\n",
      "|       12|       7|          5|see my response t...|        3|\n",
      "|       13|       6|         23|machine learning ...|        4|\n",
      "|       14|       3|         36|i second that jay...|        5|\n",
      "|       15|       1|          6|john cook gives s...|        6|\n",
      "|       16|       3|          8|two projects spri...|        7|\n",
      "|       18|       7|         36|also see the uci ...|        8|\n",
      "|       19|       7|         55|gapminder has a n...|        9|\n",
      "|       20|       2|         37|the assumption of...|       10|\n",
      "|       24|       3|         61|for doing a varie...|       11|\n",
      "|       28|       3|         -2|gsl for those of ...|       12|\n",
      "|       29|      17|         36|contingency table...|       13|\n",
      "|       32|      25|          5|i recommend r see...|       14|\n",
      "|       38|      35|         61|if your mean valu...|       15|\n",
      "|       41|      26|         83|a quote from wiki...|       16|\n",
      "|       42|       3|         80|weka for data min...|       17|\n",
      "|       43|      25|         74|r is great but i ...|       18|\n",
      "|       45|      40|         55|the mersenne twis...|       19|\n",
      "|       46|      26|         62|a standard deviat...|       20|\n",
      "+---------+--------+-----------+--------------------+---------+\n",
      "only showing top 20 rows\n",
      "\n"
     ]
    }
   ],
   "source": [
    "Answers_Dim.show()"
   ]
  },
  {
   "cell_type": "code",
   "execution_count": null,
   "id": "5adaef8e-b96f-44c9-8b7f-5d7b18a6b4e9",
   "metadata": {},
   "outputs": [],
   "source": []
  },
  {
   "cell_type": "code",
   "execution_count": null,
   "id": "a01a1138-c564-4365-92c6-c2a41185c50f",
   "metadata": {},
   "outputs": [],
   "source": []
  }
 ],
 "metadata": {
  "kernelspec": {
   "display_name": "Spark Kernel",
   "language": "python",
   "name": "kernal_name"
  },
  "language_info": {
   "codemirror_mode": {
    "name": "ipython",
    "version": 3
   },
   "file_extension": ".py",
   "mimetype": "text/x-python",
   "name": "python",
   "nbconvert_exporter": "python",
   "pygments_lexer": "ipython3",
   "version": "3.11.11"
  }
 },
 "nbformat": 4,
 "nbformat_minor": 5
}
