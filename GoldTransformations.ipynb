{
 "cells": [
  {
   "cell_type": "code",
   "execution_count": 1,
   "metadata": {},
   "outputs": [],
   "source": [
    "#import findspark\n",
    "#findspark.init()\n",
    "import pyspark"
   ]
  },
  {
   "cell_type": "code",
   "execution_count": 2,
   "metadata": {},
   "outputs": [],
   "source": [
    "from pyspark.sql import SparkSession , Row\n",
    "from pyspark.sql.functions import *\n",
    "from pyspark.sql.types import *"
   ]
  },
  {
   "cell_type": "code",
   "execution_count": 3,
   "metadata": {},
   "outputs": [
    {
     "name": "stdout",
     "output_type": "stream",
     "text": [
      "Requirement already satisfied: beautifulsoup4 in d:\\mada\\programs\\anaconda\\envs\\lab2\\lib\\site-packages (4.13.3)\n",
      "Requirement already satisfied: soupsieve>1.2 in d:\\mada\\programs\\anaconda\\envs\\lab2\\lib\\site-packages (from beautifulsoup4) (2.6)\n",
      "Requirement already satisfied: typing-extensions>=4.0.0 in d:\\mada\\programs\\anaconda\\envs\\lab2\\lib\\site-packages (from beautifulsoup4) (4.12.2)\n"
     ]
    }
   ],
   "source": [
    "import sys , os\n",
    "!{sys.executable} -m pip install beautifulsoup4"
   ]
  },
  {
   "cell_type": "code",
   "execution_count": 4,
   "metadata": {},
   "outputs": [],
   "source": [
    "os.environ[\"PYSPARK_PYTHON\"] = sys.executable\n",
    "os.environ[\"PYSPARK_DRIVER_PYTHON\"] = sys.executable"
   ]
  },
  {
   "cell_type": "code",
   "execution_count": 5,
   "metadata": {},
   "outputs": [],
   "source": [
    "os.environ[\"HADOOP_HOME\"] = \"C:/Spark/spark-3.5.5-bin-hadoop3\"  \n",
    "os.environ[\"HADOOP_OPTS\"] = \"-Djava.library.path=C:/Spark/spark-3.5.5-bin-hadoop3/bin\""
   ]
  },
  {
   "cell_type": "code",
   "execution_count": null,
   "metadata": {},
   "outputs": [],
   "source": [
    "\\"
   ]
  },
  {
   "cell_type": "markdown",
   "metadata": {},
   "source": [
    "## Reading SilverDataset"
   ]
  },
  {
   "cell_type": "code",
   "execution_count": 8,
   "metadata": {},
   "outputs": [],
   "source": [
    "answers_df = spark.read.parquet(\"SilverDataset/Answers\")\n",
    "badge_desc_dim_df = spark.read.parquet(\"SilverDataset/Badge_Desc_Dim\")\n",
    "badges_fact_df = spark.read.parquet(\"SilverDataset/Badges_Fact\")\n",
    "comments_df = spark.read.parquet(\"SilverDataset/Comments\")\n",
    "questions_df = spark.read.parquet(\"SilverDataset/Questions\")\n",
    "vote_types_dim_df = spark.read.parquet(\"SilverDataset/Vote_Types_Dim\")\n",
    "votes_fact_df = spark.read.parquet(\"SilverDataset/Votes_Fact\")"
   ]
  },
  {
   "cell_type": "code",
   "execution_count": 7,
   "metadata": {},
   "outputs": [],
   "source": [
    "Tags_df = spark.read.parquet(\"SilverDataSet/Tags\")\n",
    "Users_df = spark.read.parquet(\"SilverDataSet/Users\")"
   ]
  },
  {
   "cell_type": "code",
   "execution_count": 9,
   "metadata": {},
   "outputs": [],
   "source": [
    "Date_Dim_df = spark.read.parquet(\"SilverDataSet/Date_Dim\")"
   ]
  },
  {
   "cell_type": "code",
   "execution_count": 11,
   "metadata": {},
   "outputs": [],
   "source": [
    "# This is a gold layer table\n",
    "Answers_Desc_Dim_df = spark.read.parquet(\"GoldDataSet/Answers_Desc_Dim\")"
   ]
  },
  {
   "cell_type": "markdown",
   "metadata": {},
   "source": [
    "## Making Conformed Dims "
   ]
  },
  {
   "cell_type": "code",
   "execution_count": 10,
   "metadata": {},
   "outputs": [
    {
     "name": "stdout",
     "output_type": "stream",
     "text": [
      "+----------+-----------+------------+----------------+----------------+--------------------+--------------------+--------------------+-----+---------+-----------+------------+\n",
      "|QuestionId|OwnerUserId|CreationDate|LastActivityDate|AcceptedAnswerId|                Body|               Title|                Tags|Score|ViewCount|AnswerCount|CommentCount|\n",
      "+----------+-----------+------------+----------------+----------------+--------------------+--------------------+--------------------+-----+---------+-----------+------------+\n",
      "|     95868|         -2|  2014-05-01|      2014-05-01|           95962|my attempt at mak...|Least Squares Fit...|[self-study, p-va...|    1|      135|          1|          19|\n",
      "|    146732|         -2|  2015-04-16|      2015-04-17|          146762|i have some troub...|Variance reductio...|[self-study, vari...|    7|     1733|          1|           5|\n",
      "|    151163|         -2|  2015-05-07|      2022-05-25|          151432|implement an esti...|Monte Carlo integ...|[self-study, simu...|    5|      601|          3|           5|\n",
      "|    252960|         -2|  2016-12-23|      2016-12-23|              -1|let b the lag ope...|Forecast of $(1-0...|[time-series, sel...|    1|       50|          0|           3|\n",
      "|    300402|         -2|  2017-08-29|      2017-08-30|              -1|let xsim npmusigm...|Hypothesis test a...|[probability, hyp...|    0|       60|          0|           2|\n",
      "|    156836|         -2|  2015-06-13|      2015-06-14|          156855|let x1xn random s...|Likelihood ratio ...|[hypothesis-testi...|    3|     9992|          1|           2|\n",
      "|    158971|         -2|  2015-06-27|      2015-06-28|              -1|let x1xn a random...|Karlin-Rubin theo...|[hypothesis-testi...|    1|     1554|          0|          14|\n",
      "|    222915|         -2|  2016-07-09|      2019-04-27|          222989|let x1 x2 cdots x...|Expectation of $\\...|[probability, sel...|   10|      276|          2|           0|\n",
      "|    152927|         -2|  2015-05-19|      2019-12-14|          153315|let x1ldotsxn be ...|UMVUE of $p^4$ wh...|[self-study, esti...|    2|     1082|          1|           1|\n",
      "|    215770|         -2|  2016-06-01|      2019-07-26|          215809|let ig denote inv...|Show that $\\frac{...|[probability, dis...|    3|     1555|          1|           3|\n",
      "|    181787|         -2|  2015-11-14|      2015-11-15|              -1|suppose that over...|Simultaneous conf...|[regression, self...|    0|      101|          0|           6|\n",
      "|      6609|         -2|  2011-01-27|      2011-02-25|              -1|question can you ...|How to do a repea...|    [logistic, spss]|    6|     2220|          1|           1|\n",
      "|    394647|         -2|  2019-02-27|      2019-02-27|          394666|this question is ...|How to interpret ...|[mixed-model, int...|    3|      305|          1|           0|\n",
      "|     62953|         -2|  2013-06-30|      2013-07-01|           63001|23 patients suffe...|How to test for \"...|  [r, distributions]|    2|      623|          1|           9|\n",
      "|    421582|         -2|  2019-08-09|      2019-08-15|              -1|i am working on a...|How to identify a...|[machine-learning...|    1|      807|          1|           0|\n",
      "|    603160|         -2|  2023-01-25|      2023-01-25|          603165|m1 glmnbnumber  f...|Regression Estima...|[r, regression, n...|    1|       60|          1|           5|\n",
      "|    401259|         -2|  2019-04-04|      2019-04-04|              -1|im really not sur...|Choosing perceptr...|[machine-learning...|    0|       52|          0|           3|\n",
      "|    324494|         -2|  2018-01-22|      2018-01-31|              -1|question practica...|Bonferroni correc...|        [bonferroni]|    1|      801|          2|           0|\n",
      "|      8083|         -2|  2011-03-09|      2011-03-10|              -1|revised version s...|One-sample-disper...|[hypothesis-testi...|    1|     1731|          2|           5|\n",
      "|    247986|         -2|  2016-11-26|      2016-12-18|              -1|im trying to see ...|Does regression w...|[regression, assu...|    8|     1114|          2|           8|\n",
      "+----------+-----------+------------+----------------+----------------+--------------------+--------------------+--------------------+-----+---------+-----------+------------+\n",
      "only showing top 20 rows\n",
      "\n"
     ]
    }
   ],
   "source": [
    "questions_df.show()"
   ]
  },
  {
   "cell_type": "code",
   "execution_count": 11,
   "metadata": {},
   "outputs": [
    {
     "name": "stdout",
     "output_type": "stream",
     "text": [
      "root\n",
      " |-- QuestionId: integer (nullable = true)\n",
      " |-- OwnerUserId: integer (nullable = true)\n",
      " |-- CreationDate: date (nullable = true)\n",
      " |-- LastActivityDate: date (nullable = true)\n",
      " |-- AcceptedAnswerId: integer (nullable = true)\n",
      " |-- Body: string (nullable = true)\n",
      " |-- Title: string (nullable = true)\n",
      " |-- Tags: array (nullable = true)\n",
      " |    |-- element: string (containsNull = true)\n",
      " |-- Score: integer (nullable = true)\n",
      " |-- ViewCount: integer (nullable = true)\n",
      " |-- AnswerCount: integer (nullable = true)\n",
      " |-- CommentCount: integer (nullable = true)\n",
      "\n"
     ]
    }
   ],
   "source": [
    "questions_df.printSchema()"
   ]
  },
  {
   "cell_type": "markdown",
   "metadata": {},
   "source": [
    "**Removing nulls if exists in Tags array**"
   ]
  },
  {
   "cell_type": "code",
   "execution_count": 12,
   "metadata": {},
   "outputs": [],
   "source": [
    "questions_filter_Tags_Nulls_df = questions_df.withColumn(\"Tags\", expr(\"filter(Tags, tag -> tag IS NOT NULL)\"))"
   ]
  },
  {
   "cell_type": "code",
   "execution_count": 13,
   "metadata": {},
   "outputs": [
    {
     "name": "stdout",
     "output_type": "stream",
     "text": [
      "root\n",
      " |-- QuestionId: integer (nullable = true)\n",
      " |-- OwnerUserId: integer (nullable = true)\n",
      " |-- CreationDate: date (nullable = true)\n",
      " |-- LastActivityDate: date (nullable = true)\n",
      " |-- AcceptedAnswerId: integer (nullable = true)\n",
      " |-- Body: string (nullable = true)\n",
      " |-- Title: string (nullable = true)\n",
      " |-- Tags: array (nullable = true)\n",
      " |    |-- element: string (containsNull = true)\n",
      " |-- Score: integer (nullable = true)\n",
      " |-- ViewCount: integer (nullable = true)\n",
      " |-- AnswerCount: integer (nullable = true)\n",
      " |-- CommentCount: integer (nullable = true)\n",
      "\n"
     ]
    }
   ],
   "source": [
    "questions_filter_Tags_Nulls_df.printSchema()            ####"
   ]
  },
  {
   "cell_type": "code",
   "execution_count": 14,
   "metadata": {},
   "outputs": [
    {
     "name": "stdout",
     "output_type": "stream",
     "text": [
      "+--------+\n",
      "|NullTags|\n",
      "+--------+\n",
      "|[]      |\n",
      "|[]      |\n",
      "|[]      |\n",
      "|[]      |\n",
      "|[]      |\n",
      "|[]      |\n",
      "|[]      |\n",
      "|[]      |\n",
      "|[]      |\n",
      "|[]      |\n",
      "|[]      |\n",
      "|[]      |\n",
      "|[]      |\n",
      "|[]      |\n",
      "|[]      |\n",
      "|[]      |\n",
      "|[]      |\n",
      "|[]      |\n",
      "|[]      |\n",
      "|[]      |\n",
      "+--------+\n",
      "only showing top 20 rows\n",
      "\n"
     ]
    }
   ],
   "source": [
    "questions_filter_Tags_Nulls_df.selectExpr(\"filter(Tags, tag -> tag IS NULL) as NullTags\").show(truncate=False)      ###\n"
   ]
  },
  {
   "cell_type": "markdown",
   "metadata": {},
   "source": [
    "## Question Desc Dim "
   ]
  },
  {
   "cell_type": "code",
   "execution_count": 15,
   "metadata": {},
   "outputs": [],
   "source": [
    "Question_Desc_Dim_df = questions_filter_Tags_Nulls_df.select('QuestionId','OwnerUserId','CreationDate','Body','Title')"
   ]
  },
  {
   "cell_type": "code",
   "execution_count": 16,
   "metadata": {},
   "outputs": [
    {
     "name": "stdout",
     "output_type": "stream",
     "text": [
      "+----------+-----------+------------+--------------------+--------------------+\n",
      "|QuestionId|OwnerUserId|CreationDate|                Body|               Title|\n",
      "+----------+-----------+------------+--------------------+--------------------+\n",
      "|     95868|         -2|  2014-05-01|my attempt at mak...|Least Squares Fit...|\n",
      "|    146732|         -2|  2015-04-16|i have some troub...|Variance reductio...|\n",
      "|    151163|         -2|  2015-05-07|implement an esti...|Monte Carlo integ...|\n",
      "|    252960|         -2|  2016-12-23|let b the lag ope...|Forecast of $(1-0...|\n",
      "|    300402|         -2|  2017-08-29|let xsim npmusigm...|Hypothesis test a...|\n",
      "|    156836|         -2|  2015-06-13|let x1xn random s...|Likelihood ratio ...|\n",
      "|    158971|         -2|  2015-06-27|let x1xn a random...|Karlin-Rubin theo...|\n",
      "|    222915|         -2|  2016-07-09|let x1 x2 cdots x...|Expectation of $\\...|\n",
      "|    152927|         -2|  2015-05-19|let x1ldotsxn be ...|UMVUE of $p^4$ wh...|\n",
      "|    215770|         -2|  2016-06-01|let ig denote inv...|Show that $\\frac{...|\n",
      "|    181787|         -2|  2015-11-14|suppose that over...|Simultaneous conf...|\n",
      "|      6609|         -2|  2011-01-27|question can you ...|How to do a repea...|\n",
      "|    394647|         -2|  2019-02-27|this question is ...|How to interpret ...|\n",
      "|     62953|         -2|  2013-06-30|23 patients suffe...|How to test for \"...|\n",
      "|    421582|         -2|  2019-08-09|i am working on a...|How to identify a...|\n",
      "|    603160|         -2|  2023-01-25|m1 glmnbnumber  f...|Regression Estima...|\n",
      "|    401259|         -2|  2019-04-04|im really not sur...|Choosing perceptr...|\n",
      "|    324494|         -2|  2018-01-22|question practica...|Bonferroni correc...|\n",
      "|      8083|         -2|  2011-03-09|revised version s...|One-sample-disper...|\n",
      "|    247986|         -2|  2016-11-26|im trying to see ...|Does regression w...|\n",
      "+----------+-----------+------------+--------------------+--------------------+\n",
      "only showing top 20 rows\n",
      "\n"
     ]
    }
   ],
   "source": [
    "Question_Desc_Dim_df.show()"
   ]
  },
  {
   "cell_type": "code",
   "execution_count": 17,
   "metadata": {},
   "outputs": [],
   "source": [
    "Question_Desc_Dim_df = Question_Desc_Dim_df.orderBy('CreationDate')"
   ]
  },
  {
   "cell_type": "code",
   "execution_count": 18,
   "metadata": {},
   "outputs": [
    {
     "name": "stdout",
     "output_type": "stream",
     "text": [
      "+----------+-----------+------------+--------------------+--------------------+\n",
      "|QuestionId|OwnerUserId|CreationDate|                Body|               Title|\n",
      "+----------+-----------+------------+--------------------+--------------------+\n",
      "|     16198|     112726|  2009-02-02|what do you call ...|What do you call ...|\n",
      "|     16207|         -2|  2009-04-12|we have a daemon ...|Correcting for ou...|\n",
      "|     16214|         -2|  2009-12-05|i am trying to vi...|Algorithms to eli...|\n",
      "|     16046|       1260|  2010-07-10|i have data with ...|Algorithms and me...|\n",
      "|        73|         22|  2010-07-19|duplicate thread ...|What R packages d...|\n",
      "|       103|          5|  2010-07-19|what is the best ...|What is your favo...|\n",
      "|       100|        117|  2010-07-19|id like to see th...|What's the purpos...|\n",
      "|       109|         25|  2010-07-19|following oneway ...|Power of Holm's m...|\n",
      "|        33|         69|  2010-07-19|what r packages s...|R packages for se...|\n",
      "|        35|         54|  2010-07-19|i have a data set...|Modelling a Poiss...|\n",
      "|        10|         24|  2010-07-19|many studies in t...|Under what condit...|\n",
      "|        50|         62|  2010-07-19|what do they mean...|What is meant by ...|\n",
      "|         3|         18|  2010-07-19|what are some val...|What are some val...|\n",
      "|        51|         68|  2010-07-19|are there any obj...|Measuring the eff...|\n",
      "|        54|         55|  2010-07-19|as i understand u...|Why do US and UK ...|\n",
      "|        23|         69|  2010-07-19|how can i find th...|Finding the PDF g...|\n",
      "|        25|         69|  2010-07-19|what modern tools...|Tools for modelin...|\n",
      "|        97|        114|  2010-07-19|i have some ordin...|What are good bas...|\n",
      "|        17|         -2|  2010-07-19|i have four compe...|How can I adapt A...|\n",
      "|        22|         66|  2010-07-19|how would you des...|Bayesian and freq...|\n",
      "+----------+-----------+------------+--------------------+--------------------+\n",
      "only showing top 20 rows\n",
      "\n"
     ]
    }
   ],
   "source": [
    "Question_Desc_Dim_df.show()                                         ######"
   ]
  },
  {
   "cell_type": "markdown",
   "metadata": {},
   "source": [
    "**Adding SK**"
   ]
  },
  {
   "cell_type": "code",
   "execution_count": 19,
   "metadata": {},
   "outputs": [],
   "source": [
    "Question_Desc_Dim_df = Question_Desc_Dim_df.withColumn(\"Questions_Desc_SK\",monotonically_increasing_id()+lit(1))"
   ]
  },
  {
   "cell_type": "code",
   "execution_count": 20,
   "metadata": {},
   "outputs": [
    {
     "name": "stdout",
     "output_type": "stream",
     "text": [
      "+----------+-----------+------------+--------------------+--------------------+-----------------+\n",
      "|QuestionId|OwnerUserId|CreationDate|                Body|               Title|Questions_Desc_SK|\n",
      "+----------+-----------+------------+--------------------+--------------------+-----------------+\n",
      "|     16198|     112726|  2009-02-02|what do you call ...|What do you call ...|                1|\n",
      "|     16207|         -2|  2009-04-12|we have a daemon ...|Correcting for ou...|                2|\n",
      "|     16214|         -2|  2009-12-05|i am trying to vi...|Algorithms to eli...|                3|\n",
      "|     16046|       1260|  2010-07-10|i have data with ...|Algorithms and me...|                4|\n",
      "|        73|         22|  2010-07-19|duplicate thread ...|What R packages d...|                5|\n",
      "|        22|         66|  2010-07-19|how would you des...|Bayesian and freq...|                6|\n",
      "|        44|         68|  2010-07-19|how would you exp...|Explain data visu...|                7|\n",
      "|         1|          8|  2010-07-19|how should i elic...|Eliciting priors ...|                8|\n",
      "|        36|          8|  2010-07-19|there is an old s...|Examples for teac...|                9|\n",
      "|        53|         17|  2010-07-19|what are the main...|PCA on correlatio...|               10|\n",
      "|        10|         24|  2010-07-19|many studies in t...|Under what condit...|               11|\n",
      "|        95|         57|  2010-07-19|i have been using...|How Large a Diffe...|               12|\n",
      "|         3|         18|  2010-07-19|what are some val...|What are some val...|               13|\n",
      "|       113|         39|  2010-07-19|i have been looki...|What are some goo...|               14|\n",
      "|        54|         55|  2010-07-19|as i understand u...|Why do US and UK ...|               15|\n",
      "|        21|         59|  2010-07-19|what are some of ...|Forecasting demog...|               16|\n",
      "|        33|         69|  2010-07-19|what r packages s...|R packages for se...|               17|\n",
      "|       100|        117|  2010-07-19|id like to see th...|What's the purpos...|               18|\n",
      "|       103|          5|  2010-07-19|what is the best ...|What is your favo...|               19|\n",
      "|       109|         25|  2010-07-19|following oneway ...|Power of Holm's m...|               20|\n",
      "+----------+-----------+------------+--------------------+--------------------+-----------------+\n",
      "only showing top 20 rows\n",
      "\n"
     ]
    }
   ],
   "source": [
    "Question_Desc_Dim_df.show()                 ###"
   ]
  },
  {
   "cell_type": "code",
   "execution_count": 21,
   "metadata": {},
   "outputs": [],
   "source": [
    "Question_Desc_Dim_df = Question_Desc_Dim_df.withColumnRenamed('QuestionId', 'Questions_Desc_BK')"
   ]
  },
  {
   "cell_type": "code",
   "execution_count": 22,
   "metadata": {},
   "outputs": [],
   "source": [
    "Question_Desc_Dim_df = Question_Desc_Dim_df.select('Questions_Desc_SK','Questions_Desc_BK','OwnerUserId','CreationDate','Body','Title')"
   ]
  },
  {
   "cell_type": "markdown",
   "metadata": {},
   "source": [
    "**Adding no question row**"
   ]
  },
  {
   "cell_type": "code",
   "execution_count": null,
   "metadata": {},
   "outputs": [],
   "source": [
    "# Create the row for 'no question' with Questions_Desc_SK = -1\n",
    "schema = StructType([\n",
    "    StructField(\"Questions_Desc_SK\", IntegerType(), False),\n",
    "    StructField(\"Questions_Desc_BK\", IntegerType(), True),  # Nullable\n",
    "    StructField(\"OwnerUserId\", IntegerType(), True),  # Nullable\n",
    "    StructField(\"CreationDate\", DateType(), True),  # Nullable\n",
    "    StructField(\"Body\", StringType(), True),\n",
    "    StructField(\"Title\", StringType(), True),\n",
    "])\n",
    "no_question_row = Row(\n",
    "    Questions_Desc_SK=-1,  \n",
    "    Questions_Desc_BK=None,  \n",
    "    OwnerUserId=None,  \n",
    "    CreationDate=None,  \n",
    "    Body=\"No question\",  \n",
    "    Title=\"No title\",  \n",
    ")\n",
    "\n",
    "# Convert to DataFrame\n",
    "no_question_df = spark.createDataFrame([no_question_row],schema)\n",
    "\n",
    "# Union the new 'no question' row with the existing DataFrame\n",
    "Question_Desc_Dim_df = Question_Desc_Dim_df.union(no_question_df)"
   ]
  },
  {
   "cell_type": "code",
   "execution_count": 62,
   "metadata": {},
   "outputs": [],
   "source": [
    "Question_Desc_Dim_df = Question_Desc_Dim_df.orderBy('Questions_Desc_SK')"
   ]
  },
  {
   "cell_type": "code",
   "execution_count": 63,
   "metadata": {},
   "outputs": [
    {
     "name": "stdout",
     "output_type": "stream",
     "text": [
      "+-----------------+-----------------+-----------+------------+--------------------+--------------------+\n",
      "|Questions_Desc_SK|Questions_Desc_BK|OwnerUserId|CreationDate|                Body|               Title|\n",
      "+-----------------+-----------------+-----------+------------+--------------------+--------------------+\n",
      "|               -1|             NULL|       NULL|        NULL|         No question|            No title|\n",
      "|                1|            16198|     112726|  2009-02-02|what do you call ...|What do you call ...|\n",
      "|                2|            16207|         -2|  2009-04-12|we have a daemon ...|Correcting for ou...|\n",
      "|                3|            16214|         -2|  2009-12-05|i am trying to vi...|Algorithms to eli...|\n",
      "|                4|            16046|       1260|  2010-07-10|i have data with ...|Algorithms and me...|\n",
      "|                5|               73|         22|  2010-07-19|duplicate thread ...|What R packages d...|\n",
      "|                6|               22|         66|  2010-07-19|how would you des...|Bayesian and freq...|\n",
      "|                7|               44|         68|  2010-07-19|how would you exp...|Explain data visu...|\n",
      "|                8|                1|          8|  2010-07-19|how should i elic...|Eliciting priors ...|\n",
      "|                9|               36|          8|  2010-07-19|there is an old s...|Examples for teac...|\n",
      "|               10|               53|         17|  2010-07-19|what are the main...|PCA on correlatio...|\n",
      "|               11|               10|         24|  2010-07-19|many studies in t...|Under what condit...|\n",
      "|               12|               95|         57|  2010-07-19|i have been using...|How Large a Diffe...|\n",
      "|               13|                3|         18|  2010-07-19|what are some val...|What are some val...|\n",
      "|               14|              113|         39|  2010-07-19|i have been looki...|What are some goo...|\n",
      "|               15|               54|         55|  2010-07-19|as i understand u...|Why do US and UK ...|\n",
      "|               16|               21|         59|  2010-07-19|what are some of ...|Forecasting demog...|\n",
      "|               17|               33|         69|  2010-07-19|what r packages s...|R packages for se...|\n",
      "|               18|              100|        117|  2010-07-19|id like to see th...|What's the purpos...|\n",
      "|               19|              103|          5|  2010-07-19|what is the best ...|What is your favo...|\n",
      "+-----------------+-----------------+-----------+------------+--------------------+--------------------+\n",
      "only showing top 20 rows\n",
      "\n"
     ]
    }
   ],
   "source": [
    "Question_Desc_Dim_df.show()"
   ]
  },
  {
   "cell_type": "code",
   "execution_count": 64,
   "metadata": {},
   "outputs": [],
   "source": [
    "Question_Desc_Dim_df.coalesce(1).write.mode(\"overwrite\").parquet(\"GoldDataSet/Question_Desc_Dim\")"
   ]
  },
  {
   "cell_type": "code",
   "execution_count": 25,
   "metadata": {},
   "outputs": [],
   "source": [
    "Question_Desc_Dim_parquet_df = spark.read.parquet(\"GoldDataSet/Question_Desc_Dim\")      ###"
   ]
  },
  {
   "cell_type": "code",
   "execution_count": 26,
   "metadata": {},
   "outputs": [
    {
     "name": "stdout",
     "output_type": "stream",
     "text": [
      "+-----------------+-----------------+-----------+------------+--------------------+--------------------+\n",
      "|Questions_Desc_SK|Questions_Desc_BK|OwnerUserId|CreationDate|                Body|               Title|\n",
      "+-----------------+-----------------+-----------+------------+--------------------+--------------------+\n",
      "|                1|            16198|     112726|  2009-02-02|what do you call ...|What do you call ...|\n",
      "|                2|            16207|         -2|  2009-04-12|we have a daemon ...|Correcting for ou...|\n",
      "|                3|            16214|         -2|  2009-12-05|i am trying to vi...|Algorithms to eli...|\n",
      "|                4|            16046|       1260|  2010-07-10|i have data with ...|Algorithms and me...|\n",
      "|                5|               73|         22|  2010-07-19|duplicate thread ...|What R packages d...|\n",
      "|                6|               22|         66|  2010-07-19|how would you des...|Bayesian and freq...|\n",
      "|                7|               44|         68|  2010-07-19|how would you exp...|Explain data visu...|\n",
      "|                8|                1|          8|  2010-07-19|how should i elic...|Eliciting priors ...|\n",
      "|                9|               36|          8|  2010-07-19|there is an old s...|Examples for teac...|\n",
      "|               10|               53|         17|  2010-07-19|what are the main...|PCA on correlatio...|\n",
      "|               11|               10|         24|  2010-07-19|many studies in t...|Under what condit...|\n",
      "|               12|               95|         57|  2010-07-19|i have been using...|How Large a Diffe...|\n",
      "|               13|                3|         18|  2010-07-19|what are some val...|What are some val...|\n",
      "|               14|              113|         39|  2010-07-19|i have been looki...|What are some goo...|\n",
      "|               15|               54|         55|  2010-07-19|as i understand u...|Why do US and UK ...|\n",
      "|               16|               21|         59|  2010-07-19|what are some of ...|Forecasting demog...|\n",
      "|               17|               33|         69|  2010-07-19|what r packages s...|R packages for se...|\n",
      "|               18|              100|        117|  2010-07-19|id like to see th...|What's the purpos...|\n",
      "|               19|              103|          5|  2010-07-19|what is the best ...|What is your favo...|\n",
      "|               20|              109|         25|  2010-07-19|following oneway ...|Power of Holm's m...|\n",
      "+-----------------+-----------------+-----------+------------+--------------------+--------------------+\n",
      "only showing top 20 rows\n",
      "\n"
     ]
    }
   ],
   "source": [
    "Question_Desc_Dim_parquet_df.show()             ###"
   ]
  },
  {
   "cell_type": "markdown",
   "metadata": {},
   "source": [
    "## Bridge Table Tags_Questions"
   ]
  },
  {
   "cell_type": "code",
   "execution_count": 27,
   "metadata": {},
   "outputs": [],
   "source": [
    "exploded_tags_df = questions_df.select(\n",
    "    \"QuestionId\", \n",
    "    explode(\"Tags\").alias(\"Tag\")\n",
    ")"
   ]
  },
  {
   "cell_type": "code",
   "execution_count": 28,
   "metadata": {},
   "outputs": [
    {
     "name": "stdout",
     "output_type": "stream",
     "text": [
      "+----------+--------------------+\n",
      "|QuestionId|                 Tag|\n",
      "+----------+--------------------+\n",
      "|     95868|          self-study|\n",
      "|     95868|             p-value|\n",
      "|     95868|  standard-deviation|\n",
      "|     95868|       least-squares|\n",
      "|     95868|     sums-of-squares|\n",
      "|    146732|          self-study|\n",
      "|    146732|            variance|\n",
      "|    146732|          simulation|\n",
      "|    146732|         monte-carlo|\n",
      "|    146732|numerical-integra...|\n",
      "|    151163|          self-study|\n",
      "|    151163|          simulation|\n",
      "|    151163|         monte-carlo|\n",
      "|    151163| importance-sampling|\n",
      "|    252960|         time-series|\n",
      "|    252960|          self-study|\n",
      "|    252960|         forecasting|\n",
      "|    252960|               arima|\n",
      "|    300402|         probability|\n",
      "|    300402|  hypothesis-testing|\n",
      "+----------+--------------------+\n",
      "only showing top 20 rows\n",
      "\n"
     ]
    }
   ],
   "source": [
    "exploded_tags_df.show()"
   ]
  },
  {
   "cell_type": "code",
   "execution_count": 29,
   "metadata": {},
   "outputs": [],
   "source": [
    "Qs_Tags_Bridge = exploded_tags_df.join(Question_Desc_Dim_df, exploded_tags_df.QuestionId==Question_Desc_Dim_df.Questions_Desc_BK,'left' )"
   ]
  },
  {
   "cell_type": "code",
   "execution_count": 30,
   "metadata": {},
   "outputs": [],
   "source": [
    "Qs_Tags_Bridge = Qs_Tags_Bridge.select('Questions_Desc_SK','Tag').orderBy('Questions_Desc_SK')"
   ]
  },
  {
   "cell_type": "code",
   "execution_count": 31,
   "metadata": {},
   "outputs": [
    {
     "name": "stdout",
     "output_type": "stream",
     "text": [
      "+-----------------+------------------+\n",
      "|Questions_Desc_SK|               Tag|\n",
      "+-----------------+------------------+\n",
      "|                1|       terminology|\n",
      "|                1|          outliers|\n",
      "|                1| types-of-averages|\n",
      "|                2|          outliers|\n",
      "|                2|    moving-average|\n",
      "|                2|    cooks-distance|\n",
      "|                3|data-visualization|\n",
      "|                3|      graph-theory|\n",
      "|                4|                 r|\n",
      "|                4|  machine-learning|\n",
      "|                4|       data-mining|\n",
      "|                4| feature-selection|\n",
      "|                5|                 r|\n",
      "|                6|       frequentist|\n",
      "|                6|          bayesian|\n",
      "|                7|data-visualization|\n",
      "|                7|         intuition|\n",
      "|                8|          bayesian|\n",
      "|                8|             prior|\n",
      "|                8|       elicitation|\n",
      "+-----------------+------------------+\n",
      "only showing top 20 rows\n",
      "\n"
     ]
    }
   ],
   "source": [
    "Qs_Tags_Bridge.show()"
   ]
  },
  {
   "cell_type": "code",
   "execution_count": 32,
   "metadata": {},
   "outputs": [
    {
     "name": "stdout",
     "output_type": "stream",
     "text": [
      "+---+--------------------+-----+-------------+-------+\n",
      "| Id|             TagName|Count|TagDescPostId|TagDesc|\n",
      "+---+--------------------+-----+-------------+-------+\n",
      "|  3|         elicitation|   12|         NULL|   NULL|\n",
      "|  5|         open-source|   18|         NULL|   NULL|\n",
      "| 18|       multivariable|   39|         NULL|   NULL|\n",
      "| 52|      transportation|   11|         NULL|   NULL|\n",
      "|117|             polling|   46|         NULL|   NULL|\n",
      "|177|             disease|   34|         NULL|   NULL|\n",
      "|196|information-retri...|  114|         NULL|   NULL|\n",
      "|197|          monitoring|   14|         NULL|   NULL|\n",
      "|204|               humor|    6|         NULL|   NULL|\n",
      "|270|           real-time|   52|         NULL|   NULL|\n",
      "|393|         conferences|    7|         NULL|   NULL|\n",
      "|394|    scale-invariance|   54|         NULL|   NULL|\n",
      "|428|          topologies|   21|         NULL|   NULL|\n",
      "|460|                 gpu|   13|         NULL|   NULL|\n",
      "|461|  parallel-computing|   46|         NULL|   NULL|\n",
      "|494|             frailty|   54|         NULL|   NULL|\n",
      "|539|             fractal|   18|         NULL|   NULL|\n",
      "|556|           multicore|    4|         NULL|   NULL|\n",
      "|557|              tables|   71|         NULL|   NULL|\n",
      "|669|              bounds|  251|         NULL|   NULL|\n",
      "+---+--------------------+-----+-------------+-------+\n",
      "only showing top 20 rows\n",
      "\n"
     ]
    }
   ],
   "source": [
    "Tags_df.show()"
   ]
  },
  {
   "cell_type": "code",
   "execution_count": 42,
   "metadata": {},
   "outputs": [],
   "source": [
    "total_rows = Tags_df.count()\n",
    "\n",
    "null_percentages = Tags_df.select([\n",
    "    (sum(when(col(c).isNull(), 1).otherwise(0)) / total_rows * 100).alias(c) \n",
    "    for c in Tags_df.columns\n",
    "])"
   ]
  },
  {
   "cell_type": "code",
   "execution_count": 43,
   "metadata": {},
   "outputs": [
    {
     "name": "stdout",
     "output_type": "stream",
     "text": [
      "+---+-------+-----+------------------+------------------+\n",
      "| Id|TagName|Count|     TagDescPostId|           TagDesc|\n",
      "+---+-------+-----+------------------+------------------+\n",
      "|0.0|    0.0|  0.0|24.107701941139638|24.107701941139638|\n",
      "+---+-------+-----+------------------+------------------+\n",
      "\n"
     ]
    }
   ],
   "source": [
    "null_percentages.show()"
   ]
  },
  {
   "cell_type": "code",
   "execution_count": 34,
   "metadata": {},
   "outputs": [
    {
     "name": "stdout",
     "output_type": "stream",
     "text": [
      "+---+-------+-----+-------------+-------+\n",
      "| Id|TagName|Count|TagDescPostId|TagDesc|\n",
      "+---+-------+-----+-------------+-------+\n",
      "|  0|      0|    0|          385|    385|\n",
      "+---+-------+-----+-------------+-------+\n",
      "\n"
     ]
    }
   ],
   "source": [
    "null_counts.show()\n"
   ]
  },
  {
   "cell_type": "code",
   "execution_count": 35,
   "metadata": {},
   "outputs": [],
   "source": [
    "Qs_Tags_Bridge = Qs_Tags_Bridge.join(Tags_df, Tags_df.TagName==Qs_Tags_Bridge.Tag,'left' )"
   ]
  },
  {
   "cell_type": "code",
   "execution_count": 36,
   "metadata": {},
   "outputs": [],
   "source": [
    "Qs_Tags_Bridge = Qs_Tags_Bridge.select('Questions_Desc_SK','Id','TagName')"
   ]
  },
  {
   "cell_type": "code",
   "execution_count": 38,
   "metadata": {},
   "outputs": [],
   "source": [
    "Qs_Tags_Bridge = Qs_Tags_Bridge.withColumnRenamed('Id','TagID')"
   ]
  },
  {
   "cell_type": "code",
   "execution_count": 39,
   "metadata": {},
   "outputs": [
    {
     "name": "stdout",
     "output_type": "stream",
     "text": [
      "+-----------------+-----+--------------------+\n",
      "|Questions_Desc_SK|TagID|             TagName|\n",
      "+-----------------+-----+--------------------+\n",
      "|            48540| 1483|          self-study|\n",
      "|            48540|  631|          simulation|\n",
      "|            48540|  449|         monte-carlo|\n",
      "|            48540| 1202| importance-sampling|\n",
      "|            96402|  188|         probability|\n",
      "|            96402|   38|  hypothesis-testing|\n",
      "|            96402| 1483|          self-study|\n",
      "|            47352| 1483|          self-study|\n",
      "|            47352|  147|            variance|\n",
      "|            47352|  631|          simulation|\n",
      "|            47352|  449|         monte-carlo|\n",
      "|            47352| 1463|numerical-integra...|\n",
      "|            31462| 1483|          self-study|\n",
      "|            31462|   39|             p-value|\n",
      "|            31462|   33|  standard-deviation|\n",
      "|            31462|  160|       least-squares|\n",
      "|            31462|  691|     sums-of-squares|\n",
      "|            81292|   30|         time-series|\n",
      "|            81292| 1483|          self-study|\n",
      "|            81292|   74|         forecasting|\n",
      "+-----------------+-----+--------------------+\n",
      "only showing top 20 rows\n",
      "\n"
     ]
    }
   ],
   "source": [
    "Qs_Tags_Bridge.show()"
   ]
  },
  {
   "cell_type": "code",
   "execution_count": 40,
   "metadata": {},
   "outputs": [],
   "source": [
    "Qs_Tags_Bridge.coalesce(1).write.mode(\"overwrite\").parquet(\"GoldDataSet/Qs_Tags_Bridge\")"
   ]
  },
  {
   "cell_type": "markdown",
   "metadata": {},
   "source": [
    "## Working on tags "
   ]
  },
  {
   "cell_type": "code",
   "execution_count": null,
   "metadata": {},
   "outputs": [
    {
     "name": "stdout",
     "output_type": "stream",
     "text": [
      "+---+--------------------+-----+-------------+-------+\n",
      "| Id|             TagName|Count|TagDescPostId|TagDesc|\n",
      "+---+--------------------+-----+-------------+-------+\n",
      "|  3|         elicitation|   12|         NULL|   NULL|\n",
      "|  5|         open-source|   18|         NULL|   NULL|\n",
      "| 18|       multivariable|   39|         NULL|   NULL|\n",
      "| 52|      transportation|   11|         NULL|   NULL|\n",
      "|117|             polling|   46|         NULL|   NULL|\n",
      "|177|             disease|   34|         NULL|   NULL|\n",
      "|196|information-retri...|  114|         NULL|   NULL|\n",
      "|197|          monitoring|   14|         NULL|   NULL|\n",
      "|204|               humor|    6|         NULL|   NULL|\n",
      "|270|           real-time|   52|         NULL|   NULL|\n",
      "|393|         conferences|    7|         NULL|   NULL|\n",
      "|394|    scale-invariance|   54|         NULL|   NULL|\n",
      "|428|          topologies|   21|         NULL|   NULL|\n",
      "|460|                 gpu|   13|         NULL|   NULL|\n",
      "|461|  parallel-computing|   46|         NULL|   NULL|\n",
      "|494|             frailty|   54|         NULL|   NULL|\n",
      "|539|             fractal|   18|         NULL|   NULL|\n",
      "|556|           multicore|    4|         NULL|   NULL|\n",
      "|557|              tables|   71|         NULL|   NULL|\n",
      "|669|              bounds|  251|         NULL|   NULL|\n",
      "+---+--------------------+-----+-------------+-------+\n",
      "only showing top 20 rows\n",
      "\n"
     ]
    }
   ],
   "source": [
    "Tags_df.show()              ###"
   ]
  },
  {
   "cell_type": "code",
   "execution_count": null,
   "metadata": {},
   "outputs": [],
   "source": [
    "Tags_df = Tags_df.withColumnRenamed('Id','Tag_BK')\n",
    "Tags_df = Tags_df.withColumnRenamed('Count','Total_Count')"
   ]
  },
  {
   "cell_type": "code",
   "execution_count": 46,
   "metadata": {},
   "outputs": [],
   "source": [
    "Tags_df = Tags_df.drop('TagDescPostId')"
   ]
  },
  {
   "cell_type": "code",
   "execution_count": null,
   "metadata": {},
   "outputs": [],
   "source": [
    "Tags_df= Tags_df.withColumn(\"Tag_SK\",monotonically_increasing_id()+lit(1))"
   ]
  },
  {
   "cell_type": "code",
   "execution_count": 51,
   "metadata": {},
   "outputs": [],
   "source": [
    "Tags_df = Tags_df.select('Tag_SK','Tag_BK','TagName','Total_Count','TagDesc')"
   ]
  },
  {
   "cell_type": "code",
   "execution_count": 52,
   "metadata": {},
   "outputs": [
    {
     "name": "stdout",
     "output_type": "stream",
     "text": [
      "+------+------+--------------------+-----------+-------+\n",
      "|Tag_SK|Tag_BK|             TagName|Total_Count|TagDesc|\n",
      "+------+------+--------------------+-----------+-------+\n",
      "|     1|     3|         elicitation|         12|   NULL|\n",
      "|     2|     5|         open-source|         18|   NULL|\n",
      "|     3|    18|       multivariable|         39|   NULL|\n",
      "|     4|    52|      transportation|         11|   NULL|\n",
      "|     5|   117|             polling|         46|   NULL|\n",
      "|     6|   177|             disease|         34|   NULL|\n",
      "|     7|   196|information-retri...|        114|   NULL|\n",
      "|     8|   197|          monitoring|         14|   NULL|\n",
      "|     9|   204|               humor|          6|   NULL|\n",
      "|    10|   270|           real-time|         52|   NULL|\n",
      "|    11|   393|         conferences|          7|   NULL|\n",
      "|    12|   394|    scale-invariance|         54|   NULL|\n",
      "|    13|   428|          topologies|         21|   NULL|\n",
      "|    14|   460|                 gpu|         13|   NULL|\n",
      "|    15|   461|  parallel-computing|         46|   NULL|\n",
      "|    16|   494|             frailty|         54|   NULL|\n",
      "|    17|   539|             fractal|         18|   NULL|\n",
      "|    18|   556|           multicore|          4|   NULL|\n",
      "|    19|   557|              tables|         71|   NULL|\n",
      "|    20|   669|              bounds|        251|   NULL|\n",
      "+------+------+--------------------+-----------+-------+\n",
      "only showing top 20 rows\n",
      "\n"
     ]
    }
   ],
   "source": [
    "Tags_df.show()              ###"
   ]
  },
  {
   "cell_type": "code",
   "execution_count": 53,
   "metadata": {},
   "outputs": [],
   "source": [
    "Tags_df.coalesce(1).write.mode(\"overwrite\").parquet(\"GoldDataSet/Tags_Dim\")"
   ]
  },
  {
   "cell_type": "markdown",
   "metadata": {},
   "source": [
    "## Adjusting Users Table "
   ]
  },
  {
   "cell_type": "code",
   "execution_count": 66,
   "metadata": {},
   "outputs": [
    {
     "name": "stdout",
     "output_type": "stream",
     "text": [
      "+------------+-----------------+---------+----------+--------------+----------+-------+-----+\n",
      "|CreationDate|      DisplayName|DownVotes|UsersId_BK|LastAccessDate|Reputation|UpVotes|Views|\n",
      "+------------+-----------------+---------+----------+--------------+----------+-------+-----+\n",
      "|  2017-06-11|       phantomile|        0|    164892|    2021-03-16|         1|      0|    1|\n",
      "|  2017-06-11|         woofwoof|        0|    164893|    2021-10-18|       101|      0|    0|\n",
      "|  2017-06-12|       user164894|        0|    164894|    2017-06-19|        21|      0|    0|\n",
      "|  2017-06-12|     Parth Sharma|        0|    164895|    2021-09-14|         3|      0|    1|\n",
      "|  2017-06-12|Jacques Thibodeau|        0|    164896|    2023-01-04|       101|      5|    2|\n",
      "|  2017-06-12|       user164897|        0|    164897|    2017-06-19|         1|      0|    0|\n",
      "|  2017-06-12|             Amin|        0|    164898|    2023-03-17|       161|      0|    1|\n",
      "|  2017-06-12|      Sagar Patel|        0|    164899|    2017-06-26|        67|      0|   11|\n",
      "|  2017-06-12|          Lois Hu|        0|    164900|    2017-06-12|         1|      0|    0|\n",
      "|  2017-06-12| Raj Kumar Subedi|        0|    164901|    2019-03-24|         1|      0|    0|\n",
      "|  2017-06-12|           Thufir|        0|    164902|    2020-05-19|       101|      0|    0|\n",
      "|  2017-06-12|           sjc725|        0|    164903|    2017-06-12|        71|      0|   53|\n",
      "|  2017-06-12|         tekumara|        0|    164904|    2021-12-22|       101|     16|    0|\n",
      "|  2017-06-12|           sjc725|        0|    164905|    2020-01-02|       101|      0|   34|\n",
      "|  2017-06-12|           Tam Le|        0|    164906|    2023-07-28|       183|      0|   18|\n",
      "|  2017-06-12|      Jianjun Zhu|        0|    164907|    2017-06-12|         1|      0|    0|\n",
      "|  2017-06-12|      user2728933|        0|    164908|    2022-04-19|        11|      0|    2|\n",
      "|  2017-06-12|              Jkk|        0|    164909|    2017-06-12|         1|      0|    1|\n",
      "|  2017-06-12|           Sarahd|        0|    164910|    2017-06-14|         1|      0|    0|\n",
      "|  2017-06-12|           Morven|        0|    164911|    2017-06-12|         1|      0|    0|\n",
      "+------------+-----------------+---------+----------+--------------+----------+-------+-----+\n",
      "only showing top 20 rows\n",
      "\n"
     ]
    }
   ],
   "source": [
    "Users_df.show()"
   ]
  },
  {
   "cell_type": "code",
   "execution_count": 67,
   "metadata": {},
   "outputs": [],
   "source": [
    "Users_df = Users_df.withColumn(\"UsersID_SK\",monotonically_increasing_id()+lit(1)).orderBy('UsersID_SK')"
   ]
  },
  {
   "cell_type": "code",
   "execution_count": 70,
   "metadata": {},
   "outputs": [
    {
     "name": "stdout",
     "output_type": "stream",
     "text": [
      "+----------+----------+------------+-----------------+--------------+----------+-----+-------+---------+\n",
      "|UsersID_SK|UsersId_BK|CreationDate|      DisplayName|LastAccessDate|Reputation|Views|UpVotes|DownVotes|\n",
      "+----------+----------+------------+-----------------+--------------+----------+-----+-------+---------+\n",
      "|         1|    164892|  2017-06-11|       phantomile|    2021-03-16|         1|    1|      0|        0|\n",
      "|         2|    164893|  2017-06-11|         woofwoof|    2021-10-18|       101|    0|      0|        0|\n",
      "|         3|    164894|  2017-06-12|       user164894|    2017-06-19|        21|    0|      0|        0|\n",
      "|         4|    164895|  2017-06-12|     Parth Sharma|    2021-09-14|         3|    1|      0|        0|\n",
      "|         5|    164896|  2017-06-12|Jacques Thibodeau|    2023-01-04|       101|    2|      5|        0|\n",
      "|         6|    164897|  2017-06-12|       user164897|    2017-06-19|         1|    0|      0|        0|\n",
      "|         7|    164898|  2017-06-12|             Amin|    2023-03-17|       161|    1|      0|        0|\n",
      "|         8|    164899|  2017-06-12|      Sagar Patel|    2017-06-26|        67|   11|      0|        0|\n",
      "|         9|    164900|  2017-06-12|          Lois Hu|    2017-06-12|         1|    0|      0|        0|\n",
      "|        10|    164901|  2017-06-12| Raj Kumar Subedi|    2019-03-24|         1|    0|      0|        0|\n",
      "|        11|    164902|  2017-06-12|           Thufir|    2020-05-19|       101|    0|      0|        0|\n",
      "|        12|    164903|  2017-06-12|           sjc725|    2017-06-12|        71|   53|      0|        0|\n",
      "|        13|    164904|  2017-06-12|         tekumara|    2021-12-22|       101|    0|     16|        0|\n",
      "|        14|    164905|  2017-06-12|           sjc725|    2020-01-02|       101|   34|      0|        0|\n",
      "|        15|    164906|  2017-06-12|           Tam Le|    2023-07-28|       183|   18|      0|        0|\n",
      "|        16|    164907|  2017-06-12|      Jianjun Zhu|    2017-06-12|         1|    0|      0|        0|\n",
      "|        17|    164908|  2017-06-12|      user2728933|    2022-04-19|        11|    2|      0|        0|\n",
      "|        18|    164909|  2017-06-12|              Jkk|    2017-06-12|         1|    1|      0|        0|\n",
      "|        19|    164910|  2017-06-12|           Sarahd|    2017-06-14|         1|    0|      0|        0|\n",
      "|        20|    164911|  2017-06-12|           Morven|    2017-06-12|         1|    0|      0|        0|\n",
      "+----------+----------+------------+-----------------+--------------+----------+-----+-------+---------+\n",
      "only showing top 20 rows\n",
      "\n"
     ]
    }
   ],
   "source": [
    "Users_df.show()"
   ]
  },
  {
   "cell_type": "code",
   "execution_count": 69,
   "metadata": {},
   "outputs": [],
   "source": [
    "Users_df = Users_df.select('UsersID_SK','UsersId_BK','CreationDate','DisplayName','LastAccessDate','Reputation','Views','UpVotes','DownVotes')"
   ]
  },
  {
   "cell_type": "code",
   "execution_count": 73,
   "metadata": {},
   "outputs": [
    {
     "name": "stdout",
     "output_type": "stream",
     "text": [
      "+----------+----------+------------+------------------+--------------+----------+-----+-------+---------+\n",
      "|UsersID_SK|UsersId_BK|CreationDate|       DisplayName|LastAccessDate|Reputation|Views|UpVotes|DownVotes|\n",
      "+----------+----------+------------+------------------+--------------+----------+-----+-------+---------+\n",
      "|        -1|        -2|        NULL|           No User|          NULL|         0|    0|      0|        0|\n",
      "|8589934593|        -1|  2010-07-19|         Community|    2010-07-19|         1| 3131|  17823|     9720|\n",
      "|8589934594|         2|  2010-07-19|      Geoff Dalgas|    2019-02-08|       101|   49|      3|        0|\n",
      "|8589934595|         3|  2010-07-19|      Jarrod Dixon|    2019-02-07|       101|   50|     23|        0|\n",
      "|8589934596|         4|  2010-07-19|            Emmett|    2016-11-24|       101|   24|      0|        0|\n",
      "|8589934597|         5|  2010-07-19|             Shane|    2022-12-07|     12151| 2101|    684|        5|\n",
      "|8589934598|         6|  2010-07-19|            Harlan|    2022-07-14|       842|  217|     65|        0|\n",
      "|8589934599|         7|  2010-07-19|             Vince|    2023-07-02|       805|  115|     71|        0|\n",
      "|8589934600|         8|  2010-07-19|       csgillespie|    2023-09-01|     12069| 2167|    635|       29|\n",
      "|8589934601|        10|  2010-07-19|            Pierre|    2023-03-22|       131|   27|      8|        0|\n",
      "|8589934602|        11|  2010-07-19|          wahalulu|    2023-08-08|       171|   19|     10|        0|\n",
      "|8589934603|        12|  2010-07-19|               Jin|    2020-04-15|       101|   23|      5|        0|\n",
      "|8589934604|        13|  2010-07-19|           Sharpie|    2014-08-14|      4296|  467|     44|        1|\n",
      "|8589934605|        15|  2010-07-19|     hannes.koller|    2021-04-12|       111|    9|      0|        0|\n",
      "|8589934606|        16|  2010-07-19|         slashnick|    2019-07-31|       101|    7|      7|        0|\n",
      "|8589934607|        17|  2010-07-19|            Random|    2010-09-10|      2250|   72|     13|        1|\n",
      "|8589934608|        18|  2010-07-19|            grokus|    2021-03-10|       233|   20|     16|        0|\n",
      "|8589934609|        19|  2010-07-19|       Noah Snyder|    2023-05-15|       101|   15|      5|        0|\n",
      "|8589934610|        21|  2010-07-19|Waleed Al-Balooshi|    2011-09-26|       101|   11|      0|        0|\n",
      "|8589934611|        22|  2010-07-19|             radek|    2023-02-14|      1377|  300|   1151|        8|\n",
      "+----------+----------+------------+------------------+--------------+----------+-----+-------+---------+\n",
      "only showing top 20 rows\n",
      "\n"
     ]
    }
   ],
   "source": [
    "Users_df.orderBy('UsersId_BK').show()"
   ]
  },
  {
   "cell_type": "markdown",
   "metadata": {},
   "source": [
    "**Adding the no user row**"
   ]
  },
  {
   "cell_type": "code",
   "execution_count": 72,
   "metadata": {},
   "outputs": [],
   "source": [
    "schema = StructType([\n",
    "    StructField(\"UsersID_SK\", IntegerType(), False),\n",
    "    StructField(\"UsersId_BK\", IntegerType(), False),\n",
    "    StructField(\"CreationDate\", DateType(), True),\n",
    "    StructField(\"DisplayName\", StringType(), True),\n",
    "    StructField(\"LastAccessDate\", DateType(), True),\n",
    "    StructField(\"Reputation\", IntegerType(), True),\n",
    "    StructField(\"Views\", IntegerType(), True),\n",
    "    StructField(\"UpVotes\", IntegerType(), True),\n",
    "    StructField(\"DownVotes\", IntegerType(), True),\n",
    "])\n",
    "\n",
    "# Create the \"No User\" row\n",
    "no_user_row = Row(\n",
    "    UsersID_SK=-1,  \n",
    "    UsersId_BK=-2,  \n",
    "    CreationDate=None,  \n",
    "    DisplayName=\"No User\",  \n",
    "    LastAccessDate=None,  \n",
    "    Reputation=0,  \n",
    "    Views=0,  \n",
    "    UpVotes=0,  \n",
    "    DownVotes=0\n",
    ")\n",
    "\n",
    "# Convert to DataFrame\n",
    "no_user_df = spark.createDataFrame([no_user_row], schema)\n",
    "\n",
    "# Assuming `Users_df` is the existing DataFrame\n",
    "Users_df = Users_df.union(no_user_df)"
   ]
  },
  {
   "cell_type": "code",
   "execution_count": 74,
   "metadata": {},
   "outputs": [],
   "source": [
    "Users_df.coalesce(1).write.mode(\"overwrite\").parquet(\"GoldDataSet/Users_Dim\")"
   ]
  },
  {
   "cell_type": "markdown",
   "metadata": {},
   "source": [
    "## Answers Desc Dim"
   ]
  },
  {
   "cell_type": "code",
   "execution_count": 76,
   "metadata": {},
   "outputs": [
    {
     "name": "stdout",
     "output_type": "stream",
     "text": [
      "+--------------+--------------------+-----------+--------+--------------+\n",
      "|Answer_Desc_BK|                Body|OwnerUserId|ParentId|Answer_Desc_SK|\n",
      "+--------------+--------------------+-----------+--------+--------------+\n",
      "|             5|the rproject http...|         23|       3|             1|\n",
      "|             9|incanter is a clo...|         50|       3|             2|\n",
      "|            12|see my response t...|          5|       7|             3|\n",
      "|            13|machine learning ...|         23|       6|             4|\n",
      "|            14|i second that jay...|         36|       3|             5|\n",
      "|            15|john cook gives s...|          6|       1|             6|\n",
      "|            16|two projects spri...|          8|       3|             7|\n",
      "|            18|also see the uci ...|         36|       7|             8|\n",
      "|            19|gapminder has a n...|         55|       7|             9|\n",
      "|            20|the assumption of...|         37|       2|            10|\n",
      "|            24|for doing a varie...|         61|       3|            11|\n",
      "|            28|gsl for those of ...|         -2|       3|            12|\n",
      "|            29|contingency table...|         36|      17|            13|\n",
      "|            32|i recommend r see...|          5|      25|            14|\n",
      "|            38|if your mean valu...|         61|      35|            15|\n",
      "|            41|a quote from wiki...|         83|      26|            16|\n",
      "|            42|weka for data min...|         80|       3|            17|\n",
      "|            43|r is great but i ...|         74|      25|            18|\n",
      "|            45|the mersenne twis...|         55|      40|            19|\n",
      "|            46|a standard deviat...|         62|      26|            20|\n",
      "+--------------+--------------------+-----------+--------+--------------+\n",
      "only showing top 20 rows\n",
      "\n"
     ]
    }
   ],
   "source": [
    "Answers_Desc_Dim_df.orderBy('Answer_Desc_BK').show()"
   ]
  },
  {
   "cell_type": "code",
   "execution_count": 96,
   "metadata": {},
   "outputs": [],
   "source": [
    "answers_schema = StructType([\n",
    "    StructField(\"Answer_Desc_BK\", IntegerType(), False),\n",
    "    StructField(\"Body\", StringType(), True),\n",
    "    StructField(\"OwnerUserId\", IntegerType(), True),\n",
    "    StructField(\"ParentId\", IntegerType(), True),\n",
    "    StructField(\"Answer_Desc_SK\", IntegerType(), False)\n",
    "])\n",
    "\n",
    "# Create the \"no answer\" row\n",
    "no_answer_row = Row(\n",
    "    Answer_Desc_BK = -1,   # Special business key for \"no answer\"\n",
    "    Body = \"No Answer\",    # Indicate no answer text\n",
    "    OwnerUserId = None,    # No owner user\n",
    "    ParentId = None,       # No parent question id\n",
    "    Answer_Desc_SK = -1    # Special surrogate key for \"no answer\"\n",
    ")\n",
    "\n",
    "# Convert the row into a DataFrame (wrap in a list)\n",
    "no_answer_df = spark.createDataFrame([no_answer_row], answers_schema)\n",
    "\n",
    "# Union the \"no answer\" row with your existing answers DataFrame\n",
    "# Assuming your existing DataFrame is called Answers_df\n",
    "Answers_Desc_Dim_df = Answers_Desc_Dim_df.union(no_answer_df)\n",
    "Answers_Desc_Dim_df = Answers_Desc_Dim_df.dropDuplicates()"
   ]
  },
  {
   "cell_type": "code",
   "execution_count": 97,
   "metadata": {},
   "outputs": [],
   "source": [
    "Answers_Desc_Dim_df = Answers_Desc_Dim_df.select('Answer_Desc_SK','Answer_Desc_BK','OwnerUserId','ParentId','Body')"
   ]
  },
  {
   "cell_type": "code",
   "execution_count": 105,
   "metadata": {},
   "outputs": [
    {
     "name": "stdout",
     "output_type": "stream",
     "text": [
      "+--------------+--------------+-----------+--------+--------------------+\n",
      "|Answer_Desc_SK|Answer_Desc_BK|OwnerUserId|ParentId|                Body|\n",
      "+--------------+--------------+-----------+--------+--------------------+\n",
      "|            -1|            -1|       NULL|    NULL|           No Answer|\n",
      "|           703|          1000|        549|     951|well if you have ...|\n",
      "|         42020|        100004|      13138|  100003|the formula for t...|\n",
      "|         42021|        100008|      46134|   99368|maybe you should ...|\n",
      "|         42022|        100009|      16663|   28984|having a quick lo...|\n",
      "|         42023|        100013|       7828|   99985|since d contains ...|\n",
      "|         42024|        100014|      31314|   99985|to put some more ...|\n",
      "|         42025|        100015|       7828|   99983|spend lots of tim...|\n",
      "|         42026|        100021|      46151|   99876|i think thats the...|\n",
      "|         42027|        100022|        919|   99986|as shown at how d...|\n",
      "|         42028|        100023|      25392|  100006|the area of a cir...|\n",
      "|         42029|        100025|      44451|  100006|the simplest intu...|\n",
      "|         42030|        100027|      46157|   70593|having run into t...|\n",
      "|         42031|        100032|      25392|  100026|let xx1xn then we...|\n",
      "|         42032|        100034|      25392|  100020|there are full bo...|\n",
      "|         42033|        100037|      46161|    1337|this is a variati...|\n",
      "|         42034|        100038|      46162|   55805|stata valor z val...|\n",
      "|         42035|        100039|      25392|  100033|there is not a co...|\n",
      "|          6198|         10004|        930|   10001|the elsii used ra...|\n",
      "|         42036|        100040|        805|  100017|the factor you sp...|\n",
      "+--------------+--------------+-----------+--------+--------------------+\n",
      "only showing top 20 rows\n",
      "\n"
     ]
    }
   ],
   "source": [
    "Answers_Desc_Dim_df.orderBy('Answer_Desc_BK').show()"
   ]
  },
  {
   "cell_type": "code",
   "execution_count": 99,
   "metadata": {},
   "outputs": [],
   "source": [
    "Answers_Desc_Dim_df.coalesce(1).write.mode(\"overwrite\").parquet(\"GoldDataSet/Answers_Desc_Dim\")"
   ]
  },
  {
   "cell_type": "code",
   "execution_count": 101,
   "metadata": {},
   "outputs": [
    {
     "name": "stdout",
     "output_type": "stream",
     "text": [
      "+----------+--------+----------+-----+----+---------+---------+----------+---------+-------+----------+\n",
      "|  FullDate| DateKey|DayOfMonth|Month|Year|DayOfWeek|  DayName|WeekOfYear|MonthName|Quarter|FiscalYear|\n",
      "+----------+--------+----------+-----+----+---------+---------+----------+---------+-------+----------+\n",
      "|2010-01-01|20100101|         1|    1|2010|        6|   Friday|        53|  January|      1|      2010|\n",
      "|2010-01-02|20100102|         2|    1|2010|        7| Saturday|        53|  January|      1|      2010|\n",
      "|2010-01-03|20100103|         3|    1|2010|        1|   Sunday|        53|  January|      1|      2010|\n",
      "|2010-01-04|20100104|         4|    1|2010|        2|   Monday|         1|  January|      1|      2010|\n",
      "|2010-01-05|20100105|         5|    1|2010|        3|  Tuesday|         1|  January|      1|      2010|\n",
      "|2010-01-06|20100106|         6|    1|2010|        4|Wednesday|         1|  January|      1|      2010|\n",
      "|2010-01-07|20100107|         7|    1|2010|        5| Thursday|         1|  January|      1|      2010|\n",
      "|2010-01-08|20100108|         8|    1|2010|        6|   Friday|         1|  January|      1|      2010|\n",
      "|2010-01-09|20100109|         9|    1|2010|        7| Saturday|         1|  January|      1|      2010|\n",
      "|2010-01-10|20100110|        10|    1|2010|        1|   Sunday|         1|  January|      1|      2010|\n",
      "|2010-01-11|20100111|        11|    1|2010|        2|   Monday|         2|  January|      1|      2010|\n",
      "|2010-01-12|20100112|        12|    1|2010|        3|  Tuesday|         2|  January|      1|      2010|\n",
      "|2010-01-13|20100113|        13|    1|2010|        4|Wednesday|         2|  January|      1|      2010|\n",
      "|2010-01-14|20100114|        14|    1|2010|        5| Thursday|         2|  January|      1|      2010|\n",
      "|2010-01-15|20100115|        15|    1|2010|        6|   Friday|         2|  January|      1|      2010|\n",
      "|2010-01-16|20100116|        16|    1|2010|        7| Saturday|         2|  January|      1|      2010|\n",
      "|2010-01-17|20100117|        17|    1|2010|        1|   Sunday|         2|  January|      1|      2010|\n",
      "|2010-01-18|20100118|        18|    1|2010|        2|   Monday|         3|  January|      1|      2010|\n",
      "|2010-01-19|20100119|        19|    1|2010|        3|  Tuesday|         3|  January|      1|      2010|\n",
      "|2010-01-20|20100120|        20|    1|2010|        4|Wednesday|         3|  January|      1|      2010|\n",
      "+----------+--------+----------+-----+----+---------+---------+----------+---------+-------+----------+\n",
      "only showing top 20 rows\n",
      "\n"
     ]
    }
   ],
   "source": [
    "Date_Dim_df.show()"
   ]
  },
  {
   "cell_type": "markdown",
   "metadata": {},
   "source": [
    "## Questions Fact Table"
   ]
  },
  {
   "cell_type": "code",
   "execution_count": 114,
   "metadata": {},
   "outputs": [],
   "source": [
    "questions_df = questions_df.withColumnRenamed('CreationDate','QCreationDate')\n",
    "questions_df = questions_df.withColumnRenamed('LastActivityDate','QLastActivityDate')"
   ]
  },
  {
   "cell_type": "code",
   "execution_count": 113,
   "metadata": {},
   "outputs": [
    {
     "name": "stdout",
     "output_type": "stream",
     "text": [
      "+----------+-----------+------------+----------------+----------------+--------------------+--------------------+--------------------+-----+---------+-----------+------------+\n",
      "|QuestionId|OwnerUserId|CreationDate|LastActivityDate|AcceptedAnswerId|                Body|               Title|                Tags|Score|ViewCount|AnswerCount|CommentCount|\n",
      "+----------+-----------+------------+----------------+----------------+--------------------+--------------------+--------------------+-----+---------+-----------+------------+\n",
      "|     95868|         -2|  2014-05-01|      2014-05-01|           95962|my attempt at mak...|Least Squares Fit...|[self-study, p-va...|    1|      135|          1|          19|\n",
      "|    146732|         -2|  2015-04-16|      2015-04-17|          146762|i have some troub...|Variance reductio...|[self-study, vari...|    7|     1733|          1|           5|\n",
      "|    151163|         -2|  2015-05-07|      2022-05-25|          151432|implement an esti...|Monte Carlo integ...|[self-study, simu...|    5|      601|          3|           5|\n",
      "|    252960|         -2|  2016-12-23|      2016-12-23|              -1|let b the lag ope...|Forecast of $(1-0...|[time-series, sel...|    1|       50|          0|           3|\n",
      "|    300402|         -2|  2017-08-29|      2017-08-30|              -1|let xsim npmusigm...|Hypothesis test a...|[probability, hyp...|    0|       60|          0|           2|\n",
      "|    156836|         -2|  2015-06-13|      2015-06-14|          156855|let x1xn random s...|Likelihood ratio ...|[hypothesis-testi...|    3|     9992|          1|           2|\n",
      "|    158971|         -2|  2015-06-27|      2015-06-28|              -1|let x1xn a random...|Karlin-Rubin theo...|[hypothesis-testi...|    1|     1554|          0|          14|\n",
      "|    222915|         -2|  2016-07-09|      2019-04-27|          222989|let x1 x2 cdots x...|Expectation of $\\...|[probability, sel...|   10|      276|          2|           0|\n",
      "|    152927|         -2|  2015-05-19|      2019-12-14|          153315|let x1ldotsxn be ...|UMVUE of $p^4$ wh...|[self-study, esti...|    2|     1082|          1|           1|\n",
      "|    215770|         -2|  2016-06-01|      2019-07-26|          215809|let ig denote inv...|Show that $\\frac{...|[probability, dis...|    3|     1555|          1|           3|\n",
      "|    181787|         -2|  2015-11-14|      2015-11-15|              -1|suppose that over...|Simultaneous conf...|[regression, self...|    0|      101|          0|           6|\n",
      "|      6609|         -2|  2011-01-27|      2011-02-25|              -1|question can you ...|How to do a repea...|    [logistic, spss]|    6|     2220|          1|           1|\n",
      "|    394647|         -2|  2019-02-27|      2019-02-27|          394666|this question is ...|How to interpret ...|[mixed-model, int...|    3|      305|          1|           0|\n",
      "|     62953|         -2|  2013-06-30|      2013-07-01|           63001|23 patients suffe...|How to test for \"...|  [r, distributions]|    2|      623|          1|           9|\n",
      "|    421582|         -2|  2019-08-09|      2019-08-15|              -1|i am working on a...|How to identify a...|[machine-learning...|    1|      807|          1|           0|\n",
      "|    603160|         -2|  2023-01-25|      2023-01-25|          603165|m1 glmnbnumber  f...|Regression Estima...|[r, regression, n...|    1|       60|          1|           5|\n",
      "|    401259|         -2|  2019-04-04|      2019-04-04|              -1|im really not sur...|Choosing perceptr...|[machine-learning...|    0|       52|          0|           3|\n",
      "|    324494|         -2|  2018-01-22|      2018-01-31|              -1|question practica...|Bonferroni correc...|        [bonferroni]|    1|      801|          2|           0|\n",
      "|      8083|         -2|  2011-03-09|      2011-03-10|              -1|revised version s...|One-sample-disper...|[hypothesis-testi...|    1|     1731|          2|           5|\n",
      "|    247986|         -2|  2016-11-26|      2016-12-18|              -1|im trying to see ...|Does regression w...|[regression, assu...|    8|     1114|          2|           8|\n",
      "+----------+-----------+------------+----------------+----------------+--------------------+--------------------+--------------------+-----+---------+-----------+------------+\n",
      "only showing top 20 rows\n",
      "\n"
     ]
    }
   ],
   "source": [
    "questions_df.show()         ###"
   ]
  },
  {
   "cell_type": "code",
   "execution_count": 115,
   "metadata": {},
   "outputs": [],
   "source": [
    "Question_Fact = questions_df.join(Users_df,questions_df.OwnerUserId==Users_df.UsersId_BK,'left')\\\n",
    "                            .join(Date_Dim_df,questions_df.QCreationDate==Date_Dim_df.FullDate,'left')\\\n",
    "                            .join(Question_Desc_Dim_df,questions_df.QuestionId==Question_Desc_Dim_df.Questions_Desc_BK,'left')\\\n",
    "                            .join(Answers_Desc_Dim_df,questions_df.AcceptedAnswerId==Answers_Desc_Dim_df.Answer_Desc_BK,'left')\\\n",
    "                            .select(\n",
    "                                col('Questions_Desc_SK').alias('Questions_Desc_FK'),\n",
    "                                col('UsersID_SK').alias('OwnerUserID_FK'),\n",
    "                                col('DateKey').alias('CreationDate_FK'),\n",
    "                                col('Answer_Desc_SK').alias('AcceptedAnswerId_FK'),\n",
    "                                col('Score'),\n",
    "                                col('ViewCount'),\n",
    "                                col('AnswerCount'),\n",
    "                                col('CommentCount'),\n",
    "                                col('QCreationDate'),\n",
    "                                col('QLastActivityDate')                           \n",
    "                                )"
   ]
  },
  {
   "cell_type": "code",
   "execution_count": 118,
   "metadata": {},
   "outputs": [],
   "source": [
    "Question_Fact = Question_Fact.join(Date_Dim_df,questions_df.QLastActivityDate==Date_Dim_df.FullDate,'left')\\\n",
    "                             .select(\n",
    "                                 '*',\n",
    "                                 col('DateKey').alias('LastActivityDate_FK')\n",
    "                             )"
   ]
  },
  {
   "cell_type": "code",
   "execution_count": 120,
   "metadata": {},
   "outputs": [],
   "source": [
    "Question_Fact = Question_Fact.select(\n",
    "                                col('Questions_Desc_FK'),\n",
    "                                col('OwnerUserID_FK'),\n",
    "                                col('CreationDate_FK'), \n",
    "                                col('LastActivityDate_FK'),                             \n",
    "                                col('AcceptedAnswerId_FK'),\n",
    "                                col('Score'),\n",
    "                                col('ViewCount'),\n",
    "                                col('AnswerCount'),\n",
    "                                col('CommentCount'),\n",
    "                                col('QCreationDate'),\n",
    "                                col('QLastActivityDate')  \n",
    ")"
   ]
  },
  {
   "cell_type": "code",
   "execution_count": 121,
   "metadata": {},
   "outputs": [
    {
     "name": "stdout",
     "output_type": "stream",
     "text": [
      "+-----------------+--------------+---------------+-------------------+-------------------+-----+---------+-----------+------------+-------------+-----------------+\n",
      "|Questions_Desc_FK|OwnerUserID_FK|CreationDate_FK|LastActivityDate_FK|AcceptedAnswerId_FK|Score|ViewCount|AnswerCount|CommentCount|QCreationDate|QLastActivityDate|\n",
      "+-----------------+--------------+---------------+-------------------+-------------------+-----+---------+-----------+------------+-------------+-----------------+\n",
      "|             2173|            -1|       20110309|           20110310|                 -1|    1|     1731|          2|           5|   2011-03-09|       2011-03-10|\n",
      "|            20186|            -1|       20130630|           20130701|              28800|    2|      623|          1|           9|   2013-06-30|       2013-07-01|\n",
      "|            48540|            -1|       20150507|           20220525|              58335|    5|      601|          3|           5|   2015-05-07|       2022-05-25|\n",
      "|            49130|            -1|       20150519|           20191214|              58954|    2|     1082|          1|           1|   2015-05-19|       2019-12-14|\n",
      "|            51257|            -1|       20150627|           20150628|                 -1|    1|     1554|          0|          14|   2015-06-27|       2015-06-28|\n",
      "|            71184|            -1|       20160709|           20190427|              80276|   10|      276|          2|           0|   2016-07-09|       2019-04-27|\n",
      "|            96402|            -1|       20170829|           20170830|                 -1|    0|       60|          0|           2|   2017-08-29|       2017-08-30|\n",
      "|           126349|            -1|       20190227|           20190227|             133052|    3|      305|          1|           0|   2019-02-27|       2019-02-27|\n",
      "|           199081|            -1|       20230125|           20230125|             196413|    1|       60|          1|           5|   2023-01-25|       2023-01-25|\n",
      "|             1696|            -1|       20110127|           20110225|                 -1|    6|     2220|          1|           1|   2011-01-27|       2011-02-25|\n",
      "|            31462|            -1|       20140501|           20140501|              40840|    1|      135|          1|          19|   2014-05-01|       2014-05-01|\n",
      "|            47352|            -1|       20150416|           20150417|              57110|    7|     1733|          1|           5|   2015-04-16|       2015-04-17|\n",
      "|            50506|            -1|       20150613|           20150614|              60101|    3|     9992|          1|           2|   2015-06-13|       2015-06-14|\n",
      "|            58384|            -1|       20151114|           20151115|                 -1|    0|      101|          0|           6|   2015-11-14|       2015-11-15|\n",
      "|            69179|            -1|       20160601|           20190726|              78221|    3|     1555|          1|           3|   2016-06-01|       2019-07-26|\n",
      "|            79457|            -1|       20161126|           20161218|                 -1|    8|     1114|          2|           8|   2016-11-26|       2016-12-18|\n",
      "|            81292|            -1|       20161223|           20161223|                 -1|    1|       50|          0|           3|   2016-12-23|       2016-12-23|\n",
      "|           104139|            -1|       20180122|           20180131|                 -1|    1|      801|          2|           0|   2018-01-22|       2018-01-31|\n",
      "|           108758|            -1|       20180412|           20180412|                 -1|    0|      101|          0|           3|   2018-04-12|       2018-04-12|\n",
      "|           128549|            -1|       20190404|           20190404|                 -1|    0|       52|          0|           3|   2019-04-04|       2019-04-04|\n",
      "+-----------------+--------------+---------------+-------------------+-------------------+-----+---------+-----------+------------+-------------+-----------------+\n",
      "only showing top 20 rows\n",
      "\n"
     ]
    }
   ],
   "source": [
    "Question_Fact.show()"
   ]
  },
  {
   "cell_type": "code",
   "execution_count": 122,
   "metadata": {},
   "outputs": [
    {
     "name": "stdout",
     "output_type": "stream",
     "text": [
      "+----------------------------+-------------------------+--------------------------+------------------------------+------------------------------+----------------+--------------------+----------------------+-----------------------+------------------------+----------------------------+\n",
      "|Questions_Desc_FK_null_count|OwnerUserID_FK_null_count|CreationDate_FK_null_count|LastActivityDate_FK_null_count|AcceptedAnswerId_FK_null_count|Score_null_count|ViewCount_null_count|AnswerCount_null_count|CommentCount_null_count|QCreationDate_null_count|QLastActivityDate_null_count|\n",
      "+----------------------------+-------------------------+--------------------------+------------------------------+------------------------------+----------------+--------------------+----------------------+-----------------------+------------------------+----------------------------+\n",
      "|0                           |0                        |3                         |0                             |1                             |0               |0                   |0                     |0                      |0                       |0                           |\n",
      "+----------------------------+-------------------------+--------------------------+------------------------------+------------------------------+----------------+--------------------+----------------------+-----------------------+------------------------+----------------------------+\n",
      "\n"
     ]
    }
   ],
   "source": [
    "null_counts = Question_Fact.select([\n",
    "    sum(when(col(c).isNull(), 1).otherwise(0)).alias(f\"{c}_null_count\")\n",
    "    for c in Question_Fact.columns\n",
    "])\n",
    "\n",
    "null_counts.show(truncate=False)"
   ]
  },
  {
   "cell_type": "code",
   "execution_count": 127,
   "metadata": {},
   "outputs": [
    {
     "name": "stdout",
     "output_type": "stream",
     "text": [
      "+-----------------+--------------+---------------+-------------------+-------------------+-----+---------+-----------+------------+-------------+-----------------+\n",
      "|Questions_Desc_FK|OwnerUserID_FK|CreationDate_FK|LastActivityDate_FK|AcceptedAnswerId_FK|Score|ViewCount|AnswerCount|CommentCount|QCreationDate|QLastActivityDate|\n",
      "+-----------------+--------------+---------------+-------------------+-------------------+-----+---------+-----------+------------+-------------+-----------------+\n",
      "+-----------------+--------------+---------------+-------------------+-------------------+-----+---------+-----------+------------+-------------+-----------------+\n",
      "\n"
     ]
    }
   ],
   "source": [
    "Question_Fact.filter(col('CreationDate_FK').isNull()).show()\n"
   ]
  },
  {
   "cell_type": "markdown",
   "metadata": {},
   "source": [
    "**Dealing with nulls**"
   ]
  },
  {
   "cell_type": "code",
   "execution_count": 126,
   "metadata": {},
   "outputs": [],
   "source": [
    "Question_Fact = Question_Fact.dropna()"
   ]
  },
  {
   "cell_type": "code",
   "execution_count": 128,
   "metadata": {},
   "outputs": [],
   "source": [
    "Question_Fact.coalesce(1).write.mode(\"overwrite\").parquet(\"GoldDataSet/Questions_Fact\")"
   ]
  },
  {
   "cell_type": "markdown",
   "metadata": {},
   "source": [
    "## Votes Desc Dim "
   ]
  },
  {
   "cell_type": "code",
   "execution_count": 21,
   "metadata": {},
   "outputs": [
    {
     "name": "stdout",
     "output_type": "stream",
     "text": [
      "+----------+--------------------+--------------------+\n",
      "|VoteTypeId|        VoteTypeName|         Description|\n",
      "+----------+--------------------+--------------------+\n",
      "|         1|AcceptedByOriginator|Marks an answer a...|\n",
      "|         2|              Upvote|Upvote given to a...|\n",
      "|         3|            Downvote|Downvote given to...|\n",
      "|         4|           Offensive|Flags a post as o...|\n",
      "|         5|            Favorite|Indicates a user ...|\n",
      "|         6|               Close|Suggests that a q...|\n",
      "|         7|              Reopen|Suggests that a c...|\n",
      "|         8|         BountyStart|Indicates that a ...|\n",
      "|         9|         BountyClose|Indicates that a ...|\n",
      "|        10|            Deletion|Indicates that a ...|\n",
      "|        11|          Undeletion|Indicates that a ...|\n",
      "|        12|           Migration|Indicates that a ...|\n",
      "+----------+--------------------+--------------------+\n",
      "\n"
     ]
    }
   ],
   "source": [
    "vote_types_dim_df.show()"
   ]
  },
  {
   "cell_type": "markdown",
   "metadata": {},
   "source": [
    "**Renaming Coloumns**"
   ]
  },
  {
   "cell_type": "code",
   "execution_count": null,
   "metadata": {},
   "outputs": [],
   "source": [
    "vote_types_dim_df = vote_types_dim_df.withColumnRenamed('Description','VoteType_Desc')\n"
   ]
  },
  {
   "cell_type": "code",
   "execution_count": 14,
   "metadata": {},
   "outputs": [
    {
     "name": "stdout",
     "output_type": "stream",
     "text": [
      "+----+------+----------+------------+-----------+------------+\n",
      "|  Id|PostId|VoteTypeId|CreationDate|PostOwnerId|VoteTypeName|\n",
      "+----+------+----------+------------+-----------+------------+\n",
      "| 310|   148|         2|  2010-07-19|        130|      Upvote|\n",
      "| 345|   148|         2|  2010-07-19|        130|      Upvote|\n",
      "| 398|   148|         2|  2010-07-20|        130|      Upvote|\n",
      "|1255|   471|         2|  2010-07-21|        168|      Upvote|\n",
      "|1343|   463|         2|  2010-07-22|         90|      Upvote|\n",
      "|1409|   496|         2|  2010-07-22|        190|      Upvote|\n",
      "|1575|   463|         2|  2010-07-23|         90|      Upvote|\n",
      "|1779|   496|         2|  2010-07-24|        190|      Upvote|\n",
      "|1837|   496|         2|  2010-07-25|        190|      Upvote|\n",
      "|2570|   833|         2|  2010-07-27|        495|      Upvote|\n",
      "|2591|   833|         2|  2010-07-27|        495|      Upvote|\n",
      "|2650|   833|         2|  2010-07-27|        495|      Upvote|\n",
      "|2658|   833|         2|  2010-07-28|        495|      Upvote|\n",
      "|3502|  1088|         2|  2010-08-01|        643|      Upvote|\n",
      "|3527|  1088|         2|  2010-08-02|        643|      Upvote|\n",
      "|4529|   833|         2|  2010-08-09|        495|      Upvote|\n",
      "|4988|  1580|         2|  2010-08-12|        183|      Upvote|\n",
      "|4990|  1580|         2|  2010-08-12|        183|      Upvote|\n",
      "|5072|  1580|         2|  2010-08-12|        183|      Upvote|\n",
      "|5144|  1591|         3|  2010-08-13|       NULL|    Downvote|\n",
      "+----+------+----------+------------+-----------+------------+\n",
      "only showing top 20 rows\n",
      "\n"
     ]
    }
   ],
   "source": [
    "votes_fact_df.show()"
   ]
  },
  {
   "cell_type": "code",
   "execution_count": 46,
   "metadata": {},
   "outputs": [],
   "source": [
    "vote_types_dim_df.coalesce(1).write.mode(\"overwrite\").parquet(\"GoldDataSet/vote_types_dim\")"
   ]
  },
  {
   "cell_type": "markdown",
   "metadata": {},
   "source": [
    "## Votes Fact"
   ]
  },
  {
   "cell_type": "code",
   "execution_count": 26,
   "metadata": {},
   "outputs": [],
   "source": [
    "# I'm reading those for making votes fact\n",
    "Question_Desc_Dim_df = spark.read.parquet(\"GoldDataSet/Question_Desc_Dim\")\n",
    "Answers_Desc_Dim_df = spark.read.parquet(\"GoldDataSet/Answers_Desc_Dim\")\n",
    "Users_df = spark.read.parquet(\"GoldDataSet/Users_Dim\")"
   ]
  },
  {
   "cell_type": "code",
   "execution_count": 27,
   "metadata": {},
   "outputs": [
    {
     "name": "stdout",
     "output_type": "stream",
     "text": [
      "+----------+----------+------------+-----------------+--------------+----------+-----+-------+---------+\n",
      "|UsersID_SK|UsersId_BK|CreationDate|      DisplayName|LastAccessDate|Reputation|Views|UpVotes|DownVotes|\n",
      "+----------+----------+------------+-----------------+--------------+----------+-----+-------+---------+\n",
      "|         1|    164892|  2017-06-11|       phantomile|    2021-03-16|         1|    1|      0|        0|\n",
      "|         2|    164893|  2017-06-11|         woofwoof|    2021-10-18|       101|    0|      0|        0|\n",
      "|         3|    164894|  2017-06-12|       user164894|    2017-06-19|        21|    0|      0|        0|\n",
      "|         4|    164895|  2017-06-12|     Parth Sharma|    2021-09-14|         3|    1|      0|        0|\n",
      "|         5|    164896|  2017-06-12|Jacques Thibodeau|    2023-01-04|       101|    2|      5|        0|\n",
      "|         6|    164897|  2017-06-12|       user164897|    2017-06-19|         1|    0|      0|        0|\n",
      "|         7|    164898|  2017-06-12|             Amin|    2023-03-17|       161|    1|      0|        0|\n",
      "|         8|    164899|  2017-06-12|      Sagar Patel|    2017-06-26|        67|   11|      0|        0|\n",
      "|         9|    164900|  2017-06-12|          Lois Hu|    2017-06-12|         1|    0|      0|        0|\n",
      "|        10|    164901|  2017-06-12| Raj Kumar Subedi|    2019-03-24|         1|    0|      0|        0|\n",
      "|        11|    164902|  2017-06-12|           Thufir|    2020-05-19|       101|    0|      0|        0|\n",
      "|        12|    164903|  2017-06-12|           sjc725|    2017-06-12|        71|   53|      0|        0|\n",
      "|        13|    164904|  2017-06-12|         tekumara|    2021-12-22|       101|    0|     16|        0|\n",
      "|        14|    164905|  2017-06-12|           sjc725|    2020-01-02|       101|   34|      0|        0|\n",
      "|        15|    164906|  2017-06-12|           Tam Le|    2023-07-28|       183|   18|      0|        0|\n",
      "|        16|    164907|  2017-06-12|      Jianjun Zhu|    2017-06-12|         1|    0|      0|        0|\n",
      "|        17|    164908|  2017-06-12|      user2728933|    2022-04-19|        11|    2|      0|        0|\n",
      "|        18|    164909|  2017-06-12|              Jkk|    2017-06-12|         1|    1|      0|        0|\n",
      "|        19|    164910|  2017-06-12|           Sarahd|    2017-06-14|         1|    0|      0|        0|\n",
      "|        20|    164911|  2017-06-12|           Morven|    2017-06-12|         1|    0|      0|        0|\n",
      "+----------+----------+------------+-----------------+--------------+----------+-----+-------+---------+\n",
      "only showing top 20 rows\n",
      "\n"
     ]
    }
   ],
   "source": [
    "Users_df.show()"
   ]
  },
  {
   "cell_type": "code",
   "execution_count": 34,
   "metadata": {},
   "outputs": [
    {
     "name": "stdout",
     "output_type": "stream",
     "text": [
      "+-----------------+-----------------+-----------+------------+--------------------+--------------------+\n",
      "|Questions_Desc_SK|Questions_Desc_BK|OwnerUserId|CreationDate|                Body|               Title|\n",
      "+-----------------+-----------------+-----------+------------+--------------------+--------------------+\n",
      "|               -1|             NULL|       NULL|        NULL|         No question|            No title|\n",
      "|                1|            16198|     112726|  2009-02-02|what do you call ...|What do you call ...|\n",
      "|                2|            16207|         -2|  2009-04-12|we have a daemon ...|Correcting for ou...|\n",
      "|                3|            16214|         -2|  2009-12-05|i am trying to vi...|Algorithms to eli...|\n",
      "|                4|            16046|       1260|  2010-07-10|i have data with ...|Algorithms and me...|\n",
      "|                5|               73|         22|  2010-07-19|duplicate thread ...|What R packages d...|\n",
      "|                6|               22|         66|  2010-07-19|how would you des...|Bayesian and freq...|\n",
      "|                7|               44|         68|  2010-07-19|how would you exp...|Explain data visu...|\n",
      "|                8|                1|          8|  2010-07-19|how should i elic...|Eliciting priors ...|\n",
      "|                9|               36|          8|  2010-07-19|there is an old s...|Examples for teac...|\n",
      "|               10|               53|         17|  2010-07-19|what are the main...|PCA on correlatio...|\n",
      "|               11|               10|         24|  2010-07-19|many studies in t...|Under what condit...|\n",
      "|               12|               95|         57|  2010-07-19|i have been using...|How Large a Diffe...|\n",
      "|               13|                3|         18|  2010-07-19|what are some val...|What are some val...|\n",
      "|               14|              113|         39|  2010-07-19|i have been looki...|What are some goo...|\n",
      "|               15|               54|         55|  2010-07-19|as i understand u...|Why do US and UK ...|\n",
      "|               16|               21|         59|  2010-07-19|what are some of ...|Forecasting demog...|\n",
      "|               17|               33|         69|  2010-07-19|what r packages s...|R packages for se...|\n",
      "|               18|              100|        117|  2010-07-19|id like to see th...|What's the purpos...|\n",
      "|               19|              103|          5|  2010-07-19|what is the best ...|What is your favo...|\n",
      "+-----------------+-----------------+-----------+------------+--------------------+--------------------+\n",
      "only showing top 20 rows\n",
      "\n"
     ]
    }
   ],
   "source": [
    "Question_Desc_Dim_df.show()"
   ]
  },
  {
   "cell_type": "code",
   "execution_count": 36,
   "metadata": {},
   "outputs": [],
   "source": [
    "votes_fact_Final = votes_fact_df \\\n",
    "    .join(vote_types_dim_df, votes_fact_df.VoteTypeId == vote_types_dim_df.VoteTypeId, \"left\") \\\n",
    "    .join(Date_Dim_df, votes_fact_df.CreationDate == Date_Dim_df.FullDate, \"left\") \\\n",
    "    .join(Users_df, votes_fact_df.PostOwnerId == Users_df.UsersId_BK, \"left\") \\\n",
    "    .join(Question_Desc_Dim_df, votes_fact_df.PostId == Question_Desc_Dim_df.Questions_Desc_BK, \"left\") \\\n",
    "    .join(Answers_Desc_Dim_df, votes_fact_df.PostId == Answers_Desc_Dim_df.Answer_Desc_BK, \"left\") \\\n",
    "    .select(\n",
    "        col(\"Id\").alias(\"VoteId\"),\n",
    "        col(\"Questions_Desc_SK\").alias(\"Question_Desc_FK\"),\n",
    "        col(\"Answer_Desc_SK\").alias(\"Answer_Desc_FK\"),\n",
    "        col(\"UsersID_SK\").alias(\"PostOwnerId_FK\"),\n",
    "        col(\"DateKey\").alias(\"CreationDate_FK\"),\n",
    "        col(\"VoteId\").alias(\"VoteType_FK\"),\n",
    "        votes_fact_df.CreationDate)"
   ]
  },
  {
   "cell_type": "code",
   "execution_count": null,
   "metadata": {},
   "outputs": [],
   "source": []
  },
  {
   "cell_type": "code",
   "execution_count": 37,
   "metadata": {},
   "outputs": [
    {
     "name": "stdout",
     "output_type": "stream",
     "text": [
      "+------+----------------+--------------+--------------+---------------+-----------+------------+\n",
      "|VoteId|Question_Desc_FK|Answer_Desc_FK|PostOwnerId_FK|CreationDate_FK|VoteType_FK|CreationDate|\n",
      "+------+----------------+--------------+--------------+---------------+-----------+------------+\n",
      "|   310|            NULL|            86|    8589934701|       20100719|        310|  2010-07-19|\n",
      "|   345|            NULL|            86|    8589934701|       20100719|        345|  2010-07-19|\n",
      "|   398|            NULL|            86|    8589934701|       20100720|        398|  2010-07-20|\n",
      "|  1343|            NULL|           313|    8589934666|       20100722|       1343|  2010-07-22|\n",
      "|  1575|            NULL|           313|    8589934666|       20100723|       1575|  2010-07-23|\n",
      "|  1255|            NULL|           320|    8589934732|       20100721|       1255|  2010-07-21|\n",
      "|  1409|            NULL|           338|    8589934752|       20100722|       1409|  2010-07-22|\n",
      "|  1779|            NULL|           338|    8589934752|       20100724|       1779|  2010-07-24|\n",
      "|  1837|            NULL|           338|    8589934752|       20100725|       1837|  2010-07-25|\n",
      "|  2570|            NULL|           594|    8589934970|       20100727|       2570|  2010-07-27|\n",
      "|  2591|            NULL|           594|    8589934970|       20100727|       2591|  2010-07-27|\n",
      "|  2650|            NULL|           594|    8589934970|       20100727|       2650|  2010-07-27|\n",
      "|  2658|            NULL|           594|    8589934970|       20100728|       2658|  2010-07-28|\n",
      "|  4529|            NULL|           594|    8589934970|       20100809|       4529|  2010-08-09|\n",
      "|  3502|            NULL|           758|    8589935063|       20100801|       3502|  2010-08-01|\n",
      "|  3527|            NULL|           758|    8589935063|       20100802|       3527|  2010-08-02|\n",
      "|  4988|             363|          NULL|    8589934746|       20100812|       4988|  2010-08-12|\n",
      "|  4990|             363|          NULL|    8589934746|       20100812|       4990|  2010-08-12|\n",
      "|  5072|             363|          NULL|    8589934746|       20100812|       5072|  2010-08-12|\n",
      "|  5144|            NULL|          NULL|          NULL|       20100813|       5144|  2010-08-13|\n",
      "+------+----------------+--------------+--------------+---------------+-----------+------------+\n",
      "only showing top 20 rows\n",
      "\n"
     ]
    }
   ],
   "source": [
    "votes_fact_Final.show()"
   ]
  },
  {
   "cell_type": "code",
   "execution_count": 45,
   "metadata": {},
   "outputs": [
    {
     "name": "stdout",
     "output_type": "stream",
     "text": [
      "+-----------------+---------------------------+-------------------------+-------------------------+--------------------------+----------------------+-----------------------+\n",
      "|VoteId_null_count|Question_Desc_FK_null_count|Answer_Desc_FK_null_count|PostOwnerId_FK_null_count|CreationDate_FK_null_count|VoteType_FK_null_count|CreationDate_null_count|\n",
      "+-----------------+---------------------------+-------------------------+-------------------------+--------------------------+----------------------+-----------------------+\n",
      "|0                |0                          |0                        |0                        |70                        |0                     |0                      |\n",
      "+-----------------+---------------------------+-------------------------+-------------------------+--------------------------+----------------------+-----------------------+\n",
      "\n"
     ]
    }
   ],
   "source": [
    "null_counts = votes_fact_Final.select([\n",
    "    sum(when(col(c).isNull(), 1).otherwise(0)).alias(f\"{c}_null_count\")\n",
    "    for c in votes_fact_Final.columns\n",
    "])\n",
    "\n",
    "null_counts.show(truncate=False)"
   ]
  },
  {
   "cell_type": "markdown",
   "metadata": {},
   "source": [
    "**Handling null values** "
   ]
  },
  {
   "cell_type": "code",
   "execution_count": 44,
   "metadata": {},
   "outputs": [],
   "source": [
    "votes_fact_Final = votes_fact_Final.fillna({\n",
    "    \"Question_Desc_FK\" : -1,\n",
    "    \"Answer_Desc_FK\" : -1,\n",
    "    \"PostOwnerId_FK\" : -1\n",
    "})"
   ]
  },
  {
   "cell_type": "code",
   "execution_count": 50,
   "metadata": {},
   "outputs": [],
   "source": [
    "votes_fact_Final = votes_fact_Final.dropna()"
   ]
  },
  {
   "cell_type": "code",
   "execution_count": 51,
   "metadata": {},
   "outputs": [
    {
     "name": "stdout",
     "output_type": "stream",
     "text": [
      "+-----------------+---------------------------+-------------------------+-------------------------+--------------------------+----------------------+-----------------------+\n",
      "|VoteId_null_count|Question_Desc_FK_null_count|Answer_Desc_FK_null_count|PostOwnerId_FK_null_count|CreationDate_FK_null_count|VoteType_FK_null_count|CreationDate_null_count|\n",
      "+-----------------+---------------------------+-------------------------+-------------------------+--------------------------+----------------------+-----------------------+\n",
      "|0                |0                          |0                        |0                        |0                         |0                     |0                      |\n",
      "+-----------------+---------------------------+-------------------------+-------------------------+--------------------------+----------------------+-----------------------+\n",
      "\n"
     ]
    }
   ],
   "source": [
    "null_counts = votes_fact_Final.select([\n",
    "    sum(when(col(c).isNull(), 1).otherwise(0)).alias(f\"{c}_null_count\")\n",
    "    for c in votes_fact_Final.columns\n",
    "])\n",
    "\n",
    "null_counts.show(truncate=False)"
   ]
  },
  {
   "cell_type": "code",
   "execution_count": 52,
   "metadata": {},
   "outputs": [],
   "source": [
    "votes_fact_Final.coalesce(1).write.mode(\"overwrite\").parquet(\"GoldDataSet/Votes_fact\")"
   ]
  },
  {
   "cell_type": "code",
   "execution_count": 53,
   "metadata": {},
   "outputs": [],
   "source": [
    "spark.stop()"
   ]
  },
  {
   "cell_type": "code",
   "execution_count": null,
   "metadata": {},
   "outputs": [],
   "source": []
  }
 ],
 "metadata": {
  "kernelspec": {
   "display_name": "Python (lab2)",
   "language": "python",
   "name": "lab2"
  },
  "language_info": {
   "codemirror_mode": {
    "name": "ipython",
    "version": 3
   },
   "file_extension": ".py",
   "mimetype": "text/x-python",
   "name": "python",
   "nbconvert_exporter": "python",
   "pygments_lexer": "ipython3",
   "version": "3.11.11"
  }
 },
 "nbformat": 4,
 "nbformat_minor": 2
}
