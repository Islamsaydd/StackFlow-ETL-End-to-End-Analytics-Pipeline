{
 "cells": [
  {
   "cell_type": "code",
   "execution_count": 1,
   "metadata": {},
   "outputs": [],
   "source": [
    "import pandas as pd\n",
    "import numpy as np\n",
    "import seaborn as sns\n",
    "import matplotlib.pyplot as plt"
   ]
  },
  {
   "cell_type": "code",
   "execution_count": 2,
   "metadata": {},
   "outputs": [],
   "source": [
    "df_PostLinks = pd.read_xml(r\"D:/mada/programming/Datasets/Stack over flaw/PostLinks.xml\", parser=\"etree\")"
   ]
  },
  {
   "cell_type": "code",
   "execution_count": 3,
   "metadata": {},
   "outputs": [
    {
     "data": {
      "text/html": [
       "<div>\n",
       "<style scoped>\n",
       "    .dataframe tbody tr th:only-of-type {\n",
       "        vertical-align: middle;\n",
       "    }\n",
       "\n",
       "    .dataframe tbody tr th {\n",
       "        vertical-align: top;\n",
       "    }\n",
       "\n",
       "    .dataframe thead th {\n",
       "        text-align: right;\n",
       "    }\n",
       "</style>\n",
       "<table border=\"1\" class=\"dataframe\">\n",
       "  <thead>\n",
       "    <tr style=\"text-align: right;\">\n",
       "      <th></th>\n",
       "      <th>Id</th>\n",
       "      <th>CreationDate</th>\n",
       "      <th>PostId</th>\n",
       "      <th>RelatedPostId</th>\n",
       "      <th>LinkTypeId</th>\n",
       "    </tr>\n",
       "  </thead>\n",
       "  <tbody>\n",
       "    <tr>\n",
       "      <th>0</th>\n",
       "      <td>108</td>\n",
       "      <td>2010-07-21T14:47:33.983</td>\n",
       "      <td>395</td>\n",
       "      <td>173</td>\n",
       "      <td>1</td>\n",
       "    </tr>\n",
       "    <tr>\n",
       "      <th>1</th>\n",
       "      <td>145</td>\n",
       "      <td>2010-07-23T16:30:41.780</td>\n",
       "      <td>548</td>\n",
       "      <td>539</td>\n",
       "      <td>1</td>\n",
       "    </tr>\n",
       "    <tr>\n",
       "      <th>2</th>\n",
       "      <td>151</td>\n",
       "      <td>2010-07-24T09:11:01.413</td>\n",
       "      <td>536</td>\n",
       "      <td>590</td>\n",
       "      <td>1</td>\n",
       "    </tr>\n",
       "    <tr>\n",
       "      <th>3</th>\n",
       "      <td>217</td>\n",
       "      <td>2010-07-26T20:12:15.600</td>\n",
       "      <td>375</td>\n",
       "      <td>30</td>\n",
       "      <td>1</td>\n",
       "    </tr>\n",
       "    <tr>\n",
       "      <th>4</th>\n",
       "      <td>263</td>\n",
       "      <td>2010-07-27T16:00:22.133</td>\n",
       "      <td>769</td>\n",
       "      <td>31</td>\n",
       "      <td>1</td>\n",
       "    </tr>\n",
       "    <tr>\n",
       "      <th>...</th>\n",
       "      <td>...</td>\n",
       "      <td>...</td>\n",
       "      <td>...</td>\n",
       "      <td>...</td>\n",
       "      <td>...</td>\n",
       "    </tr>\n",
       "    <tr>\n",
       "      <th>103964</th>\n",
       "      <td>17458390</td>\n",
       "      <td>2023-09-02T16:15:18.733</td>\n",
       "      <td>624232</td>\n",
       "      <td>357466</td>\n",
       "      <td>1</td>\n",
       "    </tr>\n",
       "    <tr>\n",
       "      <th>103965</th>\n",
       "      <td>17458406</td>\n",
       "      <td>2023-09-02T16:40:31.167</td>\n",
       "      <td>623685</td>\n",
       "      <td>414349</td>\n",
       "      <td>1</td>\n",
       "    </tr>\n",
       "    <tr>\n",
       "      <th>103966</th>\n",
       "      <td>17458634</td>\n",
       "      <td>2023-09-02T23:38:27.123</td>\n",
       "      <td>625483</td>\n",
       "      <td>509547</td>\n",
       "      <td>1</td>\n",
       "    </tr>\n",
       "    <tr>\n",
       "      <th>103967</th>\n",
       "      <td>17458662</td>\n",
       "      <td>2023-09-03T01:30:33.197</td>\n",
       "      <td>625483</td>\n",
       "      <td>509547</td>\n",
       "      <td>3</td>\n",
       "    </tr>\n",
       "    <tr>\n",
       "      <th>103968</th>\n",
       "      <td>17458686</td>\n",
       "      <td>2023-09-03T02:44:58.893</td>\n",
       "      <td>625554</td>\n",
       "      <td>384111</td>\n",
       "      <td>3</td>\n",
       "    </tr>\n",
       "  </tbody>\n",
       "</table>\n",
       "<p>103969 rows × 5 columns</p>\n",
       "</div>"
      ],
      "text/plain": [
       "              Id             CreationDate  PostId  RelatedPostId  LinkTypeId\n",
       "0            108  2010-07-21T14:47:33.983     395            173           1\n",
       "1            145  2010-07-23T16:30:41.780     548            539           1\n",
       "2            151  2010-07-24T09:11:01.413     536            590           1\n",
       "3            217  2010-07-26T20:12:15.600     375             30           1\n",
       "4            263  2010-07-27T16:00:22.133     769             31           1\n",
       "...          ...                      ...     ...            ...         ...\n",
       "103964  17458390  2023-09-02T16:15:18.733  624232         357466           1\n",
       "103965  17458406  2023-09-02T16:40:31.167  623685         414349           1\n",
       "103966  17458634  2023-09-02T23:38:27.123  625483         509547           1\n",
       "103967  17458662  2023-09-03T01:30:33.197  625483         509547           3\n",
       "103968  17458686  2023-09-03T02:44:58.893  625554         384111           3\n",
       "\n",
       "[103969 rows x 5 columns]"
      ]
     },
     "execution_count": 3,
     "metadata": {},
     "output_type": "execute_result"
    }
   ],
   "source": [
    "df_PostLinks"
   ]
  },
  {
   "cell_type": "code",
   "execution_count": 4,
   "metadata": {},
   "outputs": [
    {
     "data": {
      "text/plain": [
       "LinkTypeId\n",
       "1    89076\n",
       "3    14893\n",
       "Name: count, dtype: int64"
      ]
     },
     "execution_count": 4,
     "metadata": {},
     "output_type": "execute_result"
    }
   ],
   "source": [
    "df_PostLinks['LinkTypeId'].value_counts()"
   ]
  },
  {
   "cell_type": "code",
   "execution_count": null,
   "metadata": {},
   "outputs": [],
   "source": []
  }
 ],
 "metadata": {
  "kernelspec": {
   "display_name": "base",
   "language": "python",
   "name": "python3"
  },
  "language_info": {
   "codemirror_mode": {
    "name": "ipython",
    "version": 3
   },
   "file_extension": ".py",
   "mimetype": "text/x-python",
   "name": "python",
   "nbconvert_exporter": "python",
   "pygments_lexer": "ipython3",
   "version": "3.12.7"
  }
 },
 "nbformat": 4,
 "nbformat_minor": 2
}
