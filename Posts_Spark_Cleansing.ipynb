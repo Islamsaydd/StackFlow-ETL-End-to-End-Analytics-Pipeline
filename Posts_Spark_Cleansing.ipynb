{
 "cells": [
  {
   "cell_type": "code",
   "execution_count": null,
   "metadata": {},
   "outputs": [],
   "source": [
    "from pyspark.sql import SparkSession , Row"
   ]
  },
  {
   "cell_type": "code",
   "execution_count": 4,
   "metadata": {},
   "outputs": [],
   "source": [
    "from pyspark.sql.functions import *#col , when , sum , count , lower, regexp_replace, trim , split , substring , length , expr , concat_ws"
   ]
  },
  {
   "cell_type": "code",
   "execution_count": 5,
   "metadata": {},
   "outputs": [],
   "source": [
    "from pyspark.sql.types import StructType, StructField, IntegerType, StringType, TimestampType"
   ]
  },
  {
   "cell_type": "code",
   "execution_count": 6,
   "metadata": {},
   "outputs": [
    {
     "name": "stdout",
     "output_type": "stream",
     "text": [
      "Requirement already satisfied: beautifulsoup4 in d:\\mada\\programs\\anaconda\\envs\\lab2\\lib\\site-packages (4.13.3)\n",
      "Requirement already satisfied: soupsieve>1.2 in d:\\mada\\programs\\anaconda\\envs\\lab2\\lib\\site-packages (from beautifulsoup4) (2.6)\n",
      "Requirement already satisfied: typing-extensions>=4.0.0 in d:\\mada\\programs\\anaconda\\envs\\lab2\\lib\\site-packages (from beautifulsoup4) (4.12.2)\n"
     ]
    }
   ],
   "source": [
    "import sys , os\n",
    "!{sys.executable} -m pip install beautifulsoup4"
   ]
  },
  {
   "cell_type": "code",
   "execution_count": 7,
   "metadata": {},
   "outputs": [],
   "source": [
    "from pyspark.sql.functions import udf\n",
    "from pyspark.sql.types import StringType\n",
    "from bs4 import BeautifulSoup"
   ]
  },
  {
   "cell_type": "code",
   "execution_count": 8,
   "metadata": {},
   "outputs": [],
   "source": [
    "os.environ[\"PYSPARK_PYTHON\"] = sys.executable\n",
    "os.environ[\"PYSPARK_DRIVER_PYTHON\"] = sys.executable"
   ]
  },
  {
   "cell_type": "code",
   "execution_count": 9,
   "metadata": {},
   "outputs": [],
   "source": [
    "os.environ[\"HADOOP_HOME\"] = \"C:/Spark/spark-3.5.5-bin-hadoop3\"  \n",
    "os.environ[\"HADOOP_OPTS\"] = \"-Djava.library.path=C:/Spark/spark-3.5.5-bin-hadoop3/bin\""
   ]
  },
  {
   "cell_type": "code",
   "execution_count": 10,
   "metadata": {},
   "outputs": [],
   "source": [
    "# .config(\"spark.jars.packages\", \"com.databricks:spark-xml_2.12:0.16.0\")\\\n",
    "spark = SparkSession.builder.appName(\"posts_Spark_Cleansing\")\\\n",
    "    .config(\"spark.executor.memory\", \"3g\")\\\n",
    "    .config(\"spark.jars.packages\", \"com.databricks:spark-xml_2.12:0.16.0,org.apache.parquet:parquet-hadoop:1.15.1\")\\\n",
    "    .config(\"spark.pyspark.python\", sys.executable) \\\n",
    "    .config(\"spark.pyspark.driver.python\", sys.executable) \\\n",
    "    .config(\"spark.hadoop.io.native.lib.available\", \"false\")\\\n",
    "    .getOrCreate()"
   ]
  },
  {
   "cell_type": "code",
   "execution_count": 11,
   "metadata": {},
   "outputs": [],
   "source": [
    "schema = StructType([\n",
    "    StructField(\"AcceptedAnswerId\", IntegerType(), True),\n",
    "    StructField(\"AnswerCount\",IntegerType(), True),\n",
    "    StructField(\"Body\", StringType(), True),\n",
    "    StructField(\"ClosedDate\", TimestampType(), True),\n",
    "    StructField(\"CommentCount\",IntegerType(), True),\n",
    "    StructField(\"CommunityOwnedDate\", TimestampType(), True),\n",
    "    StructField(\"ContentLicense\", StringType(), True),\n",
    "    StructField(\"CreationDate\", TimestampType(), True),\n",
    "    StructField(\"FavoriteCount\",IntegerType(), True),\n",
    "    StructField(\"Id\",IntegerType(), True),\n",
    "    StructField(\"LastActivityDate\", TimestampType(), True),\n",
    "    StructField(\"LastEditDate\", TimestampType(), True),\n",
    "    StructField(\"LastEditorDisplayName\", StringType(), True),\n",
    "    StructField(\"LastEditorUserId\",IntegerType(), True),\n",
    "    StructField(\"OwnerDisplayName\", StringType(), True),\n",
    "    StructField(\"OwnerUserId\",IntegerType(), True),\n",
    "    StructField(\"ParentId\",IntegerType(), True),\n",
    "    StructField(\"PostTypeId\",IntegerType(), True),\n",
    "    StructField(\"Score\",IntegerType(), True),\n",
    "    StructField(\"Tags\", StringType(), True),\n",
    "    StructField(\"Title\", StringType(), True),\n",
    "    StructField(\"ViewCount\",IntegerType(), True)\n",
    "])\n",
    "   "
   ]
  },
  {
   "cell_type": "code",
   "execution_count": 12,
   "metadata": {},
   "outputs": [],
   "source": [
    "df_posts = spark.read.format(\"xml\") \\\n",
    "    .option(\"rowTag\", \"row\")\\\n",
    "    .option(\"attributePrefix\", \"\") \\\n",
    "    .schema(schema) \\\n",
    "    .load(r\"Dataset/Posts.xml\") "
   ]
  },
  {
   "cell_type": "code",
   "execution_count": 13,
   "metadata": {},
   "outputs": [],
   "source": [
    "#df_posts.show()"
   ]
  },
  {
   "cell_type": "code",
   "execution_count": 75,
   "metadata": {},
   "outputs": [
    {
     "name": "stdout",
     "output_type": "stream",
     "text": [
      "root\n",
      " |-- AcceptedAnswerId: integer (nullable = true)\n",
      " |-- AnswerCount: integer (nullable = true)\n",
      " |-- Body: string (nullable = true)\n",
      " |-- ClosedDate: timestamp (nullable = true)\n",
      " |-- CommentCount: integer (nullable = true)\n",
      " |-- CommunityOwnedDate: timestamp (nullable = true)\n",
      " |-- ContentLicense: string (nullable = true)\n",
      " |-- CreationDate: timestamp (nullable = true)\n",
      " |-- FavoriteCount: integer (nullable = true)\n",
      " |-- Id: integer (nullable = true)\n",
      " |-- LastActivityDate: timestamp (nullable = true)\n",
      " |-- LastEditDate: timestamp (nullable = true)\n",
      " |-- LastEditorDisplayName: string (nullable = true)\n",
      " |-- LastEditorUserId: integer (nullable = true)\n",
      " |-- OwnerDisplayName: string (nullable = true)\n",
      " |-- OwnerUserId: integer (nullable = true)\n",
      " |-- ParentId: integer (nullable = true)\n",
      " |-- PostTypeId: integer (nullable = true)\n",
      " |-- Score: integer (nullable = true)\n",
      " |-- Tags: string (nullable = true)\n",
      " |-- Title: string (nullable = true)\n",
      " |-- ViewCount: integer (nullable = true)\n",
      "\n"
     ]
    }
   ],
   "source": [
    "df_posts.printSchema()"
   ]
  },
  {
   "cell_type": "markdown",
   "metadata": {},
   "source": [
    "## Filtering posts to Questions and answers "
   ]
  },
  {
   "cell_type": "code",
   "execution_count": 15,
   "metadata": {},
   "outputs": [],
   "source": [
    "df_Questions = df_posts.where(col('PostTypeId') == 1)"
   ]
  },
  {
   "cell_type": "code",
   "execution_count": 16,
   "metadata": {},
   "outputs": [],
   "source": [
    "#df_Questions.show()"
   ]
  },
  {
   "cell_type": "code",
   "execution_count": 17,
   "metadata": {},
   "outputs": [],
   "source": [
    "df_Answers = df_posts.where(col('PostTypeId') == 2)"
   ]
  },
  {
   "cell_type": "code",
   "execution_count": 18,
   "metadata": {},
   "outputs": [],
   "source": [
    "#df_Answers.show()"
   ]
  },
  {
   "cell_type": "markdown",
   "metadata": {},
   "source": [
    "## Working with Questions "
   ]
  },
  {
   "cell_type": "markdown",
   "metadata": {},
   "source": [
    "### Filtering coloumns"
   ]
  },
  {
   "cell_type": "code",
   "execution_count": 19,
   "metadata": {},
   "outputs": [
    {
     "name": "stdout",
     "output_type": "stream",
     "text": [
      "root\n",
      " |-- AcceptedAnswerId: integer (nullable = true)\n",
      " |-- AnswerCount: integer (nullable = true)\n",
      " |-- Body: string (nullable = true)\n",
      " |-- ClosedDate: timestamp (nullable = true)\n",
      " |-- CommentCount: integer (nullable = true)\n",
      " |-- CommunityOwnedDate: timestamp (nullable = true)\n",
      " |-- ContentLicense: string (nullable = true)\n",
      " |-- CreationDate: timestamp (nullable = true)\n",
      " |-- FavoriteCount: integer (nullable = true)\n",
      " |-- Id: integer (nullable = true)\n",
      " |-- LastActivityDate: timestamp (nullable = true)\n",
      " |-- LastEditDate: timestamp (nullable = true)\n",
      " |-- LastEditorDisplayName: string (nullable = true)\n",
      " |-- LastEditorUserId: integer (nullable = true)\n",
      " |-- OwnerDisplayName: string (nullable = true)\n",
      " |-- OwnerUserId: integer (nullable = true)\n",
      " |-- ParentId: integer (nullable = true)\n",
      " |-- PostTypeId: integer (nullable = true)\n",
      " |-- Score: integer (nullable = true)\n",
      " |-- Tags: string (nullable = true)\n",
      " |-- Title: string (nullable = true)\n",
      " |-- ViewCount: integer (nullable = true)\n",
      "\n"
     ]
    }
   ],
   "source": [
    "df_Questions.printSchema()"
   ]
  },
  {
   "cell_type": "code",
   "execution_count": 20,
   "metadata": {},
   "outputs": [],
   "source": [
    "df_Questions_Filtered_cols = df_Questions.select('Id','OwnerUserId','CreationDate','LastActivityDate','AcceptedAnswerId','Body','Title','Tags','Score','ViewCount','AnswerCount','CommentCount')"
   ]
  },
  {
   "cell_type": "code",
   "execution_count": 21,
   "metadata": {},
   "outputs": [],
   "source": [
    "#df_Questions_Filtered_cols.show()"
   ]
  },
  {
   "cell_type": "markdown",
   "metadata": {},
   "source": [
    "### Dealing with nulls "
   ]
  },
  {
   "cell_type": "code",
   "execution_count": null,
   "metadata": {},
   "outputs": [],
   "source": [
    "null_counts = df_Questions_Filtered_cols.select([sum(when(col(c).isNull(), 1).otherwise(0)).alias(c) for c in df_Questions_Filtered_cols.columns])\n",
    "#null_counts.show()"
   ]
  },
  {
   "cell_type": "markdown",
   "metadata": {},
   "source": [
    "#### UserID Nulls to -2 and Accepted Answer ID nulls to -1"
   ]
  },
  {
   "cell_type": "code",
   "execution_count": 23,
   "metadata": {},
   "outputs": [],
   "source": [
    "df_Questions_Handling_Nulls = df_Questions_Filtered_cols.fillna({\n",
    "    'OwnerUserId':'-2',\n",
    "    'AcceptedAnswerId': '-1'\n",
    "})"
   ]
  },
  {
   "cell_type": "code",
   "execution_count": 24,
   "metadata": {},
   "outputs": [],
   "source": [
    "#df_Questions_Handling_Nulls.show()"
   ]
  },
  {
   "cell_type": "code",
   "execution_count": 25,
   "metadata": {},
   "outputs": [],
   "source": [
    "null_counts_again = df_Questions_Handling_Nulls.select([sum(when(col(c).isNull(), 1).otherwise(0)).alias(c) for c in df_Questions_Handling_Nulls.columns])"
   ]
  },
  {
   "cell_type": "code",
   "execution_count": 26,
   "metadata": {},
   "outputs": [],
   "source": [
    "#null_counts_again.show()"
   ]
  },
  {
   "cell_type": "markdown",
   "metadata": {},
   "source": [
    "#### Handling Duplication "
   ]
  },
  {
   "cell_type": "code",
   "execution_count": 27,
   "metadata": {},
   "outputs": [],
   "source": [
    "duplicates = df_Questions_Handling_Nulls.groupBy('OwnerUserId','Body').count().filter(\"count > 1\")\n",
    "#duplicates.show()"
   ]
  },
  {
   "cell_type": "code",
   "execution_count": 28,
   "metadata": {},
   "outputs": [],
   "source": [
    "#duplicates.count()"
   ]
  },
  {
   "cell_type": "code",
   "execution_count": 29,
   "metadata": {},
   "outputs": [],
   "source": [
    "df_Questions_dropping_duplicates=df_Questions_Handling_Nulls.dropDuplicates(['OwnerUserId','Body'])"
   ]
  },
  {
   "cell_type": "code",
   "execution_count": 30,
   "metadata": {},
   "outputs": [],
   "source": [
    "duplicates_validation = df_Questions_dropping_duplicates.groupBy('OwnerUserId','Body').count().filter(\"count > 1\")\n",
    "#duplicates_validation.show()"
   ]
  },
  {
   "cell_type": "markdown",
   "metadata": {},
   "source": [
    "#### Converting Date types "
   ]
  },
  {
   "cell_type": "code",
   "execution_count": 31,
   "metadata": {},
   "outputs": [],
   "source": [
    "from pyspark.sql.functions import to_date, col, to_timestamp\n"
   ]
  },
  {
   "cell_type": "code",
   "execution_count": 32,
   "metadata": {},
   "outputs": [],
   "source": [
    "df_Questions_Date_only =  df_Questions_dropping_duplicates.withColumn(\"CreationDate\", to_date(col(\"CreationDate\"),\"yyyy-MM-DD\"))\n",
    "df_Questions_Date_only = df_Questions_Date_only.withColumn(\"LastActivityDate\", to_date(col(\"LastActivityDate\"),\"yyyy-MM-DD\"))\n"
   ]
  },
  {
   "cell_type": "code",
   "execution_count": 33,
   "metadata": {},
   "outputs": [],
   "source": [
    "#df_Questions_Date_only.show()"
   ]
  },
  {
   "cell_type": "code",
   "execution_count": 34,
   "metadata": {},
   "outputs": [],
   "source": [
    "#df_Questions_Date_only.select('Title').show(truncate=False)"
   ]
  },
  {
   "cell_type": "code",
   "execution_count": 35,
   "metadata": {},
   "outputs": [],
   "source": [
    "#df_Questions_Date_only.collect()\n",
    "#df_Questions_Date_only.limit(10).show(truncate=False)"
   ]
  },
  {
   "cell_type": "markdown",
   "metadata": {},
   "source": [
    "### Handling Body (HTML to Text )"
   ]
  },
  {
   "cell_type": "code",
   "execution_count": 36,
   "metadata": {},
   "outputs": [],
   "source": [
    "def html_to_text(html):\n",
    "    if html is None:\n",
    "        return None\n",
    "    # Parse the HTML and extract the text content\n",
    "    soup = BeautifulSoup(html, \"html.parser\")\n",
    "    return soup.get_text()\n"
   ]
  },
  {
   "cell_type": "code",
   "execution_count": 37,
   "metadata": {},
   "outputs": [],
   "source": [
    "html_to_text_udf = udf(html_to_text, StringType())\n"
   ]
  },
  {
   "cell_type": "code",
   "execution_count": 38,
   "metadata": {},
   "outputs": [],
   "source": [
    "df_Questions_HTMLToText = df_Questions_Date_only.withColumn(\"Body\", html_to_text_udf(col(\"Body\")))\n",
    "\n"
   ]
  },
  {
   "cell_type": "code",
   "execution_count": 39,
   "metadata": {},
   "outputs": [],
   "source": [
    "#df_Questions_HTMLToText.show(truncate=False)"
   ]
  },
  {
   "cell_type": "code",
   "execution_count": 40,
   "metadata": {},
   "outputs": [],
   "source": [
    "df_Questions_refined_text = df_Questions_HTMLToText.withColumn(\n",
    "    \"Body\",\n",
    "    trim(\n",
    "        regexp_replace(\n",
    "            lower(\n",
    "                regexp_replace(\"Body\", \"\\\\s+\", \" \")\n",
    "            ),\n",
    "            \"[^a-zA-Z0-9\\\\s]\",\n",
    "            \"\"\n",
    "        )\n",
    "    )\n",
    ")"
   ]
  },
  {
   "cell_type": "code",
   "execution_count": 41,
   "metadata": {},
   "outputs": [],
   "source": [
    "#df_Questions_refined_text.show()"
   ]
  },
  {
   "cell_type": "code",
   "execution_count": 42,
   "metadata": {},
   "outputs": [],
   "source": [
    "#df_Questions_refined_text.select('Body').show(truncate = False)"
   ]
  },
  {
   "cell_type": "markdown",
   "metadata": {},
   "source": [
    "#### Dealing with Tags"
   ]
  },
  {
   "cell_type": "code",
   "execution_count": 43,
   "metadata": {},
   "outputs": [],
   "source": [
    "#df_Questions_refined_text.select('Tags').show()"
   ]
  },
  {
   "cell_type": "code",
   "execution_count": 44,
   "metadata": {},
   "outputs": [],
   "source": [
    "df_Questions_final = df_Questions_refined_text.withColumn(\"Tags\", expr(\"substring(Tags, 2, length(Tags) - 2)\"))"
   ]
  },
  {
   "cell_type": "code",
   "execution_count": 45,
   "metadata": {},
   "outputs": [],
   "source": [
    "#df_Questions_final.select(col('Tags')).show(truncate=False)"
   ]
  },
  {
   "cell_type": "code",
   "execution_count": 46,
   "metadata": {},
   "outputs": [],
   "source": [
    "df_Questions_final = df_Questions_final.withColumn(\"Tags\", split(df_Questions_final[\"Tags\"], \"\\><\"))\n"
   ]
  },
  {
   "cell_type": "code",
   "execution_count": 47,
   "metadata": {},
   "outputs": [
    {
     "name": "stdout",
     "output_type": "stream",
     "text": [
      "+-----------------------------------------------------------------------------------------+\n",
      "|Tags                                                                                     |\n",
      "+-----------------------------------------------------------------------------------------+\n",
      "|[self-study, p-value, standard-deviation, least-squares, sums-of-squares]                |\n",
      "|[self-study, variance, simulation, monte-carlo, numerical-integration]                   |\n",
      "|[self-study, simulation, monte-carlo, importance-sampling]                               |\n",
      "|[time-series, self-study, forecasting, arima]                                            |\n",
      "|[probability, hypothesis-testing, self-study, normal-distribution, multivariate-analysis]|\n",
      "|[hypothesis-testing, self-study, maximum-likelihood, inference, likelihood-ratio]        |\n",
      "|[hypothesis-testing, self-study, inference, exponential-family]                          |\n",
      "|[probability, self-study, normal-distribution, chi-squared-test, expected-value]         |\n",
      "|[self-study, estimation, inference, umvue]                                               |\n",
      "|[probability, distributions, beta-distribution, inverse-gamma-distribution]              |\n",
      "|[regression, self-study, least-squares, independence]                                    |\n",
      "|[logistic, spss]                                                                         |\n",
      "|[mixed-model, interpretation, glmm, effects]                                             |\n",
      "|[r, distributions]                                                                       |\n",
      "|[machine-learning, python, overfitting]                                                  |\n",
      "|[r, regression, negative-binomial-distribution, poisson-regression, offset]              |\n",
      "|[machine-learning, classification, neural-networks, cross-validation, perceptron]        |\n",
      "|[bonferroni]                                                                             |\n",
      "|[hypothesis-testing, poisson-distribution, bootstrap]                                    |\n",
      "|[regression, assumptions]                                                                |\n",
      "+-----------------------------------------------------------------------------------------+\n",
      "only showing top 20 rows\n",
      "\n"
     ]
    }
   ],
   "source": [
    "df_Questions_final.select(col('Tags')).show(truncate=False)"
   ]
  },
  {
   "cell_type": "code",
   "execution_count": 48,
   "metadata": {},
   "outputs": [],
   "source": [
    "df_Questions_final = df_Questions_final.withColumnRenamed(\"Id\",\"QuestionId\")"
   ]
  },
  {
   "cell_type": "markdown",
   "metadata": {},
   "source": [
    "#### writing to a new file "
   ]
  },
  {
   "cell_type": "code",
   "execution_count": 49,
   "metadata": {},
   "outputs": [],
   "source": [
    "df_Questions_final.coalesce(1).write.mode(\"overwrite\").parquet(\"SilverDataSet/Questions\")"
   ]
  },
  {
   "cell_type": "code",
   "execution_count": 50,
   "metadata": {},
   "outputs": [],
   "source": [
    "#df_Questions_final.write.mode(\"overwrite\").parquet(\"D:/mada/programming/DataEngineering/Iti/GP/Transformation/SilverDataSet/Questions.parquet\")\n"
   ]
  },
  {
   "cell_type": "code",
   "execution_count": 51,
   "metadata": {},
   "outputs": [
    {
     "name": "stdout",
     "output_type": "stream",
     "text": [
      "root\n",
      " |-- QuestionId: integer (nullable = true)\n",
      " |-- OwnerUserId: integer (nullable = true)\n",
      " |-- CreationDate: date (nullable = true)\n",
      " |-- LastActivityDate: date (nullable = true)\n",
      " |-- AcceptedAnswerId: integer (nullable = true)\n",
      " |-- Body: string (nullable = true)\n",
      " |-- Title: string (nullable = true)\n",
      " |-- Tags: array (nullable = true)\n",
      " |    |-- element: string (containsNull = false)\n",
      " |-- Score: integer (nullable = true)\n",
      " |-- ViewCount: integer (nullable = true)\n",
      " |-- AnswerCount: integer (nullable = true)\n",
      " |-- CommentCount: integer (nullable = true)\n",
      "\n"
     ]
    }
   ],
   "source": [
    "df_Questions_final.printSchema()"
   ]
  },
  {
   "cell_type": "code",
   "execution_count": 52,
   "metadata": {},
   "outputs": [
    {
     "name": "stdout",
     "output_type": "stream",
     "text": [
      "+----------+-----------+------------+----------------+----------------+--------------------+--------------------+--------------------+-----+---------+-----------+------------+\n",
      "|QuestionId|OwnerUserId|CreationDate|LastActivityDate|AcceptedAnswerId|                Body|               Title|                Tags|Score|ViewCount|AnswerCount|CommentCount|\n",
      "+----------+-----------+------------+----------------+----------------+--------------------+--------------------+--------------------+-----+---------+-----------+------------+\n",
      "|     95868|         -2|  2014-05-01|      2014-05-01|           95962|my attempt at mak...|Least Squares Fit...|[self-study, p-va...|    1|      135|          1|          19|\n",
      "|    146732|         -2|  2015-04-16|      2015-04-17|          146762|i have some troub...|Variance reductio...|[self-study, vari...|    7|     1733|          1|           5|\n",
      "|    151163|         -2|  2015-05-07|      2022-05-25|          151432|implement an esti...|Monte Carlo integ...|[self-study, simu...|    5|      601|          3|           5|\n",
      "|    252960|         -2|  2016-12-23|      2016-12-23|              -1|let b the lag ope...|Forecast of $(1-0...|[time-series, sel...|    1|       50|          0|           3|\n",
      "|    300402|         -2|  2017-08-29|      2017-08-30|              -1|let xsim npmusigm...|Hypothesis test a...|[probability, hyp...|    0|       60|          0|           2|\n",
      "|    156836|         -2|  2015-06-13|      2015-06-14|          156855|let x1xn random s...|Likelihood ratio ...|[hypothesis-testi...|    3|     9992|          1|           2|\n",
      "|    158971|         -2|  2015-06-27|      2015-06-28|              -1|let x1xn a random...|Karlin-Rubin theo...|[hypothesis-testi...|    1|     1554|          0|          14|\n",
      "|    222915|         -2|  2016-07-09|      2019-04-27|          222989|let x1 x2 cdots x...|Expectation of $\\...|[probability, sel...|   10|      276|          2|           0|\n",
      "|    152927|         -2|  2015-05-19|      2019-12-14|          153315|let x1ldotsxn be ...|UMVUE of $p^4$ wh...|[self-study, esti...|    2|     1082|          1|           1|\n",
      "|    215770|         -2|  2016-06-01|      2019-07-26|          215809|let ig denote inv...|Show that $\\frac{...|[probability, dis...|    3|     1555|          1|           3|\n",
      "|    181787|         -2|  2015-11-14|      2015-11-15|              -1|suppose that over...|Simultaneous conf...|[regression, self...|    0|      101|          0|           6|\n",
      "|      6609|         -2|  2011-01-27|      2011-02-25|              -1|question can you ...|How to do a repea...|    [logistic, spss]|    6|     2220|          1|           1|\n",
      "|    394647|         -2|  2019-02-27|      2019-02-27|          394666|this question is ...|How to interpret ...|[mixed-model, int...|    3|      305|          1|           0|\n",
      "|     62953|         -2|  2013-06-30|      2013-07-01|           63001|23 patients suffe...|How to test for \"...|  [r, distributions]|    2|      623|          1|           9|\n",
      "|    421582|         -2|  2019-08-09|      2019-08-15|              -1|i am working on a...|How to identify a...|[machine-learning...|    1|      807|          1|           0|\n",
      "|    603160|         -2|  2023-01-25|      2023-01-25|          603165|m1 glmnbnumber  f...|Regression Estima...|[r, regression, n...|    1|       60|          1|           5|\n",
      "|    401259|         -2|  2019-04-04|      2019-04-04|              -1|im really not sur...|Choosing perceptr...|[machine-learning...|    0|       52|          0|           3|\n",
      "|    324494|         -2|  2018-01-22|      2018-01-31|              -1|question practica...|Bonferroni correc...|        [bonferroni]|    1|      801|          2|           0|\n",
      "|      8083|         -2|  2011-03-09|      2011-03-10|              -1|revised version s...|One-sample-disper...|[hypothesis-testi...|    1|     1731|          2|           5|\n",
      "|    247986|         -2|  2016-11-26|      2016-12-18|              -1|im trying to see ...|Does regression w...|[regression, assu...|    8|     1114|          2|           8|\n",
      "+----------+-----------+------------+----------------+----------------+--------------------+--------------------+--------------------+-----+---------+-----------+------------+\n",
      "only showing top 20 rows\n",
      "\n"
     ]
    }
   ],
   "source": [
    "df_Questions_final.show()"
   ]
  },
  {
   "cell_type": "markdown",
   "metadata": {},
   "source": [
    "## Working With Answers"
   ]
  },
  {
   "cell_type": "code",
   "execution_count": 53,
   "metadata": {},
   "outputs": [
    {
     "name": "stdout",
     "output_type": "stream",
     "text": [
      "+----------------+-----------+--------------------+----------+------------+--------------------+--------------+--------------------+-------------+---+--------------------+--------------------+---------------------+----------------+----------------+-----------+--------+----------+-----+----+-----+---------+\n",
      "|AcceptedAnswerId|AnswerCount|                Body|ClosedDate|CommentCount|  CommunityOwnedDate|ContentLicense|        CreationDate|FavoriteCount| Id|    LastActivityDate|        LastEditDate|LastEditorDisplayName|LastEditorUserId|OwnerDisplayName|OwnerUserId|ParentId|PostTypeId|Score|Tags|Title|ViewCount|\n",
      "+----------------+-----------+--------------------+----------+------------+--------------------+--------------+--------------------+-------------+---+--------------------+--------------------+---------------------+----------------+----------------+-----------+--------+----------+-----+----+-----+---------+\n",
      "|            NULL|       NULL|<p>The R-project<...|      NULL|           3|2010-07-19 22:14:...|  CC BY-SA 2.5|2010-07-19 22:14:...|         NULL|  5|2010-07-19 22:21:...|2010-07-19 22:21:...|                 NULL|              23|            NULL|         23|       3|         2|   90|NULL| NULL|     NULL|\n",
      "|            NULL|       NULL|<p><a href=\"http:...|      NULL|           3|2010-07-19 22:16:...|  CC BY-SA 2.5|2010-07-19 22:16:...|         NULL|  9|2010-07-19 22:16:...|                NULL|                 NULL|            NULL|            NULL|         50|       3|         2|   15|NULL| NULL|     NULL|\n",
      "|            NULL|       NULL|<p>See my respons...|      NULL|           1|2011-08-12 22:29:...|  CC BY-SA 2.5|2010-07-19 22:18:...|         NULL| 12|2010-07-19 22:18:...|2017-05-23 14:39:...|                 NULL|              -1|            NULL|          5|       7|         2|   24|NULL| NULL|     NULL|\n",
      "|            NULL|       NULL|<p>Machine Learni...|      NULL|           6|                NULL|  CC BY-SA 2.5|2010-07-19 22:18:...|         NULL| 13|2010-07-19 22:18:...|                NULL|                 NULL|            NULL|            NULL|         23|       6|         2|   27|NULL| NULL|     NULL|\n",
      "|            NULL|       NULL|<p>I second that ...|      NULL|           1|2010-07-19 22:19:...|  CC BY-SA 2.5|2010-07-19 22:19:...|         NULL| 14|2010-07-19 22:19:...|                NULL|                 NULL|            NULL|            NULL|         36|       3|         2|    6|NULL| NULL|     NULL|\n",
      "|            NULL|       NULL|<p>John Cook give...|      NULL|           0|                NULL|  CC BY-SA 2.5|2010-07-19 22:19:...|         NULL| 15|2010-07-19 22:19:...|                NULL|                 NULL|            NULL|            NULL|          6|       1|         2|   24|NULL| NULL|     NULL|\n",
      "|            NULL|       NULL|<p>Two projects s...|      NULL|           2|2010-07-19 22:22:...|  CC BY-SA 2.5|2010-07-19 22:22:...|         NULL| 16|2010-07-19 23:43:...|2010-07-19 23:43:...|                 NULL|               8|            NULL|          8|       3|         2|   17|NULL| NULL|     NULL|\n",
      "|            NULL|       NULL|<p>Also see the U...|      NULL|           1|2011-08-12 22:31:...|  CC BY-SA 2.5|2010-07-19 22:24:...|         NULL| 18|2010-07-19 22:24:...|                NULL|                 NULL|            NULL|            NULL|         36|       7|         2|   43|NULL| NULL|     NULL|\n",
      "|            NULL|       NULL|<p><a href=\"http:...|      NULL|           0|2011-08-12 22:29:...|  CC BY-SA 2.5|2010-07-19 22:24:...|         NULL| 19|2010-07-19 22:24:...|                NULL|                 NULL|            NULL|            NULL|         55|       7|         2|   16|NULL| NULL|     NULL|\n",
      "|            NULL|       NULL|<p>The assumption...|      NULL|           2|                NULL|  CC BY-SA 2.5|2010-07-19 22:24:...|         NULL| 20|2010-07-19 22:24:...|                NULL|                 NULL|            NULL|            NULL|         37|       2|         2|    3|NULL| NULL|     NULL|\n",
      "|            NULL|       NULL|<p>For doing a va...|      NULL|           0|2010-07-19 22:26:...|  CC BY-SA 4.0|2010-07-19 22:26:...|         NULL| 24|2022-11-28 01:15:...|2022-11-28 01:15:...|                 NULL|          362671|            NULL|         61|       3|         2|   22|NULL| NULL|     NULL|\n",
      "|            NULL|       NULL|<p><a href=\"http:...|      NULL|           0|2010-07-19 22:28:...|  CC BY-SA 4.0|2010-07-19 22:28:...|         NULL| 28|2022-11-28 01:14:...|2022-11-28 01:14:...|                 NULL|          362671|          user28|       NULL|       3|         2|    7|NULL| NULL|     NULL|\n",
      "|            NULL|       NULL|<p>Contingency ta...|      NULL|           0|                NULL|  CC BY-SA 2.5|2010-07-19 22:28:...|         NULL| 29|2010-07-19 22:28:...|                NULL|                 NULL|            NULL|            NULL|         36|      17|         2|    8|NULL| NULL|     NULL|\n",
      "|            NULL|       NULL|<p>I recommend R ...|      NULL|           0|                NULL|  CC BY-SA 2.5|2010-07-19 22:29:...|         NULL| 32|2010-07-19 22:29:...|2017-05-23 14:39:...|                 NULL|              -1|            NULL|          5|      25|         2|   16|NULL| NULL|     NULL|\n",
      "|            NULL|       NULL|<p>If your mean v...|      NULL|           2|                NULL|  CC BY-SA 2.5|2010-07-19 22:32:...|         NULL| 38|2010-07-19 22:32:...|                NULL|                 NULL|            NULL|            NULL|         61|      35|         2|    4|NULL| NULL|     NULL|\n",
      "|            NULL|       NULL|<p>A quote from <...|      NULL|           0|                NULL|  CC BY-SA 3.0|2010-07-19 22:33:...|         NULL| 41|2015-06-17 10:59:...|2015-06-17 10:59:...|                 NULL|              -1|            NULL|         83|      26|         2|   12|NULL| NULL|     NULL|\n",
      "|            NULL|       NULL|<p><a href=\"http:...|      NULL|           3|2010-07-19 22:33:...|  CC BY-SA 2.5|2010-07-19 22:33:...|         NULL| 42|2010-07-19 22:33:...|                NULL|                 NULL|            NULL|            NULL|         80|       3|         2|   15|NULL| NULL|     NULL|\n",
      "|            NULL|       NULL|<p>R is great, bu...|      NULL|           5|                NULL|  CC BY-SA 4.0|2010-07-19 22:33:...|         NULL| 43|2022-12-03 16:50:...|2022-12-03 16:50:...|                 NULL|          362671|            NULL|         74|      25|         2|    7|NULL| NULL|     NULL|\n",
      "|            NULL|       NULL|<p>The <a href=\"h...|      NULL|           1|                NULL|  CC BY-SA 2.5|2010-07-19 22:34:...|         NULL| 45|2010-07-19 22:34:...|                NULL|                 NULL|            NULL|            NULL|         55|      40|         2|    6|NULL| NULL|     NULL|\n",
      "|            NULL|       NULL|<p>A standard dev...|      NULL|           2|                NULL|  CC BY-SA 2.5|2010-07-19 22:35:...|         NULL| 46|2010-07-20 05:13:...|2010-07-20 05:13:...|                 NULL|              62|            NULL|         62|      26|         2|    1|NULL| NULL|     NULL|\n",
      "+----------------+-----------+--------------------+----------+------------+--------------------+--------------+--------------------+-------------+---+--------------------+--------------------+---------------------+----------------+----------------+-----------+--------+----------+-----+----+-----+---------+\n",
      "only showing top 20 rows\n",
      "\n"
     ]
    }
   ],
   "source": [
    "df_Answers.show()"
   ]
  },
  {
   "cell_type": "code",
   "execution_count": 54,
   "metadata": {},
   "outputs": [],
   "source": [
    "#print(spark.sparkContext.getConf().get(\"spark.jars\"))\n"
   ]
  },
  {
   "cell_type": "code",
   "execution_count": 55,
   "metadata": {},
   "outputs": [],
   "source": [
    "#df = spark.read.parquet(\"D:\\mada\\programming\\DataEngineering\\Iti\\GP\\Transformation\\SilverDataSet\\Questions\")"
   ]
  },
  {
   "cell_type": "code",
   "execution_count": 56,
   "metadata": {},
   "outputs": [],
   "source": [
    "#df.show()"
   ]
  },
  {
   "cell_type": "code",
   "execution_count": 57,
   "metadata": {},
   "outputs": [
    {
     "name": "stdout",
     "output_type": "stream",
     "text": [
      "root\n",
      " |-- AcceptedAnswerId: integer (nullable = true)\n",
      " |-- AnswerCount: integer (nullable = true)\n",
      " |-- Body: string (nullable = true)\n",
      " |-- ClosedDate: timestamp (nullable = true)\n",
      " |-- CommentCount: integer (nullable = true)\n",
      " |-- CommunityOwnedDate: timestamp (nullable = true)\n",
      " |-- ContentLicense: string (nullable = true)\n",
      " |-- CreationDate: timestamp (nullable = true)\n",
      " |-- FavoriteCount: integer (nullable = true)\n",
      " |-- Id: integer (nullable = true)\n",
      " |-- LastActivityDate: timestamp (nullable = true)\n",
      " |-- LastEditDate: timestamp (nullable = true)\n",
      " |-- LastEditorDisplayName: string (nullable = true)\n",
      " |-- LastEditorUserId: integer (nullable = true)\n",
      " |-- OwnerDisplayName: string (nullable = true)\n",
      " |-- OwnerUserId: integer (nullable = true)\n",
      " |-- ParentId: integer (nullable = true)\n",
      " |-- PostTypeId: integer (nullable = true)\n",
      " |-- Score: integer (nullable = true)\n",
      " |-- Tags: string (nullable = true)\n",
      " |-- Title: string (nullable = true)\n",
      " |-- ViewCount: integer (nullable = true)\n",
      "\n"
     ]
    }
   ],
   "source": [
    "df_Answers.printSchema()"
   ]
  },
  {
   "cell_type": "code",
   "execution_count": 58,
   "metadata": {},
   "outputs": [],
   "source": [
    "df_Answers_Filtered_cols = df_Answers.select('Id','ParentId','OwnerUserId','CreationDate','LastActivityDate','Body','Score','CommentCount')"
   ]
  },
  {
   "cell_type": "code",
   "execution_count": 59,
   "metadata": {},
   "outputs": [
    {
     "name": "stdout",
     "output_type": "stream",
     "text": [
      "+---+--------+-----------+--------------------+--------------------+--------------------+-----+------------+\n",
      "| Id|ParentId|OwnerUserId|        CreationDate|    LastActivityDate|                Body|Score|CommentCount|\n",
      "+---+--------+-----------+--------------------+--------------------+--------------------+-----+------------+\n",
      "|  5|       3|         23|2010-07-19 22:14:...|2010-07-19 22:21:...|<p>The R-project<...|   90|           3|\n",
      "|  9|       3|         50|2010-07-19 22:16:...|2010-07-19 22:16:...|<p><a href=\"http:...|   15|           3|\n",
      "| 12|       7|          5|2010-07-19 22:18:...|2010-07-19 22:18:...|<p>See my respons...|   24|           1|\n",
      "| 13|       6|         23|2010-07-19 22:18:...|2010-07-19 22:18:...|<p>Machine Learni...|   27|           6|\n",
      "| 14|       3|         36|2010-07-19 22:19:...|2010-07-19 22:19:...|<p>I second that ...|    6|           1|\n",
      "| 15|       1|          6|2010-07-19 22:19:...|2010-07-19 22:19:...|<p>John Cook give...|   24|           0|\n",
      "| 16|       3|          8|2010-07-19 22:22:...|2010-07-19 23:43:...|<p>Two projects s...|   17|           2|\n",
      "| 18|       7|         36|2010-07-19 22:24:...|2010-07-19 22:24:...|<p>Also see the U...|   43|           1|\n",
      "| 19|       7|         55|2010-07-19 22:24:...|2010-07-19 22:24:...|<p><a href=\"http:...|   16|           0|\n",
      "| 20|       2|         37|2010-07-19 22:24:...|2010-07-19 22:24:...|<p>The assumption...|    3|           2|\n",
      "| 24|       3|         61|2010-07-19 22:26:...|2022-11-28 01:15:...|<p>For doing a va...|   22|           0|\n",
      "| 28|       3|       NULL|2010-07-19 22:28:...|2022-11-28 01:14:...|<p><a href=\"http:...|    7|           0|\n",
      "| 29|      17|         36|2010-07-19 22:28:...|2010-07-19 22:28:...|<p>Contingency ta...|    8|           0|\n",
      "| 32|      25|          5|2010-07-19 22:29:...|2010-07-19 22:29:...|<p>I recommend R ...|   16|           0|\n",
      "| 38|      35|         61|2010-07-19 22:32:...|2010-07-19 22:32:...|<p>If your mean v...|    4|           2|\n",
      "| 41|      26|         83|2010-07-19 22:33:...|2015-06-17 10:59:...|<p>A quote from <...|   12|           0|\n",
      "| 42|       3|         80|2010-07-19 22:33:...|2010-07-19 22:33:...|<p><a href=\"http:...|   15|           3|\n",
      "| 43|      25|         74|2010-07-19 22:33:...|2022-12-03 16:50:...|<p>R is great, bu...|    7|           5|\n",
      "| 45|      40|         55|2010-07-19 22:34:...|2010-07-19 22:34:...|<p>The <a href=\"h...|    6|           1|\n",
      "| 46|      26|         62|2010-07-19 22:35:...|2010-07-20 05:13:...|<p>A standard dev...|    1|           2|\n",
      "+---+--------+-----------+--------------------+--------------------+--------------------+-----+------------+\n",
      "only showing top 20 rows\n",
      "\n"
     ]
    }
   ],
   "source": [
    "df_Answers_Filtered_cols.show()"
   ]
  },
  {
   "cell_type": "markdown",
   "metadata": {},
   "source": [
    "### Dealing with nulls"
   ]
  },
  {
   "cell_type": "code",
   "execution_count": 60,
   "metadata": {},
   "outputs": [],
   "source": [
    "null_counts = df_Answers_Filtered_cols.select([sum(when(col(c).isNull(), 1).otherwise(0)).alias(c) for c in df_Answers_Filtered_cols.columns])\n"
   ]
  },
  {
   "cell_type": "code",
   "execution_count": 61,
   "metadata": {},
   "outputs": [
    {
     "name": "stdout",
     "output_type": "stream",
     "text": [
      "+---+--------+-----------+------------+----------------+----+-----+------------+\n",
      "| Id|ParentId|OwnerUserId|CreationDate|LastActivityDate|Body|Score|CommentCount|\n",
      "+---+--------+-----------+------------+----------------+----+-----+------------+\n",
      "|  0|       0|       2528|           0|               0|   0|    0|           0|\n",
      "+---+--------+-----------+------------+----------------+----+-----+------------+\n",
      "\n"
     ]
    }
   ],
   "source": [
    "null_counts.show()"
   ]
  },
  {
   "cell_type": "code",
   "execution_count": 62,
   "metadata": {},
   "outputs": [],
   "source": [
    "df_Answers_Handling_Nulls = df_Answers_Filtered_cols.fillna({\n",
    "    'OwnerUserId':'-2',\n",
    "})"
   ]
  },
  {
   "cell_type": "code",
   "execution_count": 63,
   "metadata": {},
   "outputs": [
    {
     "name": "stdout",
     "output_type": "stream",
     "text": [
      "+---+--------+-----------+------------+----------------+----+-----+------------+\n",
      "| Id|ParentId|OwnerUserId|CreationDate|LastActivityDate|Body|Score|CommentCount|\n",
      "+---+--------+-----------+------------+----------------+----+-----+------------+\n",
      "|  0|       0|          0|           0|               0|   0|    0|           0|\n",
      "+---+--------+-----------+------------+----------------+----+-----+------------+\n",
      "\n"
     ]
    }
   ],
   "source": [
    "null_counts = df_Answers_Handling_Nulls.select([sum(when(col(c).isNull(), 1).otherwise(0)).alias(c) for c in df_Answers_Handling_Nulls.columns])\n",
    "null_counts.show()"
   ]
  },
  {
   "cell_type": "markdown",
   "metadata": {},
   "source": [
    "### Handling Duplicates "
   ]
  },
  {
   "cell_type": "code",
   "execution_count": 64,
   "metadata": {},
   "outputs": [],
   "source": [
    "duplicates = df_Answers_Handling_Nulls.groupBy('OwnerUserId','Body','ParentId').count().filter(\"count > 1\")\n"
   ]
  },
  {
   "cell_type": "code",
   "execution_count": 65,
   "metadata": {},
   "outputs": [],
   "source": [
    "#duplicates.show()\n",
    "#duplicates.count()"
   ]
  },
  {
   "cell_type": "markdown",
   "metadata": {},
   "source": [
    "### Converting DataTypes"
   ]
  },
  {
   "cell_type": "code",
   "execution_count": 66,
   "metadata": {},
   "outputs": [
    {
     "name": "stdout",
     "output_type": "stream",
     "text": [
      "root\n",
      " |-- Id: integer (nullable = true)\n",
      " |-- ParentId: integer (nullable = true)\n",
      " |-- OwnerUserId: integer (nullable = true)\n",
      " |-- CreationDate: timestamp (nullable = true)\n",
      " |-- LastActivityDate: timestamp (nullable = true)\n",
      " |-- Body: string (nullable = true)\n",
      " |-- Score: integer (nullable = true)\n",
      " |-- CommentCount: integer (nullable = true)\n",
      "\n"
     ]
    }
   ],
   "source": [
    "df_Answers_Handling_Nulls.printSchema()"
   ]
  },
  {
   "cell_type": "code",
   "execution_count": null,
   "metadata": {},
   "outputs": [],
   "source": [
    "df_Answers_Date_only =  df_Answers_Handling_Nulls.withColumn(\"CreationDate\", to_date(col(\"CreationDate\"),\"yyyy-MM-DD\"))\n",
    "df_Answers_Date_only = df_Answers_Date_only.withColumn(\"LastActivityDate\", to_date(col(\"LastActivityDate\"),\"yyyy-MM-DD\"))"
   ]
  },
  {
   "cell_type": "code",
   "execution_count": 68,
   "metadata": {},
   "outputs": [
    {
     "name": "stdout",
     "output_type": "stream",
     "text": [
      "root\n",
      " |-- Id: integer (nullable = true)\n",
      " |-- ParentId: integer (nullable = true)\n",
      " |-- OwnerUserId: integer (nullable = true)\n",
      " |-- CreationDate: date (nullable = true)\n",
      " |-- LastActivityDate: date (nullable = true)\n",
      " |-- Body: string (nullable = true)\n",
      " |-- Score: integer (nullable = true)\n",
      " |-- CommentCount: integer (nullable = true)\n",
      "\n"
     ]
    }
   ],
   "source": [
    "df_Answers_Date_only.printSchema()"
   ]
  },
  {
   "cell_type": "markdown",
   "metadata": {},
   "source": [
    "### Handling Body (HTML to Text )"
   ]
  },
  {
   "cell_type": "code",
   "execution_count": 69,
   "metadata": {},
   "outputs": [],
   "source": [
    "df_Answers_HTMLToText = df_Answers_Date_only.withColumn(\"Body\", html_to_text_udf(col(\"Body\")))\n"
   ]
  },
  {
   "cell_type": "code",
   "execution_count": 70,
   "metadata": {},
   "outputs": [],
   "source": [
    "df_Answers_refined_text = df_Answers_HTMLToText.withColumn(\n",
    "    \"Body\",\n",
    "    trim(\n",
    "        regexp_replace(\n",
    "            lower(\n",
    "                regexp_replace(\"Body\", \"\\\\s+\", \" \")\n",
    "            ),\n",
    "            \"[^a-zA-Z0-9\\\\s]\",\n",
    "            \"\"\n",
    "        )\n",
    "    )\n",
    ")"
   ]
  },
  {
   "cell_type": "code",
   "execution_count": 71,
   "metadata": {},
   "outputs": [
    {
     "name": "stdout",
     "output_type": "stream",
     "text": [
      "+-----------------------------------------------------------------------------------------------------------------------------------------------------------------------------------------------------------------------------------------------------------------------------------------------------------------------------------------------------------------------------------------------------------------------------------------------------------------------------------------------------------------------------------------------------------------------------------------------------------------------------------------------------------------------------------------------------------------------------------------------------------------------------------------------------------------------------------------------------------------------------------------------------------------------------------------------------------------------------------------------------------------------------------------------------------------------------------------------------------------------------------------------------------------------------------------------------------------------------------------------------------------------------------------------------------------------------------------------------------------------------------------------------------------------------------------------------------------------------+\n",
      "|Body                                                                                                                                                                                                                                                                                                                                                                                                                                                                                                                                                                                                                                                                                                                                                                                                                                                                                                                                                                                                                                                                                                                                                                                                                                                                                                                                                                                                                                                                         |\n",
      "+-----------------------------------------------------------------------------------------------------------------------------------------------------------------------------------------------------------------------------------------------------------------------------------------------------------------------------------------------------------------------------------------------------------------------------------------------------------------------------------------------------------------------------------------------------------------------------------------------------------------------------------------------------------------------------------------------------------------------------------------------------------------------------------------------------------------------------------------------------------------------------------------------------------------------------------------------------------------------------------------------------------------------------------------------------------------------------------------------------------------------------------------------------------------------------------------------------------------------------------------------------------------------------------------------------------------------------------------------------------------------------------------------------------------------------------------------------------------------------+\n",
      "|the rproject httpwwwrprojectorg r is valuable and significant because it was the first widelyaccepted opensource alternative to bigbox packages its mature well supported and a standard within many scientific communities some reasons why it is useful and valuable there are some nice tutorials here                                                                                                                                                                                                                                                                                                                                                                                                                                                                                                                                                                                                                                                                                                                                                                                                                                                                                                                                                                                                                                                                                                                                                                    |\n",
      "|incanter is a clojurebased rlike platform environment  libraries for statistical computing and graphics                                                                                                                                                                                                                                                                                                                                                                                                                                                                                                                                                                                                                                                                                                                                                                                                                                                                                                                                                                                                                                                                                                                                                                                                                                                                                                                                                                      |\n",
      "|see my response to datasets for running statistical analysis on in reference to datasets in r                                                                                                                                                                                                                                                                                                                                                                                                                                                                                                                                                                                                                                                                                                                                                                                                                                                                                                                                                                                                                                                                                                                                                                                                                                                                                                                                                                                |\n",
      "|machine learning seems to have its basis in the pragmatic  a practical observation or simulation of reality even within statistics mindless checking of models and assumptions can lead to discarding methods that are useful for example years ago the very first commercially available and working bankruptcy model implemented by the credit bureaus was created through a plain old linear regression model targeting a 01 outcome technically thats a bad approach but practically it worked                                                                                                                                                                                                                                                                                                                                                                                                                                                                                                                                                                                                                                                                                                                                                                                                                                                                                                                                                                           |\n",
      "|i second that jay why is r valuable heres a short list of reasons httpwwwinsiderorgwhyuser also check out ggplot2  a very nice graphics package for r some nice tutorials here                                                                                                                                                                                                                                                                                                                                                                                                                                                                                                                                                                                                                                                                                                                                                                                                                                                                                                                                                                                                                                                                                                                                                                                                                                                                                               |\n",
      "|john cook gives some interesting recommendations basically get percentilesquantiles not means or obscure scale parameters from the experts and fit them with the appropriate distribution httpwwwjohndcookcomblog20100131parametersfrompercentiles                                                                                                                                                                                                                                                                                                                                                                                                                                                                                                                                                                                                                                                                                                                                                                                                                                                                                                                                                                                                                                                                                                                                                                                                                           |\n",
      "|two projects spring to mind bugs  taking some of the pain out of bayesian statistics it allows the user to focus more on the model and a bit less on mcmc bioconductor  perhaps the most popular statistical tool in bioinformatics i know its a r repository but there are a large number of people who want to learn r just for bioconductor the number of packages available for cutting edge analysis make it second to none                                                                                                                                                                                                                                                                                                                                                                                                                                                                                                                                                                                                                                                                                                                                                                                                                                                                                                                                                                                                                                             |\n",
      "|also see the uci machine learning data repository httparchiveicsucieduml                                                                                                                                                                                                                                                                                                                                                                                                                                                                                                                                                                                                                                                                                                                                                                                                                                                                                                                                                                                                                                                                                                                                                                                                                                                                                                                                                                                                     |\n",
      "|gapminder has a number 430 at the last look of datasets which may or may not be of use to you                                                                                                                                                                                                                                                                                                                                                                                                                                                                                                                                                                                                                                                                                                                                                                                                                                                                                                                                                                                                                                                                                                                                                                                                                                                                                                                                                                                |\n",
      "|the assumption of normality assumes your data is normally distributed the bell curve or gaussian distribution you can check this by plotting the data or checking the measures for kurtosis how sharp the peak is and skewdness  if more than half the data is on one side of the peak                                                                                                                                                                                                                                                                                                                                                                                                                                                                                                                                                                                                                                                                                                                                                                                                                                                                                                                                                                                                                                                                                                                                                                                       |\n",
      "|for doing a variety of mcmc tasks in python theres pymc which ive gotten quite a bit of use out of i havent run across anything that i can do in bugs that i cant do in pymc and the way you specify models and bring in data seems to be a lot more intuitive to me                                                                                                                                                                                                                                                                                                                                                                                                                                                                                                                                                                                                                                                                                                                                                                                                                                                                                                                                                                                                                                                                                                                                                                                                         |\n",
      "|gsl for those of you who wish to program in c  c is a valuable resource as it provides several routines for random generators linear algebra etc while gsl is primarily available for linux there are also ports for windows see this and this                                                                                                                                                                                                                                                                                                                                                                                                                                                                                                                                                                                                                                                                                                                                                                                                                                                                                                                                                                                                                                                                                                                                                                                                                               |\n",
      "|contingency table chisquare also logistic regression is your friend  use dummy variables                                                                                                                                                                                                                                                                                                                                                                                                                                                                                                                                                                                                                                                                                                                                                                                                                                                                                                                                                                                                                                                                                                                                                                                                                                                                                                                                                                                     |\n",
      "|i recommend r see the time series view on cran some useful references econometrics in r by grant farnsworth multivariate time series modelling in r                                                                                                                                                                                                                                                                                                                                                                                                                                                                                                                                                                                                                                                                                                                                                                                                                                                                                                                                                                                                                                                                                                                                                                                                                                                                                                                          |\n",
      "|if your mean value for the poisson is 1500 then youre very close to a normal distribution you might try using that as an approximation and then modelling the mean and variance separately                                                                                                                                                                                                                                                                                                                                                                                                                                                                                                                                                                                                                                                                                                                                                                                                                                                                                                                                                                                                                                                                                                                                                                                                                                                                                   |\n",
      "|a quote from wikipedia it shows how much variation there is from the average mean or expectedbudgeted value a low standard deviation indicates that the data points tend to be very close to the mean whereas high standard deviation indicates that the data is spread out over a large range of values                                                                                                                                                                                                                                                                                                                                                                                                                                                                                                                                                                                                                                                                                                                                                                                                                                                                                                                                                                                                                                                                                                                                                                     |\n",
      "|weka for data mining  contains many classification and clustering algorithms in java                                                                                                                                                                                                                                                                                                                                                                                                                                                                                                                                                                                                                                                                                                                                                                                                                                                                                                                                                                                                                                                                                                                                                                                                                                                                                                                                                                                         |\n",
      "|r is great but i wouldnt really call it windows based  thats like saying the cmd prompt is windows based i guess it is technically in a window rapidminer is far easier to use 1 its a free opensource multiplatform gui heres a video on time series forecasting financial time series modelling  part 1 also dont forget to read forecasting methods and principles 1 no i dont work for them                                                                                                                                                                                                                                                                                                                                                                                                                                                                                                                                                                                                                                                                                                                                                                                                                                                                                                                                                                                                                                                                              |\n",
      "|the mersenne twister is one ive come across and used before now                                                                                                                                                                                                                                                                                                                                                                                                                                                                                                                                                                                                                                                                                                                                                                                                                                                                                                                                                                                                                                                                                                                                                                                                                                                                                                                                                                                                              |\n",
      "|a standard deviation is the square root of the second central moment of a distribution a central moment is the expected difference from the expected value of the distribution a first central moment would usually be 0 so we define a second central moment as the expected value of the squared distance of a random variable from its expected value to put it on a scale that is more in line with the original observations we take the square root of that second central moment and call it the standard deviation standard deviation is a property of a population it measures how much average dispersion there is to that population are all the obsrvations clustered around the mean or are they widely spread out to estimate the standard deviation of a population we often calculate the standard deviation of a sample from that population to do this you take observations from that population calculate a mean of those observations and then calculate the square root of the average squared deviation from that sample mean to get an unbiased estimator of the variance you dont actually calculate the average squared deviation from the sample mean but instead you divide by n1 where n is the number of observations in your sample note that this sample standard deviation is not an unbiased estimator of the standard deviation but the square of the sample standard deviation is an unbiased estimator of the variance of the population|\n",
      "+-----------------------------------------------------------------------------------------------------------------------------------------------------------------------------------------------------------------------------------------------------------------------------------------------------------------------------------------------------------------------------------------------------------------------------------------------------------------------------------------------------------------------------------------------------------------------------------------------------------------------------------------------------------------------------------------------------------------------------------------------------------------------------------------------------------------------------------------------------------------------------------------------------------------------------------------------------------------------------------------------------------------------------------------------------------------------------------------------------------------------------------------------------------------------------------------------------------------------------------------------------------------------------------------------------------------------------------------------------------------------------------------------------------------------------------------------------------------------------+\n",
      "only showing top 20 rows\n",
      "\n"
     ]
    }
   ],
   "source": [
    "df_Answers_refined_text.select('Body').show(truncate = False)"
   ]
  },
  {
   "cell_type": "code",
   "execution_count": 72,
   "metadata": {},
   "outputs": [],
   "source": [
    "df_Answers_final = df_Answers_refined_text.withColumnRenamed(\"Id\",\"AnswerId\")\n"
   ]
  },
  {
   "cell_type": "code",
   "execution_count": 73,
   "metadata": {},
   "outputs": [],
   "source": [
    "df_Answers_final.coalesce(1).write.mode(\"overwrite\").parquet(\"SilverDataSet/Answers\")"
   ]
  },
  {
   "cell_type": "code",
   "execution_count": 74,
   "metadata": {},
   "outputs": [],
   "source": [
    "#spark.stop()"
   ]
  }
 ],
 "metadata": {
  "kernelspec": {
   "display_name": "Python (lab2)",
   "language": "python",
   "name": "lab2"
  },
  "language_info": {
   "codemirror_mode": {
    "name": "ipython",
    "version": 3
   },
   "file_extension": ".py",
   "mimetype": "text/x-python",
   "name": "python",
   "nbconvert_exporter": "python",
   "pygments_lexer": "ipython3",
   "version": "3.11.11"
  }
 },
 "nbformat": 4,
 "nbformat_minor": 2
}
