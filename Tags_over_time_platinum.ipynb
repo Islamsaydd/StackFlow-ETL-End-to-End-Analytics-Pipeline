{
  "nbformat": 4,
  "nbformat_minor": 0,
  "metadata": {
    "colab": {
      "provenance": []
    },
    "kernelspec": {
      "name": "python3",
      "display_name": "Python 3"
    },
    "language_info": {
      "name": "python"
    }
  },
  "cells": [
    {
      "cell_type": "code",
      "execution_count": 1,
      "metadata": {
        "colab": {
          "base_uri": "https://localhost:8080/"
        },
        "id": "cyiv_yQog8d4",
        "outputId": "67b41d6e-891b-4248-c9ee-a7635c515226"
      },
      "outputs": [
        {
          "output_type": "stream",
          "name": "stdout",
          "text": [
            "Requirement already satisfied: pyspark in /usr/local/lib/python3.11/dist-packages (3.5.5)\n",
            "Requirement already satisfied: py4j==0.10.9.7 in /usr/local/lib/python3.11/dist-packages (from pyspark) (0.10.9.7)\n"
          ]
        }
      ],
      "source": [
        "!apt-get install openjdk-8-jdk-headless -qq > /dev/null\n",
        "!pip install pyspark"
      ]
    },
    {
      "cell_type": "code",
      "source": [
        "from google.colab import drive\n",
        "drive.mount('/content/drive')"
      ],
      "metadata": {
        "colab": {
          "base_uri": "https://localhost:8080/"
        },
        "id": "lVE9iVUbg_7R",
        "outputId": "79cb3090-3409-40bb-c08b-c0b2ae109d15"
      },
      "execution_count": 2,
      "outputs": [
        {
          "output_type": "stream",
          "name": "stdout",
          "text": [
            "Mounted at /content/drive\n"
          ]
        }
      ]
    },
    {
      "cell_type": "code",
      "source": [
        "from pyspark.sql import SparkSession\n",
        "\n",
        "spark = SparkSession.builder \\\n",
        "    .appName(\"ReadParquetFiles\") \\\n",
        "    .getOrCreate()"
      ],
      "metadata": {
        "id": "BNeOCE89hFT5"
      },
      "execution_count": 3,
      "outputs": []
    },
    {
      "cell_type": "code",
      "source": [
        "qtb_df = spark.read.parquet(\"/content/drive/MyDrive/spark/tags/bridge tags..9904f03e6cb7-c000.snappy.parquet\")\n",
        "date_df = spark.read.parquet(\"/content/drive/MyDrive/spark/tags/date...bfe2-ee860b19f8da-c000.snappy.parquet\")\n",
        "question_df = spark.read.parquet(\"/content/drive/MyDrive/spark/tags/factttttttt_question2c273d075e62-c000.snappy.parquet\")\n",
        "tags_df = spark.read.parquet(\"/content/drive/MyDrive/spark/tags/tagggggs9336-b386ef5735ec-c000.snappy.parquet\")\n"
      ],
      "metadata": {
        "id": "3tHTHQ6ghSDo"
      },
      "execution_count": 11,
      "outputs": []
    },
    {
      "cell_type": "code",
      "source": [
        "date_df.show()"
      ],
      "metadata": {
        "colab": {
          "base_uri": "https://localhost:8080/"
        },
        "id": "-UB_OyYThjxb",
        "outputId": "01079edd-b927-48b0-8788-4df3648777f9"
      },
      "execution_count": 12,
      "outputs": [
        {
          "output_type": "stream",
          "name": "stdout",
          "text": [
            "+----------+--------+----------+-----+----+---------+---------+----------+---------+-------+----------+\n",
            "|  FullDate| DateKey|DayOfMonth|Month|Year|DayOfWeek|  DayName|WeekOfYear|MonthName|Quarter|FiscalYear|\n",
            "+----------+--------+----------+-----+----+---------+---------+----------+---------+-------+----------+\n",
            "|2010-01-01|20100101|         1|    1|2010|        6|   Friday|        53|  January|      1|      2010|\n",
            "|2010-01-02|20100102|         2|    1|2010|        7| Saturday|        53|  January|      1|      2010|\n",
            "|2010-01-03|20100103|         3|    1|2010|        1|   Sunday|        53|  January|      1|      2010|\n",
            "|2010-01-04|20100104|         4|    1|2010|        2|   Monday|         1|  January|      1|      2010|\n",
            "|2010-01-05|20100105|         5|    1|2010|        3|  Tuesday|         1|  January|      1|      2010|\n",
            "|2010-01-06|20100106|         6|    1|2010|        4|Wednesday|         1|  January|      1|      2010|\n",
            "|2010-01-07|20100107|         7|    1|2010|        5| Thursday|         1|  January|      1|      2010|\n",
            "|2010-01-08|20100108|         8|    1|2010|        6|   Friday|         1|  January|      1|      2010|\n",
            "|2010-01-09|20100109|         9|    1|2010|        7| Saturday|         1|  January|      1|      2010|\n",
            "|2010-01-10|20100110|        10|    1|2010|        1|   Sunday|         1|  January|      1|      2010|\n",
            "|2010-01-11|20100111|        11|    1|2010|        2|   Monday|         2|  January|      1|      2010|\n",
            "|2010-01-12|20100112|        12|    1|2010|        3|  Tuesday|         2|  January|      1|      2010|\n",
            "|2010-01-13|20100113|        13|    1|2010|        4|Wednesday|         2|  January|      1|      2010|\n",
            "|2010-01-14|20100114|        14|    1|2010|        5| Thursday|         2|  January|      1|      2010|\n",
            "|2010-01-15|20100115|        15|    1|2010|        6|   Friday|         2|  January|      1|      2010|\n",
            "|2010-01-16|20100116|        16|    1|2010|        7| Saturday|         2|  January|      1|      2010|\n",
            "|2010-01-17|20100117|        17|    1|2010|        1|   Sunday|         2|  January|      1|      2010|\n",
            "|2010-01-18|20100118|        18|    1|2010|        2|   Monday|         3|  January|      1|      2010|\n",
            "|2010-01-19|20100119|        19|    1|2010|        3|  Tuesday|         3|  January|      1|      2010|\n",
            "|2010-01-20|20100120|        20|    1|2010|        4|Wednesday|         3|  January|      1|      2010|\n",
            "+----------+--------+----------+-----+----+---------+---------+----------+---------+-------+----------+\n",
            "only showing top 20 rows\n",
            "\n"
          ]
        }
      ]
    },
    {
      "cell_type": "code",
      "source": [
        "tags_df.createOrReplaceTempView(\"tags\")\n",
        "qtb_df.createOrReplaceTempView(\"qtb\")\n",
        "question_df.createOrReplaceTempView(\"question\")\n",
        "date_df.createOrReplaceTempView(\"date\")"
      ],
      "metadata": {
        "id": "lIAi_jGvhoCi"
      },
      "execution_count": 13,
      "outputs": []
    },
    {
      "cell_type": "code",
      "source": [
        "result4 = spark.sql(\"\"\"\n",
        "WITH daily_counts AS (\n",
        "    SELECT\n",
        "        d.Month,\n",
        "        d.Year,\n",
        "        t.tagname,\n",
        "        d.FullDate,\n",
        "        COUNT(*) AS daily_count\n",
        "    FROM tags t\n",
        "    JOIN qtb q ON t.tag_sk = q.TagID\n",
        "    JOIN question qn ON q.Questions_Desc_SK = qn.Questions_Desc_FK\n",
        "    JOIN date d ON qn.CreationDate_FK = d.DateKey\n",
        "    GROUP BY d.Month, d.Year, t.tagname, d.FullDate\n",
        "),\n",
        "monthly_counts AS (\n",
        "    SELECT\n",
        "        Month,\n",
        "        Year,\n",
        "        tagname,\n",
        "        SUM(daily_count) AS monthly_count\n",
        "    FROM daily_counts\n",
        "    GROUP BY Month, Year, tagname\n",
        "),\n",
        "with_cumulative AS (\n",
        "    SELECT\n",
        "        mc.Month,\n",
        "        mc.Year,\n",
        "        mc.tagname,\n",
        "        mc.monthly_count,\n",
        "        SUM(mc.monthly_count) OVER (\n",
        "            PARTITION BY mc.tagname\n",
        "            ORDER BY mc.Year, mc.Month\n",
        "            ROWS BETWEEN UNBOUNDED PRECEDING AND CURRENT ROW\n",
        "        ) AS monthly_cumulative_count\n",
        "    FROM monthly_counts mc\n",
        ")\n",
        "SELECT\n",
        "    Month,\n",
        "    Year,\n",
        "    tagname,\n",
        "    monthly_count,\n",
        "    monthly_cumulative_count\n",
        "FROM with_cumulative\n",
        "ORDER BY tagname, Year, Month\n",
        "\"\"\")"
      ],
      "metadata": {
        "id": "PG7R4lwnowoZ"
      },
      "execution_count": 29,
      "outputs": []
    },
    {
      "cell_type": "code",
      "source": [
        "result4.show()"
      ],
      "metadata": {
        "colab": {
          "base_uri": "https://localhost:8080/"
        },
        "id": "o0IzXzjarvnP",
        "outputId": "64641fc1-5812-45e5-ee29-a7420ab8068b"
      },
      "execution_count": 30,
      "outputs": [
        {
          "output_type": "stream",
          "name": "stdout",
          "text": [
            "+-----+----+--------------+-------------+------------------------+\n",
            "|Month|Year|       tagname|monthly_count|monthly_cumulative_count|\n",
            "+-----+----+--------------+-------------+------------------------+\n",
            "|   10|2010|absolute-value|            2|                       2|\n",
            "|   11|2010|absolute-value|            1|                       3|\n",
            "|    1|2011|absolute-value|            2|                       5|\n",
            "|    2|2011|absolute-value|            1|                       6|\n",
            "|    3|2011|absolute-value|            4|                      10|\n",
            "|    5|2011|absolute-value|            1|                      11|\n",
            "|    8|2011|absolute-value|            3|                      14|\n",
            "|    9|2011|absolute-value|            2|                      16|\n",
            "|   10|2011|absolute-value|            2|                      18|\n",
            "|   11|2011|absolute-value|            3|                      21|\n",
            "|   12|2011|absolute-value|            2|                      23|\n",
            "|    1|2012|absolute-value|            3|                      26|\n",
            "|    2|2012|absolute-value|            3|                      29|\n",
            "|    3|2012|absolute-value|            1|                      30|\n",
            "|    4|2012|absolute-value|            4|                      34|\n",
            "|    5|2012|absolute-value|            2|                      36|\n",
            "|    6|2012|absolute-value|            2|                      38|\n",
            "|    7|2012|absolute-value|            4|                      42|\n",
            "|    8|2012|absolute-value|            4|                      46|\n",
            "|    9|2012|absolute-value|            4|                      50|\n",
            "+-----+----+--------------+-------------+------------------------+\n",
            "only showing top 20 rows\n",
            "\n"
          ]
        }
      ]
    },
    {
      "cell_type": "code",
      "source": [
        "output_path = \"/content/drive/MyDrive/spark/output/result4.parquet\"\n",
        "result.coalesce(1).write.parquet(output_path)"
      ],
      "metadata": {
        "id": "X9VxCTVsuSLk"
      },
      "execution_count": 35,
      "outputs": []
    },
    {
      "cell_type": "code",
      "source": [],
      "metadata": {
        "id": "3IAxA8NquyQG"
      },
      "execution_count": null,
      "outputs": []
    }
  ]
}