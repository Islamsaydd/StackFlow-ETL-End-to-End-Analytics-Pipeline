{
 "cells": [
  {
   "cell_type": "code",
   "execution_count": 122,
   "id": "b3e7fbee",
   "metadata": {},
   "outputs": [
    {
     "name": "stdout",
     "output_type": "stream",
     "text": [
      "Requirement already satisfied: beautifulsoup4 in d:\\mada\\programs\\anaconda\\envs\\lab2\\lib\\site-packages (4.13.3)\n",
      "Requirement already satisfied: soupsieve>1.2 in d:\\mada\\programs\\anaconda\\envs\\lab2\\lib\\site-packages (from beautifulsoup4) (2.6)\n",
      "Requirement already satisfied: typing-extensions>=4.0.0 in d:\\mada\\programs\\anaconda\\envs\\lab2\\lib\\site-packages (from beautifulsoup4) (4.12.2)\n"
     ]
    }
   ],
   "source": [
    "import pyspark\n",
    "from pyspark.sql import SparkSession , Row , Window\n",
    "from pyspark.sql.functions import * \n",
    "from pyspark.sql.functions import sum as spark_sum\n",
    "from pyspark.sql.types import *\n",
    "import sys , os\n",
    "!{sys.executable} -m pip install beautifulsoup4"
   ]
  },
  {
   "cell_type": "code",
   "execution_count": 2,
   "id": "300e2087",
   "metadata": {},
   "outputs": [],
   "source": [
    "os.environ[\"PYSPARK_PYTHON\"] = sys.executable\n",
    "os.environ[\"PYSPARK_DRIVER_PYTHON\"] = sys.executable\n",
    "os.environ[\"HADOOP_HOME\"] = \"C:/Spark/spark-3.5.5-bin-hadoop3\"  \n",
    "os.environ[\"HADOOP_OPTS\"] = \"-Djava.library.path=C:/Spark/spark-3.5.5-bin-hadoop3/bin\""
   ]
  },
  {
   "cell_type": "code",
   "execution_count": 123,
   "id": "447ad208",
   "metadata": {},
   "outputs": [],
   "source": [
    "spark = SparkSession.builder.appName(\"PlatinumLayer_Transformations\")\\\n",
    "    .config(\"spark.executor.memory\", \"5g\")\\\n",
    "    .config(\"spark.jars.packages\", \"com.databricks:spark-xml_2.12:0.16.0,org.apache.parquet:parquet-hadoop:1.15.1\")\\\n",
    "    .config(\"spark.pyspark.python\", sys.executable) \\\n",
    "    .config(\"spark.pyspark.driver.python\", sys.executable) \\\n",
    "    .config(\"spark.hadoop.io.native.lib.available\", \"false\")\\\n",
    "    .getOrCreate()"
   ]
  },
  {
   "cell_type": "markdown",
   "id": "ae8f8d56",
   "metadata": {},
   "source": [
    "## Extraction"
   ]
  },
  {
   "cell_type": "code",
   "execution_count": 124,
   "id": "18ba587f",
   "metadata": {},
   "outputs": [],
   "source": [
    "GoldDataSet_path = \"GoldDataSet\"\n",
    "\n",
    "# Read parquet files from each folder\n",
    "answers_desc_dim_df = spark.read.parquet(f\"{GoldDataSet_path}/Answers_Desc_Dim\")\n",
    "badge_desc_dim_df = spark.read.parquet(f\"{GoldDataSet_path}/Badge_Desc_Dim\")\n",
    "badge_fact_df = spark.read.parquet(f\"{GoldDataSet_path}/Badge_Fact\")\n",
    "comment_fact_df = spark.read.parquet(f\"{GoldDataSet_path}/Comment_Fact\")\n",
    "date_dim_df = spark.read.parquet(f\"{GoldDataSet_path}/Date_Dim\")\n",
    "qs_tags_bridge_df = spark.read.parquet(f\"{GoldDataSet_path}/Qs_Tags_Bridge\")\n",
    "question_desc_dim_df = spark.read.parquet(f\"{GoldDataSet_path}/Question_Desc_Dim\")\n",
    "questions_fact_df = spark.read.parquet(f\"{GoldDataSet_path}/Questions_Fact\")\n",
    "tags_dim_df = spark.read.parquet(f\"{GoldDataSet_path}/Tags_Dim\")\n",
    "users_dim_df = spark.read.parquet(f\"{GoldDataSet_path}/Users_Dim\")\n",
    "vote_types_dim_df = spark.read.parquet(f\"{GoldDataSet_path}/vote_types_dim\")\n",
    "votes_fact_df = spark.read.parquet(f\"{GoldDataSet_path}/Votes_fact\")"
   ]
  },
  {
   "cell_type": "code",
   "execution_count": 125,
   "id": "c5306d8e",
   "metadata": {},
   "outputs": [],
   "source": [
    "Answer_Fact_df = spark.read.parquet(f\"{GoldDataSet_path}/Answer_Fact\")\n"
   ]
  },
  {
   "cell_type": "code",
   "execution_count": 126,
   "id": "a0472447",
   "metadata": {},
   "outputs": [],
   "source": [
    "Answer_Silver_df = spark.read.parquet(f\"SilverDataSet/Answers\")"
   ]
  },
  {
   "cell_type": "code",
   "execution_count": null,
   "id": "37c00560",
   "metadata": {},
   "outputs": [
    {
     "name": "stdout",
     "output_type": "stream",
     "text": [
      "+--------+--------+-----------+------------+----------------+--------------------+-----+------------+\n",
      "|AnswerId|ParentId|OwnerUserId|CreationDate|LastActivityDate|                Body|Score|CommentCount|\n",
      "+--------+--------+-----------+------------+----------------+--------------------+-----+------------+\n",
      "|       5|       3|         23|  2010-07-19|      2010-07-19|the rproject http...|   90|           3|\n",
      "|       9|       3|         50|  2010-07-19|      2010-07-19|incanter is a clo...|   15|           3|\n",
      "|      12|       7|          5|  2010-07-19|      2010-07-19|see my response t...|   24|           1|\n",
      "|      13|       6|         23|  2010-07-19|      2010-07-19|machine learning ...|   27|           6|\n",
      "|      14|       3|         36|  2010-07-19|      2010-07-19|i second that jay...|    6|           1|\n",
      "|      15|       1|          6|  2010-07-19|      2010-07-19|john cook gives s...|   24|           0|\n",
      "|      16|       3|          8|  2010-07-19|      2010-07-19|two projects spri...|   17|           2|\n",
      "|      18|       7|         36|  2010-07-19|      2010-07-19|also see the uci ...|   43|           1|\n",
      "|      19|       7|         55|  2010-07-19|      2010-07-19|gapminder has a n...|   16|           0|\n",
      "|      20|       2|         37|  2010-07-19|      2010-07-19|the assumption of...|    3|           2|\n",
      "|      24|       3|         61|  2010-07-19|      2022-11-28|for doing a varie...|   22|           0|\n",
      "|      28|       3|         -2|  2010-07-19|      2022-11-28|gsl for those of ...|    7|           0|\n",
      "|      29|      17|         36|  2010-07-19|      2010-07-19|contingency table...|    8|           0|\n",
      "|      32|      25|          5|  2010-07-19|      2010-07-19|i recommend r see...|   16|           0|\n",
      "|      38|      35|         61|  2010-07-19|      2010-07-19|if your mean valu...|    4|           2|\n",
      "|      41|      26|         83|  2010-07-19|      2015-06-17|a quote from wiki...|   12|           0|\n",
      "|      42|       3|         80|  2010-07-19|      2010-07-19|weka for data min...|   15|           3|\n",
      "|      43|      25|         74|  2010-07-19|      2022-12-03|r is great but i ...|    7|           5|\n",
      "|      45|      40|         55|  2010-07-19|      2010-07-19|the mersenne twis...|    6|           1|\n",
      "|      46|      26|         62|  2010-07-19|      2010-07-20|a standard deviat...|    1|           2|\n",
      "+--------+--------+-----------+------------+----------------+--------------------+-----+------------+\n",
      "only showing top 20 rows\n",
      "\n"
     ]
    }
   ],
   "source": [
    "Answer_Silver_df.show()     ###"
   ]
  },
  {
   "cell_type": "code",
   "execution_count": null,
   "id": "8bdac74f",
   "metadata": {},
   "outputs": [
    {
     "name": "stdout",
     "output_type": "stream",
     "text": [
      "+------------------+--------------+---------------+---------------+-----------------+-----+------------+------------+----------------+\n",
      "|Answer_Desc_Dim_FK|OwnerUserId_FK|CreationDate_FK|LastActivity_FK|ParentQuestion_FK|Score|CommentCount|CreationDate|LastActivityDate|\n",
      "+------------------+--------------+---------------+---------------+-----------------+-----+------------+------------+----------------+\n",
      "|              1937|          1342|       20100917|       20100917|              370|    4|           1|  2010-09-17|      2010-09-17|\n",
      "|              5383|          3794|       20110319|       20110319|             2306|    0|           0|  2011-03-19|      2011-03-19|\n",
      "|              5384|          3794|       20110319|       20110319|             2312|    2|           2|  2011-03-19|      2011-03-19|\n",
      "|              5394|          3794|       20110320|       20110320|             2283|    1|           5|  2011-03-20|      2011-03-20|\n",
      "|              5396|          3794|       20110320|       20110320|              158|    4|           0|  2011-03-20|      2011-03-20|\n",
      "|              5398|          3794|       20110320|       20110320|             2335|    2|           3|  2011-03-20|      2011-03-20|\n",
      "|              7128|          4900|       20110607|       20110607|               18|    2|           0|  2011-06-07|      2011-06-07|\n",
      "|              7706|          5300|       20110707|       20110707|             3757|    0|           0|  2011-07-07|      2011-07-07|\n",
      "|              7813|          3794|       20110713|       20110713|              103|    4|           0|  2011-07-13|      2011-07-13|\n",
      "|              8065|          3794|       20110725|       20110725|             4032|    1|           0|  2011-07-25|      2011-07-25|\n",
      "|              8265|          3794|       20110804|       20110805|             4190|    9|           7|  2011-08-04|      2011-08-05|\n",
      "|              9837|          6336|       20111008|       20111008|             5019|    1|           1|  2011-10-08|      2011-10-08|\n",
      "|             11403|          7982|       20111213|       20111213|             2815|    5|           1|  2011-12-13|      2011-12-13|\n",
      "|             15058|          3794|       20111015|       20111015|             5246|    5|           1|  2011-10-15|      2011-10-15|\n",
      "|             15062|          3794|       20111224|       20111224|             5246|    2|           0|  2011-12-24|      2011-12-24|\n",
      "|             15172|          3794|       20111224|       20111224|             5262|    1|           2|  2011-12-24|      2011-12-24|\n",
      "|             15270|          3794|       20111027|       20111027|             5461|   11|           0|  2011-10-27|      2011-10-27|\n",
      "|             15272|          3794|       20120329|       20120329|             8170|    0|           0|  2012-03-29|      2012-03-29|\n",
      "|             15676|         11317|       20120515|       20120515|             9198|    4|          12|  2012-05-15|      2012-05-15|\n",
      "|             16826|         12046|       20120620|       20120620|             9619|    5|           0|  2012-06-20|      2012-06-20|\n",
      "+------------------+--------------+---------------+---------------+-----------------+-----+------------+------------+----------------+\n",
      "only showing top 20 rows\n",
      "\n"
     ]
    }
   ],
   "source": [
    "Answer_Fact_df.show()       ###"
   ]
  },
  {
   "cell_type": "code",
   "execution_count": null,
   "id": "ab096737",
   "metadata": {},
   "outputs": [
    {
     "name": "stdout",
     "output_type": "stream",
     "text": [
      "+--------------+--------------+-----------+--------+--------------------+\n",
      "|Answer_Desc_SK|Answer_Desc_BK|OwnerUserId|ParentId|                Body|\n",
      "+--------------+--------------+-----------+--------+--------------------+\n",
      "|            21|            49|          5|      33|you dont need to ...|\n",
      "|           101|           174|        159|     170|online books incl...|\n",
      "|           230|           357|       3807|       2|you cant know whe...|\n",
      "|           286|           433|          5|     423|heres another one...|\n",
      "|           337|           495|        214|     485|there is one call...|\n",
      "|           470|           678|         81|     665|the probability o...|\n",
      "|           877|          1247|        601|    1241|the shortest answ...|\n",
      "|          1275|          1819|        561|    1815|if youre interest...|\n",
      "|          1443|          2051|        930|    1908|artificial intell...|\n",
      "|          1878|          2710|        187|    2688|you could use gen...|\n",
      "|         42086|        100184|       2074|  100177|you need to subst...|\n",
      "|         42269|        100661|        805|  100653|you dont really b...|\n",
      "|         42337|        100812|       7250|  100800|your question is ...|\n",
      "|         42505|        101272|      46769|  101255|the other day i c...|\n",
      "|          6300|         10199|       1909|   10191|to me it seems li...|\n",
      "|          6309|         10216|       3567|   10213|you are a dungeon...|\n",
      "|         42784|        103034|      23853|  103024|why would there b...|\n",
      "|         42888|        103344|      34579|  103340|if you expect the...|\n",
      "|         43314|        104537|       9394|  104530|your derivation i...|\n",
      "|         43330|        104575|      13047|  104573|i am assuming tha...|\n",
      "+--------------+--------------+-----------+--------+--------------------+\n",
      "only showing top 20 rows\n",
      "\n"
     ]
    }
   ],
   "source": [
    "answers_desc_dim_df.show()      ###"
   ]
  },
  {
   "cell_type": "code",
   "execution_count": null,
   "id": "e3db65f9",
   "metadata": {},
   "outputs": [
    {
     "name": "stdout",
     "output_type": "stream",
     "text": [
      "+--------------+----------------+---------------+-------+-----+--------------------+------------+---------------+\n",
      "|Answer_Desc_FK|Question_Desc_FK|CreationDate_FK|User_FK|Score|                Text|CreationDate|LastUpdatedDate|\n",
      "+--------------+----------------+---------------+-------+-----+--------------------+------------+---------------+\n",
      "|            -1|               5|       20100719|     87|    1|Very subjective q...|  2010-07-19|     2010-07-19|\n",
      "|            41|              -1|       20100719|     44|    1|I wasn't suggesti...|  2010-07-19|     2010-07-19|\n",
      "|            65|              -1|       20100720|     50|    0|http://cscs.umich...|  2010-07-20|     2010-07-20|\n",
      "|            -1|              84|       20100720|     -1|   11|If you would tast...|  2010-07-20|     2010-07-20|\n",
      "|            -1|              84|       20100720|      5|    0|IMO, this should ...|  2010-07-20|     2010-07-20|\n",
      "|            -1|              84|       20100720|     -1|    0|@Sharpie It is no...|  2010-07-20|     2010-07-20|\n",
      "|            -1|              27|       20100720|     60|    0|do you mean a GUI...|  2010-07-20|     2010-07-20|\n",
      "|            -1|              68|       20100720|      5|    0|What do you mean,...|  2010-07-20|     2010-07-20|\n",
      "|           163|              -1|       20100720|    160|    0|@Łukasz Hmm, some...|  2010-07-20|     2010-07-20|\n",
      "|           171|              -1|       20100720|     51|    0|Good answer. I th...|  2010-07-20|     2010-07-20|\n",
      "|            -1|              60|       20100720|      5|    0|What other varian...|  2010-07-20|     2010-07-20|\n",
      "|           198|              -1|       20100721|     74|    0|@Baltimark: yes, ...|  2010-07-21|     2010-07-21|\n",
      "|           231|              -1|       20100721|   2367|    1|The answer in tha...|  2010-07-21|     2010-07-21|\n",
      "|            -1|              11|       20100721|    165|    2|I'm not sure; tha...|  2010-07-21|     2010-07-21|\n",
      "|           135|              -1|       20100721|    161|    1|Sorry, but what a...|  2010-07-21|     2010-07-21|\n",
      "|           141|              -1|       20100721|    161|    0|Would there be an...|  2010-07-21|     2010-07-21|\n",
      "|           237|              -1|       20100721|     -1|    0|In that case you ...|  2010-07-21|     2010-07-21|\n",
      "|           260|              -1|       20100721|     37|   19|I think you mean ...|  2010-07-21|     2010-07-21|\n",
      "|           265|              -1|       20100721|    175|    0|We have done this...|  2010-07-21|     2010-07-21|\n",
      "|           281|              -1|       20100721|    203|    0|This is interesti...|  2010-07-21|     2010-07-21|\n",
      "+--------------+----------------+---------------+-------+-----+--------------------+------------+---------------+\n",
      "only showing top 20 rows\n",
      "\n"
     ]
    }
   ],
   "source": [
    "comment_fact_df.show()      ###"
   ]
  },
  {
   "cell_type": "markdown",
   "id": "943fad58",
   "metadata": {},
   "source": [
    "**reading posts from bronze layer**"
   ]
  },
  {
   "cell_type": "code",
   "execution_count": 127,
   "id": "d0e5ba34",
   "metadata": {},
   "outputs": [],
   "source": [
    "posts_schema=StructType([\n",
    "    StructField(\"AcceptedAnswerId\", IntegerType(), True),\n",
    "    StructField(\"AnswerCount\",IntegerType(), True),\n",
    "    StructField(\"Body\", StringType(), True),\n",
    "    StructField(\"ClosedDate\", TimestampType(), True),\n",
    "    StructField(\"CommentCount\",IntegerType(), True),\n",
    "    StructField(\"CommunityOwnedDate\", TimestampType(), True),\n",
    "    StructField(\"ContentLicense\", StringType(), True),\n",
    "    StructField(\"CreationDate\", TimestampType(), True),\n",
    "    StructField(\"FavoriteCount\",IntegerType(), True),\n",
    "    StructField(\"Id\",IntegerType(), False),\n",
    "    StructField(\"LastActivityDate\", TimestampType(), True),\n",
    "    StructField(\"LastEditDate\", TimestampType(), True),\n",
    "    StructField(\"LastEditorDisplayName\", StringType(), True),\n",
    "    StructField(\"LastEditorUserId\",IntegerType(), True),\n",
    "    StructField(\"OwnerDisplayName\", StringType(), True),\n",
    "    StructField(\"OwnerUserId\",IntegerType(), True),\n",
    "    StructField(\"ParentId\",IntegerType(), True),\n",
    "    StructField(\"PostTypeId\",IntegerType(), True),\n",
    "    StructField(\"Score\",IntegerType(), True),\n",
    "    StructField(\"Tags\", StringType(), True),\n",
    "    StructField(\"Title\", StringType(), True),\n",
    "    StructField(\"ViewCount\",IntegerType(), True)\n",
    "])\n",
    "\n",
    "df_posts = spark.read.format(\"xml\") \\\n",
    "    .option(\"rowTag\", \"row\")\\\n",
    "    .option(\"attributePrefix\", \"\") \\\n",
    "    .schema(posts_schema) \\\n",
    "    .load(r\"Dataset/Posts.xml\")  "
   ]
  },
  {
   "cell_type": "code",
   "execution_count": null,
   "id": "ad8d2359",
   "metadata": {},
   "outputs": [
    {
     "name": "stdout",
     "output_type": "stream",
     "text": [
      "+-------------+--------------------+------+\n",
      "|Badge_Desc_Id|                Name| Class|\n",
      "+-------------+--------------------+------+\n",
      "|            1|             p-value|Bronze|\n",
      "|            2|             Marshal|  Gold|\n",
      "|            3|               anova|Silver|\n",
      "|            4|     autocorrelation|Bronze|\n",
      "|            5|    Stellar Question|  Gold|\n",
      "|            6|             Curious|Bronze|\n",
      "|            7|   predictive-models|Bronze|\n",
      "|            8|             moments|Bronze|\n",
      "|            9|          self-study|Bronze|\n",
      "|           10|       Good Question|Silver|\n",
      "|           11|           Outspoken|Silver|\n",
      "|           12|central-limit-the...|Bronze|\n",
      "|           13|        optimization|Bronze|\n",
      "|           14|generalized-linea...|Silver|\n",
      "|           15|computational-sta...|Bronze|\n",
      "|           16|      standard-error|Bronze|\n",
      "|           17|         probability|Bronze|\n",
      "|           18|          covariance|Bronze|\n",
      "|           19|  distance-functions|Bronze|\n",
      "|           20|              sample|Bronze|\n",
      "+-------------+--------------------+------+\n",
      "only showing top 20 rows\n",
      "\n"
     ]
    }
   ],
   "source": [
    "badge_desc_dim_df.show()        ###"
   ]
  },
  {
   "cell_type": "markdown",
   "id": "8c37d399",
   "metadata": {},
   "source": [
    "## Programming Languages Analysis"
   ]
  },
  {
   "cell_type": "code",
   "execution_count": 105,
   "id": "c14d1583",
   "metadata": {},
   "outputs": [
    {
     "data": {
      "text/plain": [
       "DataFrame[month: string, language: string, count: bigint, overall_count: bigint]"
      ]
     },
     "execution_count": 105,
     "metadata": {},
     "output_type": "execute_result"
    }
   ],
   "source": [
    "language_patterns = {\n",
    "    \"python\": r\"python|Python\",\n",
    "    \"java\": r\"java|Java\",\n",
    "    \"javascript\": r\"javascript|JavaScript|js|JS\",\n",
    "    \"ruby\": r\"ruby|Ruby\",\n",
    "    \"php\": r\"php|PHP\",\n",
    "    \"swift\": r\"swift|Swift\",\n",
    "    \"kotlin\": r\"kotlin|Kotlin\",\n",
    "    \"scala\": r\"scala|Scala\",\n",
    "    \"typescript\": r\"typescript|TypeScript|ts|TS\",\n",
    "    \"rust\": r\"rust|Rust\",\n",
    "    \"dart\": r\"dart|Dart\",\n",
    "    \"shell\": r\"shell|Shell|bash|Bash\",\n",
    "    \"powershell\": r\"powershell|PowerShell|ps|PS\",\n",
    "    \"perl\": r\"perl|Perl\",\n",
    "    \"haskell\": r\"haskell|Haskell\",\n",
    "    \"matlab\": r\"matlab|MATLAB\",\n",
    "    \"objective-c\": r\"objective[- ]c|Objective[- ]C|objc|ObjC\",\n",
    "    \"sql\": r\"\\bsql\\b|SQL\",\n",
    "    \"html\": r\"html|HTML\",\n",
    "    \"css\": r\"css|CSS\",\n",
    "    \"c++\": r\"c\\+\\+|C\\+\\+\",\n",
    "    \"c#\": r\"c#|C#|c sharp|C Sharp\"\n",
    "}\n",
    "\n",
    "# Create month column\n",
    "posts_plat_prog_langs = df_posts.withColumn(\"month\", date_format(\"CreationDate\", \"yyyy-MM\"))\n",
    "\n",
    "# HTML-aware detection\n",
    "for lang, pattern in language_patterns.items():\n",
    "    # Special handling for C++ and C# in HTML\n",
    "    if lang in [\"c++\", \"c#\"]:\n",
    "        # Match both plain text and HTML entities (C++ might be encoded as C&amp;#43;&amp;#43;)\n",
    "        html_encoded_pattern = pattern.replace(\"+\", \"&#43;\").replace(\"#\", \"#\")\n",
    "        regex_pattern = f\"(?i)({pattern})|({html_encoded_pattern})\"\n",
    "    else:\n",
    "        regex_pattern = f\"(?i)\\\\b({pattern})\\\\b\"\n",
    "    \n",
    "    posts_plat_prog_langs = posts_plat_prog_langs.withColumn(\n",
    "        lang,\n",
    "        when(\n",
    "            (col(\"body\").rlike(regex_pattern)) | \n",
    "            (col(\"body\").contains(f\">{pattern}<\")),  # Check within HTML tags\n",
    "            1\n",
    "        ).otherwise(0)\n",
    "    )\n",
    "\n",
    "# Rest of the processing remains the same\n",
    "aggregations = [sum(lang).alias(f\"{lang}_count\") for lang in language_patterns.keys()]\n",
    "monthly_counts_df = posts_plat_prog_langs.groupBy(\"month\").agg(*aggregations).orderBy(\"month\")\n",
    "\n",
    "# Unpivot and calculate cumulative counts\n",
    "num_languages = len(language_patterns)\n",
    "stack_expr = \"stack({0}, {1}) as (language, count)\".format(\n",
    "    num_languages,\n",
    "    \", \".join([f\"'{lang}', `{lang}_count`\" for lang in language_patterns.keys()])\n",
    ")\n",
    "unpivoted_df = monthly_counts_df.select(\"month\", expr(stack_expr))\n",
    "\n",
    "window_spec = Window.partitionBy(\"language\").orderBy(\"month\").rowsBetween(Window.unboundedPreceding, 0)\n",
    "final_Programming_langs_df2 = unpivoted_df.withColumn(\"overall_count\", sum(\"count\").over(window_spec))\n",
    "\n",
    "final_Programming_langs_df2.select(\"month\", \"language\", \"count\", \"overall_count\").orderBy(\"month\")"
   ]
  },
  {
   "cell_type": "code",
   "execution_count": 106,
   "id": "5462f5ab",
   "metadata": {},
   "outputs": [
    {
     "name": "stdout",
     "output_type": "stream",
     "text": [
      "+-------+--------+-----+-------------+\n",
      "|  month|language|count|overall_count|\n",
      "+-------+--------+-----+-------------+\n",
      "|2009-02|      c#|    0|            0|\n",
      "|2009-04|      c#|    0|            0|\n",
      "|2009-06|      c#|    0|            0|\n",
      "|2009-12|      c#|    0|            0|\n",
      "|2010-02|      c#|    0|            0|\n",
      "|2010-07|      c#|    2|            2|\n",
      "|2010-08|      c#|    0|            2|\n",
      "|2010-09|      c#|    0|            2|\n",
      "|2010-10|      c#|    1|            3|\n",
      "|2010-11|      c#|    1|            4|\n",
      "|2010-12|      c#|    5|            9|\n",
      "|2011-01|      c#|    0|            9|\n",
      "|2011-02|      c#|    1|           10|\n",
      "|2011-03|      c#|    2|           12|\n",
      "|2011-04|      c#|    1|           13|\n",
      "|2011-05|      c#|    1|           14|\n",
      "|2011-06|      c#|    0|           14|\n",
      "|2011-07|      c#|    1|           15|\n",
      "|2011-08|      c#|    2|           17|\n",
      "|2011-09|      c#|    3|           20|\n",
      "+-------+--------+-----+-------------+\n",
      "only showing top 20 rows\n",
      "\n"
     ]
    }
   ],
   "source": [
    "final_Programming_langs_df2.show()"
   ]
  },
  {
   "cell_type": "code",
   "execution_count": null,
   "id": "0f51d8fc",
   "metadata": {},
   "outputs": [
    {
     "name": "stdout",
     "output_type": "stream",
     "text": [
      "+-------+-----------+-----+-------------+\n",
      "|  month|   language|count|overall_count|\n",
      "+-------+-----------+-----+-------------+\n",
      "|2020-10|         c#|    6|          258|\n",
      "|2020-10|        c++|    2|          405|\n",
      "|2020-10|        css|    1|           89|\n",
      "|2020-10|       dart|    1|           51|\n",
      "|2020-10|    haskell|    0|           19|\n",
      "|2020-10|       html|  147|        14567|\n",
      "|2020-10|       java|    2|          638|\n",
      "|2020-10| javascript|    2|          271|\n",
      "|2020-10|     kotlin|    0|            2|\n",
      "|2020-10|     matlab|   16|         3557|\n",
      "|2020-10|objective-c|    0|            1|\n",
      "|2020-10|       perl|    0|           68|\n",
      "|2020-10|        php|    7|         1473|\n",
      "|2020-10| powershell|   16|         1623|\n",
      "|2020-10|     python|   80|         6187|\n",
      "|2020-10|       ruby|    0|           54|\n",
      "|2020-10|       rust|    0|           10|\n",
      "|2020-10|      scala|    1|           59|\n",
      "|2020-10|      shell|    1|          100|\n",
      "|2020-10|        sql|    4|          238|\n",
      "|2020-10|      swift|    0|           11|\n",
      "|2020-10| typescript|   19|         1392|\n",
      "+-------+-----------+-----+-------------+\n",
      "\n"
     ]
    }
   ],
   "source": [
    "final_Programming_langs_df2.where(col('month')== \"2020-10\").show(30)        ###"
   ]
  },
  {
   "cell_type": "code",
   "execution_count": 117,
   "id": "d99195c3",
   "metadata": {},
   "outputs": [],
   "source": [
    "final_Programming_langs_df2.coalesce(1).write.mode(\"overwrite\").parquet(\"PlatinumDataSet/Programming_Languages_analysis\")"
   ]
  },
  {
   "cell_type": "markdown",
   "id": "7ddf4ded",
   "metadata": {},
   "source": [
    "## Data Engineering Tools analysis"
   ]
  },
  {
   "cell_type": "code",
   "execution_count": null,
   "id": "1470b613",
   "metadata": {},
   "outputs": [
    {
     "data": {
      "text/plain": [
       "DataFrame[month: string, tool: string, count: bigint, overall_count: bigint]"
      ]
     },
     "execution_count": 110,
     "metadata": {},
     "output_type": "execute_result"
    }
   ],
   "source": [
    "data_engineering_tools_patterns = {\n",
    "    \"ssis\": r\"ssis|SSIS|SQL Server Integration Services\",\n",
    "    \"ssas\": r\"ssas|SSAS|SQL Server Analysis Services\",\n",
    "    \"ssms\": r\"ssms|SSMS|SQL Server Management Studio\",\n",
    "    \"apache_spark\": r\"apache spark|\\bspark\\b|Spark\",\n",
    "    \"apache_kafka\": r\"apache kafka|\\bkafka\\b|Kafka\",\n",
    "    \"apache_airflow\": r\"apache airflow|\\bairflow\\b|Airflow\",\n",
    "    \"dbt\": r\"\\bdbt\\b|DBT|data build tool\",\n",
    "    \"snowflake\": r\"\\bsnowflake\\b|Snowflake\",\n",
    "    \"docker\": r\"\\bdocker\\b|Docker\",\n",
    "    \"kubernetes\": r\"\\bkubernetes\\b|Kubernetes|\\bk8s\\b\",\n",
    "    \"terraform\": r\"\\bterraform\\b|Terraform\",\n",
    "    \"tableau\": r\"\\btableau\\b|Tableau\",\n",
    "    \"fivetran\": r\"\\bfivetran\\b|Fivetran\",\n",
    "    \"apache_flink\": r\"apache flink|\\bflink\\b|Flink\",\n",
    "    \"apache_hadoop\": r\"apache hadoop|\\bhadoop\\b|Hadoop\",\n",
    "    \"apache_hive\": r\"apache hive|\\bhive\\b|Hive\",\n",
    "    \"apache_kudu\": r\"apache kudu|\\bkudu\\b|Kudu\",\n",
    "    \"apache_cassandra\": r\"apache cassandra|\\bcassandra\\b|Cassandra\",\n",
    "    \"cloudera\": r\"\\bcloudera\\b|Cloudera\",\n",
    "    \"bigquery\": r\"bigquery|big query|BigQuery|Big Query\",\n",
    "    \"looker\": r\"\\blooker\\b|Looker\",\n",
    "    \"redash\": r\"\\bredash\\b|Redash\",\n",
    "    \"presto\": r\"\\bpresto\\b|Presto\",\n",
    "    \"power_bi\": r\"power bi|powerbi|Power BI|PowerBI\",\n",
    "    \"aws_glue\": r\"aws glue|\\bglue\\b|AWS Glue|Glue\",\n",
    "    \"azure_data_factory\": r\"azure data factory|Azure Data Factory|ADF\",\n",
    "    \"meltano\": r\"\\bmeltano\\b|Meltano\",\n",
    "    \"airbyte\": r\"\\bairbyte\\b|Airbyte\",\n",
    "    \"databricks\": r\"\\bdatabricks\\b|Databricks\",\n",
    "    \"amazon_redshift\": r\"amazon redshift|\\bredshift\\b|Redshift|Amazon Redshift\",\n",
    "    \"postgresql\": r\"\\bpostgresql\\b|PostgreSQL|\\bpostgres\\b|Postgres\",\n",
    "    \"mongodb\": r\"\\bmongodb\\b|MongoDB\",\n",
    "    \"knime\": r\"\\bknime\\b|KNIME\",\n",
    "    \"talend\": r\"\\btalend\\b|Talend\",\n",
    "    \"prefect\": r\"\\bprefect\\b|Prefect\",\n",
    "    \"streamlit\": r\"\\bstreamlit\\b|Streamlit\",\n",
    "    \"kibana\": r\"\\bkibana\\b|Kibana\",\n",
    "    \"debezium\": r\"\\bdebezium\\b|Debezium\",\n",
    "    \"rivery\": r\"\\brivery\\b|Rivery\",\n",
    "    \"cloudera_data\": r\"cloudera data|Cloudera Data\",\n",
    "    \"arcticdb\": r\"\\barcticdb\\b|ArcticDB\",\n",
    "    \"qdrant\": r\"\\bqdrant\\b|Qdrant\",\n",
    "    \"snowpark\": r\"\\bsnowpark\\b|Snowpark\",\n",
    "    \"anthropic\": r\"\\banthropic\\b|Anthropic\",\n",
    "    \"bloomberg\": r\"\\bbloomberg\\b|Bloomberg\",\n",
    "    \"sap\": r\"\\bsap\\b|SAP\",\n",
    "    \"palantir\": r\"\\bpalantir\\b|Palantir\",\n",
    "    \"salesforce\": r\"\\bsalesforce\\b|Salesforce\",\n",
    "    \"replit\": r\"\\breplit\\b|Replit\",\n",
    "    \"codeium\": r\"\\bcodeium\\b|Codeium\",\n",
    "    \"sourcegraph\": r\"\\bsourcegraph\\b|Sourcegraph\",\n",
    "    \"wired\": r\"\\bwired\\b|Wired\",\n",
    "    \"simplilearn\": r\"\\bsimplilearn\\b|Simplilearn\",\n",
    "    \"datacamp\": r\"\\bdatacamp\\b|DataCamp\",\n",
    "    \"projectpro\": r\"\\bprojectpro\\b|ProjectPro\",\n",
    "    \"binariks\": r\"\\bbinariks\\b|Binariks\",\n",
    "    \"infomineo\": r\"\\binfomineo\\b|Infomineo\",\n",
    "    \"ccs_learning_academy\": r\"\\bccs learning academy\\b|CCS Learning Academy\",\n",
    "    \"redpanda\": r\"\\bredpanda\\b|Redpanda\",\n",
    "    \"secoda\": r\"\\bsecoda\\b|Secoda\"\n",
    "}\n",
    "\n",
    "# Create month column\n",
    "posts_plat_tools = df_posts.withColumn(\"month\", date_format(\"CreationDate\", \"yyyy-MM\"))\n",
    "\n",
    "# HTML-aware detection for tools\n",
    "for tool, pattern in data_engineering_tools_patterns.items():\n",
    "    # Handle special characters in tool names\n",
    "    if any(char in tool for char in ['+', '#', '-', '_']):\n",
    "        # Create HTML-encoded versions\n",
    "        html_encoded_pattern = (pattern\n",
    "                              .replace('+', '&#43;')\n",
    "                              .replace('#', '&#35;')\n",
    "                              .replace('-', '&#45;')\n",
    "                              .replace('_', '&#95;'))\n",
    "        regex_pattern = f\"(?i)({pattern})|({html_encoded_pattern})\"\n",
    "    else:\n",
    "        regex_pattern = f\"(?i)\\\\b({pattern})\\\\b\"\n",
    "    \n",
    "    posts_plat_tools = posts_plat_tools.withColumn(\n",
    "        tool,\n",
    "        when(\n",
    "            (col(\"body\").rlike(regex_pattern)) | \n",
    "            (col(\"body\").contains(f\">{pattern.split('|')[0]}<\")),  # Check within HTML tags\n",
    "            1\n",
    "        ).otherwise(0)\n",
    "    )\n",
    "\n",
    "# Group by month and sum the binary indicators for each tool\n",
    "aggregations = [sum(tool).alias(f\"{tool}_count\") for tool in data_engineering_tools_patterns.keys()]\n",
    "monthly_counts_df = posts_plat_tools.groupBy(\"month\").agg(*aggregations).orderBy(\"month\")\n",
    "\n",
    "# Unpivot the wide table to a long format: (month, tool, count)\n",
    "num_tools = len(data_engineering_tools_patterns)\n",
    "stack_expr = \"stack({0}, {1}) as (tool, count)\".format(\n",
    "    num_tools,\n",
    "    \", \".join([f\"'{tool}', `{tool}_count`\" for tool in data_engineering_tools_patterns.keys()])\n",
    ")\n",
    "unpivoted_df = monthly_counts_df.select(\"month\", expr(stack_expr))\n",
    "\n",
    "# Define window specification for cumulative counts\n",
    "window_spec = Window.partitionBy(\"tool\").orderBy(\"month\").rowsBetween(Window.unboundedPreceding, 0)\n",
    "final_data_eng_tools_df2 = unpivoted_df.withColumn(\"overall_count\", sum(\"count\").over(window_spec))\n",
    "\n",
    "# Final output\n",
    "final_data_eng_tools_df2.select(\"month\", \"tool\", \"count\", \"overall_count\").orderBy(\"month\")"
   ]
  },
  {
   "cell_type": "code",
   "execution_count": null,
   "id": "fb01e9d9",
   "metadata": {},
   "outputs": [
    {
     "data": {
      "text/plain": [
       "DataFrame[month: string, tool: string, count: bigint, overall_count: bigint]"
      ]
     },
     "execution_count": 112,
     "metadata": {},
     "output_type": "execute_result"
    }
   ],
   "source": [
    "final_data_eng_tools_df2.cache()"
   ]
  },
  {
   "cell_type": "code",
   "execution_count": 115,
   "id": "e3b2cca3",
   "metadata": {},
   "outputs": [
    {
     "name": "stdout",
     "output_type": "stream",
     "text": [
      "+-------+------------------+-----+-------------+\n",
      "|  month|              tool|count|overall_count|\n",
      "+-------+------------------+-----+-------------+\n",
      "|2020-11|               dbt|    0|            0|\n",
      "|2020-11|azure_data_factory|    7|          927|\n",
      "|2020-11|        kubernetes|    0|            0|\n",
      "|2020-11|              ssis|    0|            0|\n",
      "|2020-11|  apache_cassandra|    0|            6|\n",
      "|2020-11|          bigquery|    0|            9|\n",
      "|2020-11|            presto|    0|           11|\n",
      "|2020-11|        postgresql|    0|           19|\n",
      "|2020-11|        projectpro|    0|            0|\n",
      "|2020-11|            replit|    0|            0|\n",
      "|2020-11|            secoda|    0|            2|\n",
      "|2020-11|           prefect|    0|            8|\n",
      "|2020-11|           codeium|    0|            0|\n",
      "|2020-11|        salesforce|    0|           12|\n",
      "|2020-11|             knime|    0|           29|\n",
      "|2020-11|              ssas|    0|            3|\n",
      "|2020-11|           mongodb|    0|            7|\n",
      "|2020-11|           tableau|    1|           65|\n",
      "|2020-11|               sap|    1|           15|\n",
      "|2020-11|         terraform|    0|            0|\n",
      "|2020-11|            docker|    0|            5|\n",
      "|2020-11|          arcticdb|    0|            0|\n",
      "|2020-11|            talend|    0|            1|\n",
      "|2020-11|         bloomberg|    0|           12|\n",
      "|2020-11|        databricks|    0|            8|\n",
      "|2020-11|      apache_kafka|    0|            5|\n",
      "|2020-11|       simplilearn|    0|            0|\n",
      "|2020-11|       apache_kudu|    0|            0|\n",
      "|2020-11|         snowflake|    0|            7|\n",
      "|2020-11|              ssms|    0|           10|\n",
      "+-------+------------------+-----+-------------+\n",
      "only showing top 30 rows\n",
      "\n"
     ]
    }
   ],
   "source": [
    "final_data_eng_tools_df2.where(col('month')=='2020-11').show(30)"
   ]
  },
  {
   "cell_type": "code",
   "execution_count": 118,
   "id": "6003c730",
   "metadata": {},
   "outputs": [],
   "source": [
    "final_data_eng_tools_df2.coalesce(1).write.mode(\"overwrite\").parquet(\"PlatinumDataSet/DataEng_Tools_analysis\")"
   ]
  },
  {
   "cell_type": "code",
   "execution_count": null,
   "id": "7ad7a4cd",
   "metadata": {},
   "outputs": [
    {
     "name": "stdout",
     "output_type": "stream",
     "text": [
      "+------------------+----------+\n",
      "|              tool|sum(count)|\n",
      "+------------------+----------+\n",
      "|       apache_hive|      1619|\n",
      "|azure_data_factory|      1201|\n",
      "|      apache_spark|       279|\n",
      "|     apache_hadoop|        79|\n",
      "|           tableau|        75|\n",
      "|          aws_glue|        72|\n",
      "|          datacamp|        62|\n",
      "|             wired|        57|\n",
      "|             knime|        31|\n",
      "|               sap|        25|\n",
      "|        postgresql|        23|\n",
      "|            presto|        17|\n",
      "|         bloomberg|        16|\n",
      "|   amazon_redshift|        16|\n",
      "|      apache_flink|        15|\n",
      "|              ssms|        14|\n",
      "|          power_bi|        13|\n",
      "|          bigquery|        12|\n",
      "|        salesforce|        12|\n",
      "|           prefect|        11|\n",
      "+------------------+----------+\n",
      "only showing top 20 rows\n",
      "\n"
     ]
    }
   ],
   "source": [
    "aggregated_df2 = final_data_eng_tools_df2.groupBy('tool').agg({'count': 'sum'})\n",
    "\n",
    "# Then, order by 'overall_count' in descending order\n",
    "aggregated_df2.orderBy(desc('sum(count)')).show()                       ###"
   ]
  },
  {
   "cell_type": "markdown",
   "id": "35293393",
   "metadata": {},
   "source": [
    "## Tags Over Time Analysis"
   ]
  },
  {
   "cell_type": "code",
   "execution_count": 128,
   "id": "9a027992",
   "metadata": {},
   "outputs": [],
   "source": [
    "\n",
    "tags_dim_df.createOrReplaceTempView(\"tags\")\n",
    "qs_tags_bridge_df.createOrReplaceTempView(\"qtb\")\n",
    "questions_fact_df.createOrReplaceTempView(\"question\")\n",
    "date_dim_df.createOrReplaceTempView(\"date\")\n",
    "Tags_Over_Time_df = spark.sql(\"\"\"\n",
    "WITH daily_counts AS (\n",
    "    SELECT\n",
    "        d.Month,\n",
    "        d.Year,\n",
    "        t.tagname,\n",
    "        d.FullDate,\n",
    "        COUNT(*) AS daily_count\n",
    "    FROM tags t\n",
    "    JOIN qtb q ON t.tag_sk = q.TagID\n",
    "    JOIN question qn ON q.Questions_Desc_SK = qn.Questions_Desc_FK\n",
    "    JOIN date d ON qn.CreationDate_FK = d.DateKey\n",
    "    GROUP BY d.Month, d.Year, t.tagname, d.FullDate\n",
    "),\n",
    "monthly_counts AS (\n",
    "    SELECT\n",
    "        Month,\n",
    "        Year,\n",
    "        tagname,\n",
    "        SUM(daily_count) AS monthly_count\n",
    "    FROM daily_counts\n",
    "    GROUP BY Month, Year, tagname\n",
    "),\n",
    "with_cumulative AS (\n",
    "    SELECT\n",
    "        mc.Month,\n",
    "        mc.Year,\n",
    "        mc.tagname,\n",
    "        mc.monthly_count,\n",
    "        SUM(mc.monthly_count) OVER (\n",
    "            PARTITION BY mc.tagname\n",
    "            ORDER BY mc.Year, mc.Month\n",
    "            ROWS BETWEEN UNBOUNDED PRECEDING AND CURRENT ROW\n",
    "        ) AS monthly_cumulative_count\n",
    "    FROM monthly_counts mc\n",
    ")\n",
    "SELECT\n",
    "    Month,\n",
    "    Year,\n",
    "    tagname,\n",
    "    monthly_count,\n",
    "    monthly_cumulative_count\n",
    "FROM with_cumulative\n",
    "ORDER BY tagname, Year, Month\n",
    "\"\"\")\n"
   ]
  },
  {
   "cell_type": "code",
   "execution_count": 129,
   "id": "f8eb3697",
   "metadata": {},
   "outputs": [
    {
     "name": "stdout",
     "output_type": "stream",
     "text": [
      "+-----+----+--------------+-------------+------------------------+\n",
      "|Month|Year|       tagname|monthly_count|monthly_cumulative_count|\n",
      "+-----+----+--------------+-------------+------------------------+\n",
      "|   10|2010|absolute-value|            2|                       2|\n",
      "|   11|2010|absolute-value|            1|                       3|\n",
      "|    1|2011|absolute-value|            2|                       5|\n",
      "|    2|2011|absolute-value|            1|                       6|\n",
      "|    3|2011|absolute-value|            4|                      10|\n",
      "|    5|2011|absolute-value|            1|                      11|\n",
      "|    8|2011|absolute-value|            3|                      14|\n",
      "|    9|2011|absolute-value|            2|                      16|\n",
      "|   10|2011|absolute-value|            2|                      18|\n",
      "|   11|2011|absolute-value|            3|                      21|\n",
      "|   12|2011|absolute-value|            2|                      23|\n",
      "|    1|2012|absolute-value|            3|                      26|\n",
      "|    2|2012|absolute-value|            3|                      29|\n",
      "|    3|2012|absolute-value|            1|                      30|\n",
      "|    4|2012|absolute-value|            4|                      34|\n",
      "|    5|2012|absolute-value|            2|                      36|\n",
      "|    6|2012|absolute-value|            2|                      38|\n",
      "|    7|2012|absolute-value|            4|                      42|\n",
      "|    8|2012|absolute-value|            4|                      46|\n",
      "|    9|2012|absolute-value|            4|                      50|\n",
      "+-----+----+--------------+-------------+------------------------+\n",
      "only showing top 20 rows\n",
      "\n"
     ]
    }
   ],
   "source": [
    "Tags_Over_Time_df.show()\n"
   ]
  },
  {
   "cell_type": "code",
   "execution_count": 133,
   "id": "36dcec0e",
   "metadata": {},
   "outputs": [],
   "source": [
    "Tags_Over_Time_df.coalesce(1).write.parquet(\"PlatinumDataSet/Tags_Over_Time\")\n"
   ]
  },
  {
   "cell_type": "code",
   "execution_count": 134,
   "id": "9fceca10",
   "metadata": {},
   "outputs": [],
   "source": [
    "spark.stop()"
   ]
  },
  {
   "cell_type": "code",
   "execution_count": null,
   "id": "1b0af193",
   "metadata": {},
   "outputs": [],
   "source": []
  }
 ],
 "metadata": {
  "kernelspec": {
   "display_name": "Python (lab2)",
   "language": "python",
   "name": "lab2"
  },
  "language_info": {
   "codemirror_mode": {
    "name": "ipython",
    "version": 3
   },
   "file_extension": ".py",
   "mimetype": "text/x-python",
   "name": "python",
   "nbconvert_exporter": "python",
   "pygments_lexer": "ipython3",
   "version": "3.11.11"
  }
 },
 "nbformat": 4,
 "nbformat_minor": 5
}
