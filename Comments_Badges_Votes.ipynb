{
 "cells": [
  {
   "cell_type": "code",
   "execution_count": 27,
   "id": "a276414c-c15b-44fd-8b57-0a2fa131527f",
   "metadata": {},
   "outputs": [],
   "source": [
    "import findspark\n",
    "findspark.init()\n",
    "import pyspark\n",
    "from pyspark.sql import SparkSession"
   ]
  },
  {
   "cell_type": "code",
   "execution_count": 28,
   "id": "83fc1c29-096c-4c71-9bfb-2ea70c3fe594",
   "metadata": {},
   "outputs": [],
   "source": [
    "from pyspark.sql import SparkSession\n",
    "from pyspark.sql.functions import *\n",
    "from pyspark.sql.types import StructType, StructField, StringType, IntegerType, TimestampType, MapType\n",
    "\n",
    "spark = SparkSession.builder \\\n",
    "    .appName(\"XML Reader\") \\\n",
    "    .config(\"spark.jars.packages\", \"com.databricks:spark-xml_2.12:0.17.0\") \\\n",
    "    .getOrCreate()"
   ]
  },
  {
   "cell_type": "code",
   "execution_count": 29,
   "id": "5b99a3a9",
   "metadata": {},
   "outputs": [],
   "source": [
    "comments_schema = StructType([\n",
    "    StructField(\"_Id\", StringType(), False),\n",
    "    StructField(\"_PostId\", StringType(), True),\n",
    "    StructField(\"_UserId\", StringType(), True),\n",
    "    StructField(\"_UserDisplayName\", StringType(), True),\n",
    "    StructField(\"_Score\", IntegerType(), True),\n",
    "    StructField(\"_Text\", StringType(), True),\n",
    "    StructField(\"_CreationDate\", TimestampType(), True),\n",
    "    StructField(\"_ContentLicense\", StringType(), True)\n",
    "])\n",
    "\n",
    "votes_schema=StructType([\n",
    "    StructField(\"Id\", IntegerType(), True),\n",
    "    StructField(\"PostId\",IntegerType(), True),\n",
    "    StructField(\"VoteTypeId\", IntegerType(), True),\n",
    "    StructField(\"CreationDate\", TimestampType(), True),\n",
    "    StructField(\"UserId\",IntegerType(), True),\n",
    "    StructField(\"BountyAmount\", IntegerType(), True),\n",
    "])\n",
    "\n",
    "posts_schema=StructType([\n",
    "    StructField(\"AcceptedAnswerId\", IntegerType(), True),\n",
    "    StructField(\"AnswerCount\",IntegerType(), True),\n",
    "    StructField(\"Body\", StringType(), True),\n",
    "    StructField(\"ClosedDate\", TimestampType(), True),\n",
    "    StructField(\"CommentCount\",IntegerType(), True),\n",
    "    StructField(\"CommunityOwnedDate\", TimestampType(), True),\n",
    "    StructField(\"ContentLicense\", StringType(), True),\n",
    "    StructField(\"CreationDate\", TimestampType(), True),\n",
    "    StructField(\"FavoriteCount\",IntegerType(), True),\n",
    "    StructField(\"Id\",IntegerType(), True),\n",
    "    StructField(\"LastActivityDate\", TimestampType(), True),\n",
    "    StructField(\"LastEditDate\", TimestampType(), True),\n",
    "    StructField(\"LastEditorDisplayName\", StringType(), True),\n",
    "    StructField(\"LastEditorUserId\",IntegerType(), True),\n",
    "    StructField(\"OwnerDisplayName\", StringType(), True),\n",
    "    StructField(\"OwnerUserId\",IntegerType(), True),\n",
    "    StructField(\"ParentId\",IntegerType(), True),\n",
    "    StructField(\"PostTypeId\",IntegerType(), True),\n",
    "    StructField(\"Score\",IntegerType(), True),\n",
    "    StructField(\"Tags\", StringType(), True),\n",
    "    StructField(\"Title\", StringType(), True),\n",
    "    StructField(\"ViewCount\",IntegerType(), True)\n",
    "])"
   ]
  },
  {
   "cell_type": "code",
   "execution_count": 30,
   "id": "3179749f-60d9-479d-af3d-b13eb8a52223",
   "metadata": {},
   "outputs": [],
   "source": [
    "Comments_df = spark.read.format(\"xml\") \\\n",
    "    .option(\"rowTag\", \"row\") \\\n",
    "    .schema(comments_schema)\\\n",
    "    .load(\"Comments.xml\")\n",
    "badges_df = spark.read.format(\"xml\") \\\n",
    "    .option(\"rowTag\", \"row\") \\\n",
    "    .load(\"badges.xml\")\n",
    "votes_df = spark.read.format(\"xml\") \\\n",
    "    .option(\"rowTag\", \"row\")\\\n",
    "    .option(\"attributePrefix\", \"\") \\\n",
    "    .schema(votes_schema) \\\n",
    "    .load(\"Votes.xml\") \n",
    "df_posts = spark.read.format(\"xml\") \\\n",
    "    .option(\"rowTag\", \"row\")\\\n",
    "    .option(\"attributePrefix\", \"\") \\\n",
    "    .schema(posts_schema) \\\n",
    "    .load(\"Posts.xml\") "
   ]
  },
  {
   "cell_type": "markdown",
   "id": "be69b0ab",
   "metadata": {},
   "source": [
    "# Comments Table"
   ]
  },
  {
   "cell_type": "markdown",
   "id": "6710139b",
   "metadata": {},
   "source": [
    "**Calculate Nulls**"
   ]
  },
  {
   "cell_type": "code",
   "execution_count": 31,
   "id": "f1b5e06a-b6fd-4bc9-8402-a0792de9ad04",
   "metadata": {},
   "outputs": [
    {
     "data": {
      "text/plain": [
       "_Id                  0.000000\n",
       "_PostId              0.000000\n",
       "_UserId              1.607733\n",
       "_UserDisplayName    98.391386\n",
       "_Score               0.000000\n",
       "_Text                0.000000\n",
       "_CreationDate        0.000000\n",
       "_ContentLicense      0.000000\n",
       "dtype: float64"
      ]
     },
     "execution_count": 31,
     "metadata": {},
     "output_type": "execute_result"
    }
   ],
   "source": [
    "Comments_df.toPandas().isnull().sum() / Comments_df.count() * 100"
   ]
  },
  {
   "cell_type": "markdown",
   "id": "f0d00d27-ade4-4c21-aa6f-37942d0becfb",
   "metadata": {},
   "source": [
    "**Renaming Columns**"
   ]
  },
  {
   "cell_type": "code",
   "execution_count": 32,
   "id": "ed28f13f-891e-4a0d-90a1-69dfde8e03f4",
   "metadata": {},
   "outputs": [],
   "source": [
    "Comments_df = Comments_df \\\n",
    "    .withColumnRenamed(\"_ContentLicense\", \"ContentLicense\") \\\n",
    "    .withColumnRenamed(\"_CreationDate\", \"CreationDate\") \\\n",
    "    .withColumnRenamed(\"_Id\", \"Id\") \\\n",
    "    .withColumnRenamed(\"_PostId\", \"PostId\") \\\n",
    "    .withColumnRenamed(\"_Score\", \"Score\") \\\n",
    "    .withColumnRenamed(\"_Text\", \"Text\") \\\n",
    "    .withColumnRenamed(\"_UserDisplayName\", \"UserDisplayName\") \\\n",
    "    .withColumnRenamed(\"_UserId\", \"UserId\")"
   ]
  },
  {
   "cell_type": "markdown",
   "id": "30d192d5-d3a2-4136-9eef-88634a600b3e",
   "metadata": {},
   "source": [
    "**Dropping Columns**"
   ]
  },
  {
   "cell_type": "code",
   "execution_count": 33,
   "id": "8c2f7c6d-dda4-4eba-93e8-e7776dde4444",
   "metadata": {},
   "outputs": [],
   "source": [
    "Comments_df = Comments_df.drop('UserDisplayName')"
   ]
  },
  {
   "cell_type": "markdown",
   "id": "ad5e18dc-a2b6-4ad6-a29b-2f4ed77a5397",
   "metadata": {},
   "source": [
    "**Formatting Date**"
   ]
  },
  {
   "cell_type": "code",
   "execution_count": 34,
   "id": "c61a82b9-9fa1-4d76-ae55-8a2fe039c29f",
   "metadata": {},
   "outputs": [],
   "source": [
    "Comments_df = Comments_df.withColumn(\"CreationDate\", date_format(\"CreationDate\", \"yy-MM-dd\"))"
   ]
  },
  {
   "cell_type": "markdown",
   "id": "64f333f0-418c-4580-bd4c-0d7910a4b625",
   "metadata": {},
   "source": [
    "**Handling Nulls**"
   ]
  },
  {
   "cell_type": "code",
   "execution_count": 35,
   "id": "61fbfb83-1e18-4110-8fad-12f843a483fe",
   "metadata": {},
   "outputs": [],
   "source": [
    "Comments_df = Comments_df.fillna({\"UserId\": -2})"
   ]
  },
  {
   "cell_type": "markdown",
   "id": "845ec936-cef6-4dba-97af-69fb9c1a0751",
   "metadata": {},
   "source": [
    "**Edit Data Types**"
   ]
  },
  {
   "cell_type": "code",
   "execution_count": 36,
   "id": "a4b0d0bc-bfa0-4196-9508-ddc3bc543256",
   "metadata": {},
   "outputs": [],
   "source": [
    "Comments_df = Comments_df.withColumn(\"Id\", col(\"Id\").cast(\"string\")) \\\n",
    "                         .withColumn(\"UserId\", col(\"UserId\").cast(\"string\")) \\\n",
    "                         .withColumn(\"PostId\", col(\"PostId\").cast(\"string\"))"
   ]
  },
  {
   "cell_type": "markdown",
   "id": "7df1af04",
   "metadata": {},
   "source": [
    "# Badges Table"
   ]
  },
  {
   "cell_type": "markdown",
   "id": "73c07628",
   "metadata": {},
   "source": [
    "**Calculate Nulls**"
   ]
  },
  {
   "cell_type": "code",
   "execution_count": 37,
   "id": "b4d3c9c9-e5fe-4485-815b-3c6fe2f7ef56",
   "metadata": {},
   "outputs": [],
   "source": [
    "from pyspark.sql.functions import col, count, when\n",
    "\n",
    "null_perc=badges_df.select([((count(when(col(c).isNull(),c)) / badges_df.count()) * 100).alias(c) for c in badges_df.columns])"
   ]
  },
  {
   "cell_type": "markdown",
   "id": "21adf5dd",
   "metadata": {},
   "source": [
    "**Dropping Columns**"
   ]
  },
  {
   "cell_type": "code",
   "execution_count": 38,
   "id": "3fe658b3",
   "metadata": {},
   "outputs": [],
   "source": [
    "Badge_Disc_Dim=badges_df.drop(*[\"_TagBased\",\"_Date\",\"_UserId\"])"
   ]
  },
  {
   "cell_type": "markdown",
   "id": "f1fa05bf",
   "metadata": {},
   "source": [
    "**Renaming Columns Names for Badge Disc Table** "
   ]
  },
  {
   "cell_type": "code",
   "execution_count": 39,
   "id": "c316bcf8",
   "metadata": {},
   "outputs": [],
   "source": [
    "for col_name in Badge_Disc_Dim.columns:\n",
    "    Badge_Disc_Dim = Badge_Disc_Dim.withColumnRenamed(col_name, col_name.lstrip(\"_\"))\n",
    "\n",
    "Badge_Disc_Dim=Badge_Disc_Dim.withColumnRenamed(\"Id\",\"Badge_Disc_BK\")"
   ]
  },
  {
   "cell_type": "markdown",
   "id": "4e1c14b0",
   "metadata": {},
   "source": [
    "**Formatting Date**"
   ]
  },
  {
   "cell_type": "code",
   "execution_count": 40,
   "id": "aed843be",
   "metadata": {},
   "outputs": [],
   "source": [
    "from pyspark.sql.functions import date_format, to_timestamp ,to_date\n",
    "\n",
    "badges_df = badges_df.withColumn(\"_Date\", date_format(to_timestamp(\"_Date\", \"yyyy-MM-dd HH:mm:ss\"), \"yyyy-MM-dd\"))"
   ]
  },
  {
   "cell_type": "markdown",
   "id": "22036b43",
   "metadata": {},
   "source": [
    "**Renaming Columns for Badges Fact Table**"
   ]
  },
  {
   "cell_type": "code",
   "execution_count": 41,
   "id": "a7dcc2cb",
   "metadata": {},
   "outputs": [],
   "source": [
    "from pyspark.sql.functions import col ,to_date\n",
    "\n",
    "badges_df = badges_df.withColumnRenamed(\"_Date\", \"date\") \\\n",
    "                    .withColumnRenamed(\"_Id\", \"Badge_Disc_fk\") \\\n",
    "                    .withColumnRenamed(\"_UserId\", \"User_fk\") \\\n",
    "                    .withColumnRenamed(\"_TagBased\", \"TagBased\")"
   ]
  },
  {
   "cell_type": "markdown",
   "id": "4a79eaaf",
   "metadata": {},
   "source": [
    "**Formatting Date**"
   ]
  },
  {
   "cell_type": "code",
   "execution_count": 42,
   "id": "015dd1d8",
   "metadata": {},
   "outputs": [],
   "source": [
    "badges_df = badges_df.withColumn(\"date\", to_date(col(\"date\"), \"yyyy-MM-dd\"))\n",
    "badges_fact = badges_df.select(\"date\", \"Badge_Disc_fk\", \"TagBased\", \"User_fk\")"
   ]
  },
  {
   "cell_type": "markdown",
   "id": "5b200922",
   "metadata": {},
   "source": [
    "# Votes Table"
   ]
  },
  {
   "cell_type": "code",
   "execution_count": 43,
   "id": "cf6cd110",
   "metadata": {},
   "outputs": [],
   "source": [
    "# %pip install beautifulsoup4"
   ]
  },
  {
   "cell_type": "code",
   "execution_count": 44,
   "id": "33ac84b4",
   "metadata": {},
   "outputs": [],
   "source": [
    "# from pyspark.sql.functions import udf\n",
    "# from pyspark.sql.types import StringType\n",
    "# from bs4 import BeautifulSoup\n",
    "# import sys"
   ]
  },
  {
   "cell_type": "markdown",
   "id": "6b72a4ac",
   "metadata": {},
   "source": [
    "**Calculate Nulls**"
   ]
  },
  {
   "cell_type": "code",
   "execution_count": 45,
   "id": "49d96162",
   "metadata": {},
   "outputs": [],
   "source": [
    "null_perc = votes_df.select(\n",
    "    (count(when(col(\"UserId\").isNull(), 1)) / count(lit(1)) * 100).alias(\"UserId_null_percentage\"),\n",
    "    (count(when(col(\"BountyAmount\").isNull(), 1)) / count(lit(1)) * 100).alias(\"BountyAmount_null_percentage\")\n",
    ").collect()[0]"
   ]
  },
  {
   "cell_type": "markdown",
   "id": "469d98e4",
   "metadata": {},
   "source": [
    "**Dropping columns**"
   ]
  },
  {
   "cell_type": "code",
   "execution_count": 46,
   "id": "18b6b96b",
   "metadata": {},
   "outputs": [],
   "source": [
    "votes_df = votes_df.drop(\"UserId\", \"BountyAmount\")"
   ]
  },
  {
   "cell_type": "markdown",
   "id": "2ba598ad",
   "metadata": {},
   "source": [
    "**joining votes with posts**"
   ]
  },
  {
   "cell_type": "code",
   "execution_count": 47,
   "id": "8fa1c408",
   "metadata": {},
   "outputs": [],
   "source": [
    "df_votes_with_owner = votes_df.join(\n",
    "    df_posts.select(\"Id\", \"OwnerUserId\"),\n",
    "    votes_df.PostId == df_posts.Id,\n",
    "    \"left\"\n",
    ")\n",
    "df_votes_with_owner = df_votes_with_owner.drop(df_posts[\"Id\"])\n"
   ]
  },
  {
   "cell_type": "markdown",
   "id": "7873b731",
   "metadata": {},
   "source": [
    "**Renaming columns**"
   ]
  },
  {
   "cell_type": "code",
   "execution_count": 48,
   "id": "91e7848b",
   "metadata": {},
   "outputs": [],
   "source": [
    "df_votes_with_owner = df_votes_with_owner.withColumnRenamed(\"OwnerUserId\", \"PostOwnerId\")"
   ]
  },
  {
   "cell_type": "markdown",
   "id": "2481fe7d",
   "metadata": {},
   "source": [
    "**Formatting Date**"
   ]
  },
  {
   "cell_type": "code",
   "execution_count": 49,
   "id": "1bb03ca8",
   "metadata": {},
   "outputs": [],
   "source": [
    "df_votes_with_owner = df_votes_with_owner.withColumn(\"CreationDate\", date_format(col(\"CreationDate\"), \"yyyy-MM-dd\"))\n"
   ]
  },
  {
   "cell_type": "code",
   "execution_count": null,
   "id": "393052f7",
   "metadata": {},
   "outputs": [],
   "source": []
  },
  {
   "cell_type": "code",
   "execution_count": null,
   "id": "f490a3f1",
   "metadata": {},
   "outputs": [],
   "source": []
  }
 ],
 "metadata": {
  "kernelspec": {
   "display_name": "kernal_name",
   "language": "python",
   "name": "python3"
  },
  "language_info": {
   "codemirror_mode": {
    "name": "ipython",
    "version": 3
   },
   "file_extension": ".py",
   "mimetype": "text/x-python",
   "name": "python",
   "nbconvert_exporter": "python",
   "pygments_lexer": "ipython3",
   "version": "3.11.11"
  }
 },
 "nbformat": 4,
 "nbformat_minor": 5
}
