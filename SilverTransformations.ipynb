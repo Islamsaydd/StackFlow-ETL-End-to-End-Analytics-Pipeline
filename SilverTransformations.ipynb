{
 "cells": [
  {
   "cell_type": "code",
   "execution_count": 45,
   "id": "a276414c-c15b-44fd-8b57-0a2fa131527f",
   "metadata": {},
   "outputs": [],
   "source": [
    "#import findspark\n",
    "#findspark.init()\n",
    "import pyspark\n"
   ]
  },
  {
   "cell_type": "code",
   "execution_count": 46,
   "id": "83fc1c29-096c-4c71-9bfb-2ea70c3fe594",
   "metadata": {},
   "outputs": [],
   "source": [
    "from pyspark.sql import SparkSession , Row\n",
    "from pyspark.sql.functions import *\n",
    "from pyspark.sql.types import StructType, StructField, StringType, IntegerType, TimestampType, MapType , BooleanType\n",
    "from bs4 import BeautifulSoup\n"
   ]
  },
  {
   "cell_type": "code",
   "execution_count": 47,
   "id": "400f3717",
   "metadata": {},
   "outputs": [
    {
     "name": "stdout",
     "output_type": "stream",
     "text": [
      "Requirement already satisfied: beautifulsoup4 in d:\\mada\\programs\\anaconda\\envs\\lab2\\lib\\site-packages (4.13.3)\n",
      "Requirement already satisfied: soupsieve>1.2 in d:\\mada\\programs\\anaconda\\envs\\lab2\\lib\\site-packages (from beautifulsoup4) (2.6)\n",
      "Requirement already satisfied: typing-extensions>=4.0.0 in d:\\mada\\programs\\anaconda\\envs\\lab2\\lib\\site-packages (from beautifulsoup4) (4.12.2)\n"
     ]
    }
   ],
   "source": [
    "import sys , os\n",
    "!{sys.executable} -m pip install beautifulsoup4"
   ]
  },
  {
   "cell_type": "code",
   "execution_count": 48,
   "id": "dffcaf43",
   "metadata": {},
   "outputs": [],
   "source": [
    "os.environ[\"PYSPARK_PYTHON\"] = sys.executable\n",
    "os.environ[\"PYSPARK_DRIVER_PYTHON\"] = sys.executable"
   ]
  },
  {
   "cell_type": "code",
   "execution_count": 49,
   "id": "4e17895a",
   "metadata": {},
   "outputs": [],
   "source": [
    "os.environ[\"HADOOP_HOME\"] = \"C:/Spark/spark-3.5.5-bin-hadoop3\"  \n",
    "os.environ[\"HADOOP_OPTS\"] = \"-Djava.library.path=C:/Spark/spark-3.5.5-bin-hadoop3/bin\""
   ]
  },
  {
   "cell_type": "code",
   "execution_count": 50,
   "id": "4c93447a",
   "metadata": {},
   "outputs": [],
   "source": [
    "spark = SparkSession.builder.appName(\"AllFiles_Spark_Cleansing\")\\\n",
    "    .config(\"spark.executor.memory\", \"3g\")\\\n",
    "    .config(\"spark.jars.packages\", \"com.databricks:spark-xml_2.12:0.16.0,org.apache.parquet:parquet-hadoop:1.15.1\")\\\n",
    "    .config(\"spark.pyspark.python\", sys.executable) \\\n",
    "    .config(\"spark.pyspark.driver.python\", sys.executable) \\\n",
    "    .config(\"spark.hadoop.io.native.lib.available\", \"false\")\\\n",
    "    .getOrCreate()"
   ]
  },
  {
   "cell_type": "code",
   "execution_count": 51,
   "id": "5b99a3a9",
   "metadata": {},
   "outputs": [],
   "source": [
    "comments_schema = StructType([\n",
    "    StructField(\"_Id\", IntegerType(), False),\n",
    "    StructField(\"_PostId\", IntegerType(), True),\n",
    "    StructField(\"_UserId\", IntegerType(), True),\n",
    "    StructField(\"_UserDisplayName\", StringType(), True),\n",
    "    StructField(\"_Score\", IntegerType(), True),\n",
    "    StructField(\"_Text\", StringType(), True),\n",
    "    StructField(\"_CreationDate\", TimestampType(), True),\n",
    "    StructField(\"_ContentLicense\", StringType(), True)\n",
    "])\n",
    "\n",
    "votes_schema=StructType([\n",
    "    StructField(\"Id\", IntegerType(), False),\n",
    "    StructField(\"PostId\",IntegerType(), True),\n",
    "    StructField(\"VoteTypeId\", IntegerType(), True),\n",
    "    StructField(\"CreationDate\", TimestampType(), True),\n",
    "    StructField(\"UserId\",IntegerType(), True),\n",
    "    StructField(\"BountyAmount\", IntegerType(), True),\n",
    "])\n",
    "\n",
    "Badges_schema = StructType([\n",
    "    StructField(\"_Class\", IntegerType(), True),\n",
    "    StructField(\"_Date\", TimestampType(), True),  \n",
    "    StructField(\"_Id\", IntegerType(), False),     \n",
    "    StructField(\"_Name\", StringType(), True),\n",
    "    StructField(\"_TagBased\", BooleanType(), True),\n",
    "    StructField(\"_UserId\", IntegerType(), True)  \n",
    "])\n",
    "posts_schema=StructType([\n",
    "    StructField(\"AcceptedAnswerId\", IntegerType(), True),\n",
    "    StructField(\"AnswerCount\",IntegerType(), True),\n",
    "    StructField(\"Body\", StringType(), True),\n",
    "    StructField(\"ClosedDate\", TimestampType(), True),\n",
    "    StructField(\"CommentCount\",IntegerType(), True),\n",
    "    StructField(\"CommunityOwnedDate\", TimestampType(), True),\n",
    "    StructField(\"ContentLicense\", StringType(), True),\n",
    "    StructField(\"CreationDate\", TimestampType(), True),\n",
    "    StructField(\"FavoriteCount\",IntegerType(), True),\n",
    "    StructField(\"Id\",IntegerType(), False),\n",
    "    StructField(\"LastActivityDate\", TimestampType(), True),\n",
    "    StructField(\"LastEditDate\", TimestampType(), True),\n",
    "    StructField(\"LastEditorDisplayName\", StringType(), True),\n",
    "    StructField(\"LastEditorUserId\",IntegerType(), True),\n",
    "    StructField(\"OwnerDisplayName\", StringType(), True),\n",
    "    StructField(\"OwnerUserId\",IntegerType(), True),\n",
    "    StructField(\"ParentId\",IntegerType(), True),\n",
    "    StructField(\"PostTypeId\",IntegerType(), True),\n",
    "    StructField(\"Score\",IntegerType(), True),\n",
    "    StructField(\"Tags\", StringType(), True),\n",
    "    StructField(\"Title\", StringType(), True),\n",
    "    StructField(\"ViewCount\",IntegerType(), True)\n",
    "])\n"
   ]
  },
  {
   "cell_type": "code",
   "execution_count": 52,
   "id": "3179749f-60d9-479d-af3d-b13eb8a52223",
   "metadata": {},
   "outputs": [],
   "source": [
    "Comments_df = spark.read.format(\"xml\") \\\n",
    "    .option(\"rowTag\", \"row\") \\\n",
    "    .schema(comments_schema)\\\n",
    "    .load(r\"Dataset/Comments.xml\")\n",
    "badges_df = spark.read.format(\"xml\") \\\n",
    "    .option(\"rowTag\", \"row\") \\\n",
    "    .schema(Badges_schema)\\\n",
    "    .load(r\"Dataset/Badges.xml\")\n",
    "\n",
    "votes_df = spark.read.format(\"xml\") \\\n",
    "    .option(\"rowTag\", \"row\")\\\n",
    "    .option(\"attributePrefix\", \"\") \\\n",
    "    .schema(votes_schema) \\\n",
    "    .load(r\"Dataset/Votes.xml\")\n",
    "df_posts = spark.read.format(\"xml\") \\\n",
    "    .option(\"rowTag\", \"row\")\\\n",
    "    .option(\"attributePrefix\", \"\") \\\n",
    "    .schema(posts_schema) \\\n",
    "    .load(r\"Dataset/Posts.xml\")  \n",
    "Users_df = spark.read.format(\"xml\") \\\n",
    "    .option(\"rowTag\", \"row\") \\\n",
    "    .load(r\"Dataset/Users.xml\")"
   ]
  },
  {
   "cell_type": "markdown",
   "id": "be69b0ab",
   "metadata": {},
   "source": [
    "# Comments Table"
   ]
  },
  {
   "cell_type": "code",
   "execution_count": 53,
   "id": "ead47f57",
   "metadata": {},
   "outputs": [
    {
     "name": "stdout",
     "output_type": "stream",
     "text": [
      "+---+-------+-------+----------------+------+--------------------+--------------------+---------------+\n",
      "|_Id|_PostId|_UserId|_UserDisplayName|_Score|               _Text|       _CreationDate|_ContentLicense|\n",
      "+---+-------+-------+----------------+------+--------------------+--------------------+---------------+\n",
      "|  1|      3|     13|            NULL|     7|Could be a poster...|2010-07-19 22:15:...|   CC BY-SA 2.5|\n",
      "|  2|      5|     13|            NULL|     0|Yes, R is nice- b...|2010-07-19 22:16:...|   CC BY-SA 2.5|\n",
      "|  3|      9|     13|            NULL|     1|Again- why?  How ...|2010-07-19 22:18:...|   CC BY-SA 2.5|\n",
      "|  4|      5|     37|            NULL|    11|It's mature, well...|2010-07-19 22:19:...|   CC BY-SA 2.5|\n",
      "|  6|     14|     23|            NULL|    10|why ask the quest...|2010-07-19 22:22:...|   CC BY-SA 2.5|\n",
      "|  7|     18|     36|            NULL|     1|also the US censu...|2010-07-19 22:25:...|   CC BY-SA 2.5|\n",
      "|  9|     16|     78|            NULL|     1|Andrew Gelman has...|2010-07-19 22:30:...|   CC BY-SA 2.5|\n",
      "| 10|     23|   NULL|          user28|     8|I am not sure I u...|2010-07-19 22:31:...|   CC BY-SA 2.5|\n",
      "| 11|     43|      5|            NULL|     5|There are many R ...|2010-07-19 22:34:...|   CC BY-SA 2.5|\n",
      "| 12|     38|     54|            NULL|     0|That's just an ex...|2010-07-19 22:37:...|   CC BY-SA 2.5|\n",
      "| 13|     20|     24|            NULL|     2|What levels of ku...|2010-07-19 22:38:...|   CC BY-SA 2.5|\n",
      "| 14|     46|     74|            NULL|     6|this is an incred...|2010-07-19 22:38:...|   CC BY-SA 2.5|\n",
      "| 15|      3|     24|            NULL|     3|Maybe the focus s...|2010-07-19 22:44:...|   CC BY-SA 2.5|\n",
      "| 18|     36|     68|            NULL|    19|http://xkcd.com/552/|2010-07-19 22:48:...|   CC BY-SA 2.5|\n",
      "| 20|     54|   NULL|          user28|     4|I am not sure if ...|2010-07-19 22:51:...|   CC BY-SA 2.5|\n",
      "| 21|     77|      8|            NULL|     1|I like the first ...|2010-07-19 22:56:...|   CC BY-SA 2.5|\n",
      "| 22|     56|    104|            NULL|    17|I like the analog...|2010-07-19 22:56:...|   CC BY-SA 2.5|\n",
      "| 24|     73|    107|            NULL|     1|Very subjective q...|2010-07-19 22:58:...|   CC BY-SA 2.5|\n",
      "| 27|     77|     55|            NULL|     1|There's an intere...|2010-07-19 23:01:...|   CC BY-SA 2.5|\n",
      "| 29|     79|     55|            NULL|     1|I wasn't suggesti...|2010-07-19 23:03:...|   CC BY-SA 2.5|\n",
      "+---+-------+-------+----------------+------+--------------------+--------------------+---------------+\n",
      "only showing top 20 rows\n",
      "\n"
     ]
    }
   ],
   "source": [
    "Comments_df.show()"
   ]
  },
  {
   "cell_type": "code",
   "execution_count": 54,
   "id": "f56fa5d3",
   "metadata": {},
   "outputs": [
    {
     "name": "stdout",
     "output_type": "stream",
     "text": [
      "root\n",
      " |-- _Id: integer (nullable = false)\n",
      " |-- _PostId: integer (nullable = true)\n",
      " |-- _UserId: integer (nullable = true)\n",
      " |-- _UserDisplayName: string (nullable = true)\n",
      " |-- _Score: integer (nullable = true)\n",
      " |-- _Text: string (nullable = true)\n",
      " |-- _CreationDate: timestamp (nullable = true)\n",
      " |-- _ContentLicense: string (nullable = true)\n",
      "\n"
     ]
    }
   ],
   "source": [
    "Comments_df.printSchema()"
   ]
  },
  {
   "cell_type": "markdown",
   "id": "6710139b",
   "metadata": {},
   "source": [
    "**Calculate Nulls**"
   ]
  },
  {
   "cell_type": "code",
   "execution_count": 55,
   "id": "f1b5e06a-b6fd-4bc9-8402-a0792de9ad04",
   "metadata": {},
   "outputs": [
    {
     "data": {
      "text/plain": [
       "_Id                  0.000000\n",
       "_PostId              0.000000\n",
       "_UserId              1.607733\n",
       "_UserDisplayName    98.391386\n",
       "_Score               0.000000\n",
       "_Text                0.000000\n",
       "_CreationDate        0.000000\n",
       "_ContentLicense      0.000000\n",
       "dtype: float64"
      ]
     },
     "execution_count": 55,
     "metadata": {},
     "output_type": "execute_result"
    }
   ],
   "source": [
    "Comments_df.toPandas().isnull().sum() / Comments_df.count() * 100   ########"
   ]
  },
  {
   "cell_type": "markdown",
   "id": "f0d00d27-ade4-4c21-aa6f-37942d0becfb",
   "metadata": {},
   "source": [
    "**Renaming Columns**"
   ]
  },
  {
   "cell_type": "code",
   "execution_count": 56,
   "id": "ed28f13f-891e-4a0d-90a1-69dfde8e03f4",
   "metadata": {},
   "outputs": [],
   "source": [
    "Comments_df = Comments_df \\\n",
    "    .withColumnRenamed(\"_ContentLicense\", \"ContentLicense\") \\\n",
    "    .withColumnRenamed(\"_CreationDate\", \"CreationDate\") \\\n",
    "    .withColumnRenamed(\"_Id\", \"Id\") \\\n",
    "    .withColumnRenamed(\"_PostId\", \"PostId\") \\\n",
    "    .withColumnRenamed(\"_Score\", \"Score\") \\\n",
    "    .withColumnRenamed(\"_Text\", \"Text\") \\\n",
    "    .withColumnRenamed(\"_UserDisplayName\", \"UserDisplayName\") \\\n",
    "    .withColumnRenamed(\"_UserId\", \"UserId\")"
   ]
  },
  {
   "cell_type": "markdown",
   "id": "30d192d5-d3a2-4136-9eef-88634a600b3e",
   "metadata": {},
   "source": [
    "**Dropping Columns**"
   ]
  },
  {
   "cell_type": "code",
   "execution_count": 57,
   "id": "8c2f7c6d-dda4-4eba-93e8-e7776dde4444",
   "metadata": {},
   "outputs": [],
   "source": [
    "Comments_df = Comments_df.drop('UserDisplayName')"
   ]
  },
  {
   "cell_type": "markdown",
   "id": "ad5e18dc-a2b6-4ad6-a29b-2f4ed77a5397",
   "metadata": {},
   "source": [
    "**Formatting Date**"
   ]
  },
  {
   "cell_type": "code",
   "execution_count": 58,
   "id": "c61a82b9-9fa1-4d76-ae55-8a2fe039c29f",
   "metadata": {},
   "outputs": [],
   "source": [
    "Comments_df = Comments_df.withColumn(\"CreationDate\", to_date(col(\"CreationDate\"),\"yyyy-MM-DD\"))"
   ]
  },
  {
   "cell_type": "markdown",
   "id": "64f333f0-418c-4580-bd4c-0d7910a4b625",
   "metadata": {},
   "source": [
    "**Handling Nulls**"
   ]
  },
  {
   "cell_type": "code",
   "execution_count": 59,
   "id": "61fbfb83-1e18-4110-8fad-12f843a483fe",
   "metadata": {},
   "outputs": [],
   "source": [
    "Comments_df = Comments_df.fillna({\"UserId\": -2})"
   ]
  },
  {
   "cell_type": "code",
   "execution_count": 60,
   "id": "2b470d96",
   "metadata": {},
   "outputs": [
    {
     "name": "stdout",
     "output_type": "stream",
     "text": [
      "root\n",
      " |-- Id: integer (nullable = false)\n",
      " |-- PostId: integer (nullable = true)\n",
      " |-- UserId: integer (nullable = false)\n",
      " |-- Score: integer (nullable = true)\n",
      " |-- Text: string (nullable = true)\n",
      " |-- CreationDate: date (nullable = true)\n",
      " |-- ContentLicense: string (nullable = true)\n",
      "\n"
     ]
    }
   ],
   "source": [
    "Comments_df.printSchema()       ########"
   ]
  },
  {
   "cell_type": "code",
   "execution_count": 61,
   "id": "1e6b9f41",
   "metadata": {},
   "outputs": [
    {
     "name": "stdout",
     "output_type": "stream",
     "text": [
      "+---+------+------+-----+--------------------+------------+--------------+\n",
      "| Id|PostId|UserId|Score|                Text|CreationDate|ContentLicense|\n",
      "+---+------+------+-----+--------------------+------------+--------------+\n",
      "|  1|     3|    13|    7|Could be a poster...|  2010-07-19|  CC BY-SA 2.5|\n",
      "|  2|     5|    13|    0|Yes, R is nice- b...|  2010-07-19|  CC BY-SA 2.5|\n",
      "|  3|     9|    13|    1|Again- why?  How ...|  2010-07-19|  CC BY-SA 2.5|\n",
      "|  4|     5|    37|   11|It's mature, well...|  2010-07-19|  CC BY-SA 2.5|\n",
      "|  6|    14|    23|   10|why ask the quest...|  2010-07-19|  CC BY-SA 2.5|\n",
      "|  7|    18|    36|    1|also the US censu...|  2010-07-19|  CC BY-SA 2.5|\n",
      "|  9|    16|    78|    1|Andrew Gelman has...|  2010-07-19|  CC BY-SA 2.5|\n",
      "| 10|    23|    -2|    8|I am not sure I u...|  2010-07-19|  CC BY-SA 2.5|\n",
      "| 11|    43|     5|    5|There are many R ...|  2010-07-19|  CC BY-SA 2.5|\n",
      "| 12|    38|    54|    0|That's just an ex...|  2010-07-19|  CC BY-SA 2.5|\n",
      "| 13|    20|    24|    2|What levels of ku...|  2010-07-19|  CC BY-SA 2.5|\n",
      "| 14|    46|    74|    6|this is an incred...|  2010-07-19|  CC BY-SA 2.5|\n",
      "| 15|     3|    24|    3|Maybe the focus s...|  2010-07-19|  CC BY-SA 2.5|\n",
      "| 18|    36|    68|   19|http://xkcd.com/552/|  2010-07-19|  CC BY-SA 2.5|\n",
      "| 20|    54|    -2|    4|I am not sure if ...|  2010-07-19|  CC BY-SA 2.5|\n",
      "| 21|    77|     8|    1|I like the first ...|  2010-07-19|  CC BY-SA 2.5|\n",
      "| 22|    56|   104|   17|I like the analog...|  2010-07-19|  CC BY-SA 2.5|\n",
      "| 24|    73|   107|    1|Very subjective q...|  2010-07-19|  CC BY-SA 2.5|\n",
      "| 27|    77|    55|    1|There's an intere...|  2010-07-19|  CC BY-SA 2.5|\n",
      "| 29|    79|    55|    1|I wasn't suggesti...|  2010-07-19|  CC BY-SA 2.5|\n",
      "+---+------+------+-----+--------------------+------------+--------------+\n",
      "only showing top 20 rows\n",
      "\n"
     ]
    }
   ],
   "source": [
    "Comments_df.show()      #########"
   ]
  },
  {
   "cell_type": "code",
   "execution_count": 62,
   "id": "83ad386a",
   "metadata": {},
   "outputs": [],
   "source": [
    "Comments_df.coalesce(1).write.mode(\"overwrite\").parquet(\"SilverDataSet/Comments\")"
   ]
  },
  {
   "cell_type": "markdown",
   "id": "7df1af04",
   "metadata": {},
   "source": [
    "# Badges Table"
   ]
  },
  {
   "cell_type": "code",
   "execution_count": 63,
   "id": "0007fe09",
   "metadata": {},
   "outputs": [
    {
     "name": "stdout",
     "output_type": "stream",
     "text": [
      "+------+--------------------+---+-------+---------+-------+\n",
      "|_Class|               _Date|_Id|  _Name|_TagBased|_UserId|\n",
      "+------+--------------------+---+-------+---------+-------+\n",
      "|     3|2010-07-19 22:39:...|  1|Teacher|    false|      5|\n",
      "|     3|2010-07-19 22:39:...|  2|Teacher|    false|      6|\n",
      "|     3|2010-07-19 22:39:...|  3|Teacher|    false|      8|\n",
      "|     3|2010-07-19 22:39:...|  4|Teacher|    false|     23|\n",
      "|     3|2010-07-19 22:39:...|  5|Teacher|    false|     36|\n",
      "|     3|2010-07-19 22:39:...|  6|Teacher|    false|     37|\n",
      "|     3|2010-07-19 22:39:...|  7|Teacher|    false|     50|\n",
      "|     3|2010-07-19 22:39:...|  8|Teacher|    false|     55|\n",
      "|     3|2010-07-19 22:39:...|  9|Student|    false|      5|\n",
      "|     3|2010-07-19 22:39:...| 10|Student|    false|      8|\n",
      "|     3| 2010-07-19 22:39:08| 11|Student|    false|     13|\n",
      "|     3|2010-07-19 22:39:...| 12|Student|    false|     18|\n",
      "|     3|2010-07-19 22:39:...| 13|Student|    false|     23|\n",
      "|     3|2010-07-19 22:39:...| 14|Student|    false|     24|\n",
      "|     3|2010-07-19 22:39:...| 16|Student|    false|     59|\n",
      "|     3|2010-07-19 22:39:...| 17|Student|    false|     66|\n",
      "|     3|2010-07-19 22:39:...| 18|Student|    false|     69|\n",
      "|     3|2010-07-19 22:39:...| 19|Student|    false|     75|\n",
      "|     3|2010-07-19 22:39:...| 20| Editor|    false|     13|\n",
      "|     3|2010-07-19 22:39:...| 21| Editor|    false|     23|\n",
      "+------+--------------------+---+-------+---------+-------+\n",
      "only showing top 20 rows\n",
      "\n"
     ]
    }
   ],
   "source": [
    "badges_df.show()        ######"
   ]
  },
  {
   "cell_type": "markdown",
   "id": "73c07628",
   "metadata": {},
   "source": [
    "**Calculate Nulls**"
   ]
  },
  {
   "cell_type": "code",
   "execution_count": 64,
   "id": "b4d3c9c9-e5fe-4485-815b-3c6fe2f7ef56",
   "metadata": {},
   "outputs": [],
   "source": [
    "\n",
    "null_perc=badges_df.select([((count(when(col(c).isNull(),c)) / badges_df.count()) * 100).alias(c) for c in badges_df.columns]) ########"
   ]
  },
  {
   "cell_type": "code",
   "execution_count": 65,
   "id": "0527574d",
   "metadata": {},
   "outputs": [
    {
     "name": "stdout",
     "output_type": "stream",
     "text": [
      "+------+-----+---+-----+---------+-------+\n",
      "|_Class|_Date|_Id|_Name|_TagBased|_UserId|\n",
      "+------+-----+---+-----+---------+-------+\n",
      "|   0.0|  0.0|0.0|  0.0|      0.0|    0.0|\n",
      "+------+-----+---+-----+---------+-------+\n",
      "\n"
     ]
    }
   ],
   "source": [
    "null_perc.show()       #######"
   ]
  },
  {
   "cell_type": "markdown",
   "id": "21adf5dd",
   "metadata": {},
   "source": [
    "**Dropping Columns**"
   ]
  },
  {
   "cell_type": "code",
   "execution_count": 66,
   "id": "10c877aa",
   "metadata": {},
   "outputs": [
    {
     "name": "stdout",
     "output_type": "stream",
     "text": [
      "root\n",
      " |-- _Class: integer (nullable = true)\n",
      " |-- _Date: timestamp (nullable = true)\n",
      " |-- _Id: integer (nullable = false)\n",
      " |-- _Name: string (nullable = true)\n",
      " |-- _TagBased: boolean (nullable = true)\n",
      " |-- _UserId: integer (nullable = true)\n",
      "\n"
     ]
    }
   ],
   "source": [
    "badges_df.printSchema()"
   ]
  },
  {
   "cell_type": "code",
   "execution_count": 67,
   "id": "3fe658b3",
   "metadata": {},
   "outputs": [],
   "source": [
    "Badge_Disc_Dim=badges_df.drop(*[\"_TagBased\",\"_Date\",\"_UserId\",'_Id'])"
   ]
  },
  {
   "cell_type": "code",
   "execution_count": 68,
   "id": "883aa437",
   "metadata": {},
   "outputs": [
    {
     "name": "stdout",
     "output_type": "stream",
     "text": [
      "+------+-------+\n",
      "|_Class|  _Name|\n",
      "+------+-------+\n",
      "|     3|Teacher|\n",
      "|     3|Teacher|\n",
      "|     3|Teacher|\n",
      "|     3|Teacher|\n",
      "|     3|Teacher|\n",
      "|     3|Teacher|\n",
      "|     3|Teacher|\n",
      "|     3|Teacher|\n",
      "|     3|Student|\n",
      "|     3|Student|\n",
      "|     3|Student|\n",
      "|     3|Student|\n",
      "|     3|Student|\n",
      "|     3|Student|\n",
      "|     3|Student|\n",
      "|     3|Student|\n",
      "|     3|Student|\n",
      "|     3|Student|\n",
      "|     3| Editor|\n",
      "|     3| Editor|\n",
      "+------+-------+\n",
      "only showing top 20 rows\n",
      "\n"
     ]
    }
   ],
   "source": [
    "Badge_Disc_Dim.show()"
   ]
  },
  {
   "cell_type": "markdown",
   "id": "f1fa05bf",
   "metadata": {},
   "source": [
    "**Renaming Columns Names for Badge Disc Table** "
   ]
  },
  {
   "cell_type": "code",
   "execution_count": 69,
   "id": "c316bcf8",
   "metadata": {},
   "outputs": [],
   "source": [
    "for col_name in Badge_Disc_Dim.columns:\n",
    "    Badge_Disc_Dim = Badge_Disc_Dim.withColumnRenamed(col_name, col_name.lstrip(\"_\"))\n",
    "\n",
    "#Badge_Disc_Dim=Badge_Disc_Dim.withColumnRenamed(\"Id\",\"Badge_Desc_ID\")"
   ]
  },
  {
   "cell_type": "code",
   "execution_count": 70,
   "id": "83fa3776",
   "metadata": {},
   "outputs": [
    {
     "name": "stdout",
     "output_type": "stream",
     "text": [
      "root\n",
      " |-- Class: integer (nullable = true)\n",
      " |-- Name: string (nullable = true)\n",
      "\n"
     ]
    }
   ],
   "source": [
    "Badge_Disc_Dim.printSchema()        ###"
   ]
  },
  {
   "cell_type": "markdown",
   "id": "1bbc2e03",
   "metadata": {},
   "source": [
    "**Identfying the distinct badges**"
   ]
  },
  {
   "cell_type": "code",
   "execution_count": 71,
   "id": "04899f46",
   "metadata": {},
   "outputs": [],
   "source": [
    "Badge_Disc_Dim = Badge_Disc_Dim.select('Name','Class').dropDuplicates()"
   ]
  },
  {
   "cell_type": "code",
   "execution_count": 72,
   "id": "1cdf23d4",
   "metadata": {},
   "outputs": [
    {
     "name": "stdout",
     "output_type": "stream",
     "text": [
      "+--------------------+-----+\n",
      "|                Name|Class|\n",
      "+--------------------+-----+\n",
      "|             p-value|    3|\n",
      "|             Marshal|    1|\n",
      "|               anova|    2|\n",
      "|     autocorrelation|    3|\n",
      "|    Stellar Question|    1|\n",
      "|             Curious|    3|\n",
      "|   predictive-models|    3|\n",
      "|             moments|    3|\n",
      "|          self-study|    3|\n",
      "|       Good Question|    2|\n",
      "|           Outspoken|    2|\n",
      "|central-limit-the...|    3|\n",
      "|        optimization|    3|\n",
      "|generalized-linea...|    2|\n",
      "|computational-sta...|    3|\n",
      "|      standard-error|    3|\n",
      "|         probability|    3|\n",
      "|          covariance|    3|\n",
      "|  distance-functions|    3|\n",
      "|              sample|    3|\n",
      "+--------------------+-----+\n",
      "only showing top 20 rows\n",
      "\n"
     ]
    },
    {
     "data": {
      "text/plain": [
       "500"
      ]
     },
     "execution_count": 72,
     "metadata": {},
     "output_type": "execute_result"
    }
   ],
   "source": [
    "Badge_Disc_Dim.show()\n",
    "Badge_Disc_Dim.count()\n"
   ]
  },
  {
   "cell_type": "markdown",
   "id": "17f0402f",
   "metadata": {},
   "source": [
    "**Adding SK**"
   ]
  },
  {
   "cell_type": "code",
   "execution_count": 73,
   "id": "0c14bbc9",
   "metadata": {},
   "outputs": [],
   "source": [
    "Badge_Disc_Dim = Badge_Disc_Dim.withColumn(\"Badge_Desc_Id\", monotonically_increasing_id() + lit(1))"
   ]
  },
  {
   "cell_type": "markdown",
   "id": "806723c4",
   "metadata": {},
   "source": [
    "**Rearrange coloumns**"
   ]
  },
  {
   "cell_type": "code",
   "execution_count": 74,
   "id": "4c350e76",
   "metadata": {},
   "outputs": [],
   "source": [
    "Badge_Disc_Dim = Badge_Disc_Dim.select('Badge_Desc_Id','Name','Class')"
   ]
  },
  {
   "cell_type": "code",
   "execution_count": 75,
   "id": "9300c82a",
   "metadata": {},
   "outputs": [
    {
     "name": "stdout",
     "output_type": "stream",
     "text": [
      "+-----+-----+\n",
      "|Class|count|\n",
      "+-----+-----+\n",
      "|    1|   43|\n",
      "|    3|  340|\n",
      "|    2|  117|\n",
      "+-----+-----+\n",
      "\n"
     ]
    }
   ],
   "source": [
    "Badge_Disc_Dim.groupBy(\"Class\").count().show()          #####\n"
   ]
  },
  {
   "cell_type": "code",
   "execution_count": 76,
   "id": "165d8632",
   "metadata": {},
   "outputs": [],
   "source": [
    "Badge_Disc_Dim = Badge_Disc_Dim.withColumn(\"Class\",\n",
    "    when(col(\"Class\") == 1, lit(\"Gold\"))\n",
    "    .when(col(\"Class\") == 2, lit(\"Silver\"))\n",
    "    .when(col(\"Class\") == 3, lit(\"Bronze\")))"
   ]
  },
  {
   "cell_type": "code",
   "execution_count": 77,
   "id": "c3febbb2",
   "metadata": {},
   "outputs": [
    {
     "name": "stdout",
     "output_type": "stream",
     "text": [
      "+-------------+--------------------+------+\n",
      "|Badge_Desc_Id|                Name| Class|\n",
      "+-------------+--------------------+------+\n",
      "|            1|             p-value|Bronze|\n",
      "|            2|             Marshal|  Gold|\n",
      "|            3|               anova|Silver|\n",
      "|            4|     autocorrelation|Bronze|\n",
      "|            5|    Stellar Question|  Gold|\n",
      "|            6|             Curious|Bronze|\n",
      "|            7|   predictive-models|Bronze|\n",
      "|            8|             moments|Bronze|\n",
      "|            9|          self-study|Bronze|\n",
      "|           10|       Good Question|Silver|\n",
      "|           11|           Outspoken|Silver|\n",
      "|           12|central-limit-the...|Bronze|\n",
      "|           13|        optimization|Bronze|\n",
      "|           14|generalized-linea...|Silver|\n",
      "|           15|computational-sta...|Bronze|\n",
      "|           16|      standard-error|Bronze|\n",
      "|           17|         probability|Bronze|\n",
      "|           18|          covariance|Bronze|\n",
      "|           19|  distance-functions|Bronze|\n",
      "|           20|              sample|Bronze|\n",
      "+-------------+--------------------+------+\n",
      "only showing top 20 rows\n",
      "\n"
     ]
    }
   ],
   "source": [
    "Badge_Disc_Dim.show()   ###"
   ]
  },
  {
   "cell_type": "code",
   "execution_count": 78,
   "id": "6fb83cc4",
   "metadata": {},
   "outputs": [],
   "source": [
    "Badge_Disc_Dim.coalesce(1).write.mode(\"overwrite\").parquet(\"SilverDataSet/Badge_Desc_Dim\")"
   ]
  },
  {
   "cell_type": "markdown",
   "id": "4e1c14b0",
   "metadata": {},
   "source": [
    "**Formatting Date**"
   ]
  },
  {
   "cell_type": "code",
   "execution_count": 79,
   "id": "aed843be",
   "metadata": {},
   "outputs": [],
   "source": [
    "\n",
    "badges_df = badges_df.withColumn(\"AssignedDate\", to_date(\"_Date\", \"yyyy-MM-dd\"))"
   ]
  },
  {
   "cell_type": "code",
   "execution_count": 80,
   "id": "c17b54f8",
   "metadata": {},
   "outputs": [
    {
     "name": "stdout",
     "output_type": "stream",
     "text": [
      "root\n",
      " |-- _Class: integer (nullable = true)\n",
      " |-- _Date: timestamp (nullable = true)\n",
      " |-- _Id: integer (nullable = false)\n",
      " |-- _Name: string (nullable = true)\n",
      " |-- _TagBased: boolean (nullable = true)\n",
      " |-- _UserId: integer (nullable = true)\n",
      " |-- AssignedDate: date (nullable = true)\n",
      "\n"
     ]
    }
   ],
   "source": [
    "badges_df.printSchema()"
   ]
  },
  {
   "cell_type": "code",
   "execution_count": 81,
   "id": "56b41f01",
   "metadata": {},
   "outputs": [
    {
     "name": "stdout",
     "output_type": "stream",
     "text": [
      "+------+--------------------+---+-------+---------+-------+------------+\n",
      "|_Class|               _Date|_Id|  _Name|_TagBased|_UserId|AssignedDate|\n",
      "+------+--------------------+---+-------+---------+-------+------------+\n",
      "|     3|2010-07-19 22:39:...|  1|Teacher|    false|      5|  2010-07-19|\n",
      "|     3|2010-07-19 22:39:...|  2|Teacher|    false|      6|  2010-07-19|\n",
      "|     3|2010-07-19 22:39:...|  3|Teacher|    false|      8|  2010-07-19|\n",
      "|     3|2010-07-19 22:39:...|  4|Teacher|    false|     23|  2010-07-19|\n",
      "|     3|2010-07-19 22:39:...|  5|Teacher|    false|     36|  2010-07-19|\n",
      "|     3|2010-07-19 22:39:...|  6|Teacher|    false|     37|  2010-07-19|\n",
      "|     3|2010-07-19 22:39:...|  7|Teacher|    false|     50|  2010-07-19|\n",
      "|     3|2010-07-19 22:39:...|  8|Teacher|    false|     55|  2010-07-19|\n",
      "|     3|2010-07-19 22:39:...|  9|Student|    false|      5|  2010-07-19|\n",
      "|     3|2010-07-19 22:39:...| 10|Student|    false|      8|  2010-07-19|\n",
      "|     3| 2010-07-19 22:39:08| 11|Student|    false|     13|  2010-07-19|\n",
      "|     3|2010-07-19 22:39:...| 12|Student|    false|     18|  2010-07-19|\n",
      "|     3|2010-07-19 22:39:...| 13|Student|    false|     23|  2010-07-19|\n",
      "|     3|2010-07-19 22:39:...| 14|Student|    false|     24|  2010-07-19|\n",
      "|     3|2010-07-19 22:39:...| 16|Student|    false|     59|  2010-07-19|\n",
      "|     3|2010-07-19 22:39:...| 17|Student|    false|     66|  2010-07-19|\n",
      "|     3|2010-07-19 22:39:...| 18|Student|    false|     69|  2010-07-19|\n",
      "|     3|2010-07-19 22:39:...| 19|Student|    false|     75|  2010-07-19|\n",
      "|     3|2010-07-19 22:39:...| 20| Editor|    false|     13|  2010-07-19|\n",
      "|     3|2010-07-19 22:39:...| 21| Editor|    false|     23|  2010-07-19|\n",
      "+------+--------------------+---+-------+---------+-------+------------+\n",
      "only showing top 20 rows\n",
      "\n"
     ]
    }
   ],
   "source": [
    "badges_df.show()"
   ]
  },
  {
   "cell_type": "markdown",
   "id": "22036b43",
   "metadata": {},
   "source": [
    "**Renaming Columns for Badges Fact Table**"
   ]
  },
  {
   "cell_type": "code",
   "execution_count": 82,
   "id": "a7dcc2cb",
   "metadata": {},
   "outputs": [],
   "source": [
    "\n",
    "badges_df = badges_df.withColumnRenamed(\"_Date\", \"date\") \\\n",
    "                    .withColumnRenamed(\"_Id\", \"AssingingBadge_BK\") \\\n",
    "                    .withColumnRenamed(\"_UserId\", \"User_fk\") \\\n",
    "                    .withColumnRenamed(\"_TagBased\", \"TagBased\")\\\n",
    "                    .withColumnRenamed(\"_Name\", \"Name\")\\\n",
    "                    \n"
   ]
  },
  {
   "cell_type": "code",
   "execution_count": 83,
   "id": "92bfe0b4",
   "metadata": {},
   "outputs": [],
   "source": [
    "badges_df = badges_df.join(\n",
    "    Badge_Disc_Dim,\n",
    "    on = \"Name\",\n",
    "    how = \"left\"\n",
    ")"
   ]
  },
  {
   "cell_type": "code",
   "execution_count": 84,
   "id": "752ebfdc",
   "metadata": {},
   "outputs": [
    {
     "name": "stdout",
     "output_type": "stream",
     "text": [
      "+---------+------+--------------------+-----------------+--------+-------+------------+-------------+------+\n",
      "|     Name|_Class|                date|AssingingBadge_BK|TagBased|User_fk|AssignedDate|Badge_Desc_Id| Class|\n",
      "+---------+------+--------------------+-----------------+--------+-------+------------+-------------+------+\n",
      "|  Student|     3|2010-07-19 22:39:...|                9|   false|      5|  2010-07-19|          262|Bronze|\n",
      "|  Student|     3|2010-07-19 22:39:...|               10|   false|      8|  2010-07-19|          262|Bronze|\n",
      "|  Student|     3| 2010-07-19 22:39:08|               11|   false|     13|  2010-07-19|          262|Bronze|\n",
      "|  Student|     3|2010-07-19 22:39:...|               12|   false|     18|  2010-07-19|          262|Bronze|\n",
      "|  Student|     3|2010-07-19 22:39:...|               13|   false|     23|  2010-07-19|          262|Bronze|\n",
      "|  Student|     3|2010-07-19 22:39:...|               14|   false|     24|  2010-07-19|          262|Bronze|\n",
      "|  Student|     3|2010-07-19 22:39:...|               16|   false|     59|  2010-07-19|          262|Bronze|\n",
      "|  Student|     3|2010-07-19 22:39:...|               17|   false|     66|  2010-07-19|          262|Bronze|\n",
      "|  Student|     3|2010-07-19 22:39:...|               18|   false|     69|  2010-07-19|          262|Bronze|\n",
      "|  Student|     3|2010-07-19 22:39:...|               19|   false|     75|  2010-07-19|          262|Bronze|\n",
      "|  Teacher|     3|2010-07-19 22:39:...|                1|   false|      5|  2010-07-19|          232|Bronze|\n",
      "|  Teacher|     3|2010-07-19 22:39:...|                2|   false|      6|  2010-07-19|          232|Bronze|\n",
      "|  Teacher|     3|2010-07-19 22:39:...|                3|   false|      8|  2010-07-19|          232|Bronze|\n",
      "|  Teacher|     3|2010-07-19 22:39:...|                4|   false|     23|  2010-07-19|          232|Bronze|\n",
      "|  Teacher|     3|2010-07-19 22:39:...|                5|   false|     36|  2010-07-19|          232|Bronze|\n",
      "|  Teacher|     3|2010-07-19 22:39:...|                6|   false|     37|  2010-07-19|          232|Bronze|\n",
      "|  Teacher|     3|2010-07-19 22:39:...|                7|   false|     50|  2010-07-19|          232|Bronze|\n",
      "|  Teacher|     3|2010-07-19 22:39:...|                8|   false|     55|  2010-07-19|          232|Bronze|\n",
      "|Organizer|     3|2010-07-19 22:39:...|               22|   false|      6|  2010-07-19|          149|Bronze|\n",
      "|   Editor|     3|2010-07-19 22:39:...|               20|   false|     13|  2010-07-19|          194|Bronze|\n",
      "+---------+------+--------------------+-----------------+--------+-------+------------+-------------+------+\n",
      "only showing top 20 rows\n",
      "\n"
     ]
    }
   ],
   "source": [
    "badges_df.show()"
   ]
  },
  {
   "cell_type": "code",
   "execution_count": 85,
   "id": "015dd1d8",
   "metadata": {},
   "outputs": [],
   "source": [
    "\n",
    "badges_fact = badges_df.select(\"AssingingBadge_BK\",\"User_fk\",\"Badge_Desc_Id\", \"TagBased\", \"Assigneddate\")"
   ]
  },
  {
   "cell_type": "code",
   "execution_count": 86,
   "id": "04d10340",
   "metadata": {},
   "outputs": [
    {
     "name": "stdout",
     "output_type": "stream",
     "text": [
      "+-----------------+-------+-------------+--------+------------+\n",
      "|AssingingBadge_BK|User_fk|Badge_Desc_Id|TagBased|Assigneddate|\n",
      "+-----------------+-------+-------------+--------+------------+\n",
      "|                9|      5|          262|   false|  2010-07-19|\n",
      "|               10|      8|          262|   false|  2010-07-19|\n",
      "|               11|     13|          262|   false|  2010-07-19|\n",
      "|               12|     18|          262|   false|  2010-07-19|\n",
      "|               13|     23|          262|   false|  2010-07-19|\n",
      "|               14|     24|          262|   false|  2010-07-19|\n",
      "|               16|     59|          262|   false|  2010-07-19|\n",
      "|               17|     66|          262|   false|  2010-07-19|\n",
      "|               18|     69|          262|   false|  2010-07-19|\n",
      "|               19|     75|          262|   false|  2010-07-19|\n",
      "|                1|      5|          232|   false|  2010-07-19|\n",
      "|                2|      6|          232|   false|  2010-07-19|\n",
      "|                3|      8|          232|   false|  2010-07-19|\n",
      "|                4|     23|          232|   false|  2010-07-19|\n",
      "|                5|     36|          232|   false|  2010-07-19|\n",
      "|                6|     37|          232|   false|  2010-07-19|\n",
      "|                7|     50|          232|   false|  2010-07-19|\n",
      "|                8|     55|          232|   false|  2010-07-19|\n",
      "|               22|      6|          149|   false|  2010-07-19|\n",
      "|               20|     13|          194|   false|  2010-07-19|\n",
      "+-----------------+-------+-------------+--------+------------+\n",
      "only showing top 20 rows\n",
      "\n"
     ]
    }
   ],
   "source": [
    "badges_fact.show()"
   ]
  },
  {
   "cell_type": "code",
   "execution_count": 88,
   "id": "c7cd5302",
   "metadata": {},
   "outputs": [],
   "source": [
    "badges_fact.coalesce(1).write.mode(\"overwrite\").parquet(\"SilverDataSet/Badges_Fact\")"
   ]
  },
  {
   "cell_type": "markdown",
   "id": "5b200922",
   "metadata": {},
   "source": [
    "# Votes Table"
   ]
  },
  {
   "cell_type": "markdown",
   "id": "6b72a4ac",
   "metadata": {},
   "source": [
    "**Calculate Nulls**"
   ]
  },
  {
   "cell_type": "code",
   "execution_count": 89,
   "id": "49d96162",
   "metadata": {},
   "outputs": [],
   "source": [
    "null_perc = votes_df.select(\n",
    "    (count(when(col(\"UserId\").isNull(), 1)) / count(lit(1)) * 100).alias(\"UserId_null_percentage\"),\n",
    "    (count(when(col(\"BountyAmount\").isNull(), 1)) / count(lit(1)) * 100).alias(\"BountyAmount_null_percentage\")\n",
    ").collect()[0]              ##"
   ]
  },
  {
   "cell_type": "code",
   "execution_count": 90,
   "id": "b380f1de",
   "metadata": {},
   "outputs": [
    {
     "data": {
      "text/plain": [
       "Row(UserId_null_percentage=99.59631648500809, BountyAmount_null_percentage=99.37783629937461)"
      ]
     },
     "execution_count": 90,
     "metadata": {},
     "output_type": "execute_result"
    }
   ],
   "source": [
    "null_perc"
   ]
  },
  {
   "cell_type": "markdown",
   "id": "469d98e4",
   "metadata": {},
   "source": [
    "**Dropping columns**"
   ]
  },
  {
   "cell_type": "code",
   "execution_count": 91,
   "id": "18b6b96b",
   "metadata": {},
   "outputs": [],
   "source": [
    "votes_df = votes_df.drop(\"UserId\", \"BountyAmount\")"
   ]
  },
  {
   "cell_type": "markdown",
   "id": "2ba598ad",
   "metadata": {},
   "source": [
    "**joining votes with posts**"
   ]
  },
  {
   "cell_type": "code",
   "execution_count": 92,
   "id": "8fa1c408",
   "metadata": {},
   "outputs": [],
   "source": [
    "df_votes_with_owner = votes_df.join(\n",
    "    df_posts.select(\"Id\", \"OwnerUserId\"),\n",
    "    votes_df.PostId == df_posts.Id,\n",
    "    \"left\"\n",
    ")\n",
    "df_votes_with_owner = df_votes_with_owner.drop(df_posts[\"Id\"])\n"
   ]
  },
  {
   "cell_type": "code",
   "execution_count": 93,
   "id": "079c1ef6",
   "metadata": {},
   "outputs": [
    {
     "name": "stdout",
     "output_type": "stream",
     "text": [
      "+---+------+----------+-------------------+-----------+\n",
      "| Id|PostId|VoteTypeId|       CreationDate|OwnerUserId|\n",
      "+---+------+----------+-------------------+-----------+\n",
      "| 20|     1|         2|2010-07-19 03:00:00|          8|\n",
      "| 26|    13|         2|2010-07-19 03:00:00|         23|\n",
      "| 12|     6|         2|2010-07-19 03:00:00|          5|\n",
      "| 17|     6|         2|2010-07-19 03:00:00|          5|\n",
      "| 25|    16|         2|2010-07-19 03:00:00|          8|\n",
      "|  1|     3|         2|2010-07-19 03:00:00|         18|\n",
      "|  5|     3|         2|2010-07-19 03:00:00|         18|\n",
      "| 10|     3|         2|2010-07-19 03:00:00|         18|\n",
      "| 21|     3|         2|2010-07-19 03:00:00|         18|\n",
      "|  3|     5|         2|2010-07-19 03:00:00|         23|\n",
      "|  4|     5|         2|2010-07-19 03:00:00|         23|\n",
      "| 11|     5|         2|2010-07-19 03:00:00|         23|\n",
      "| 15|     5|         2|2010-07-19 03:00:00|         23|\n",
      "| 22|     5|         2|2010-07-19 03:00:00|         23|\n",
      "| 23|     9|         2|2010-07-19 03:00:00|         50|\n",
      "|  6|     4|         2|2010-07-19 03:00:00|         23|\n",
      "| 14|    10|         2|2010-07-19 03:00:00|         24|\n",
      "| 24|    14|         2|2010-07-19 03:00:00|         36|\n",
      "|  2|     2|         2|2010-07-19 03:00:00|         24|\n",
      "|  7|     2|         2|2010-07-19 03:00:00|         24|\n",
      "+---+------+----------+-------------------+-----------+\n",
      "only showing top 20 rows\n",
      "\n"
     ]
    }
   ],
   "source": [
    "df_votes_with_owner.show()"
   ]
  },
  {
   "cell_type": "markdown",
   "id": "7873b731",
   "metadata": {},
   "source": [
    "**Renaming columns**"
   ]
  },
  {
   "cell_type": "code",
   "execution_count": 94,
   "id": "91e7848b",
   "metadata": {},
   "outputs": [],
   "source": [
    "df_votes_with_owner = df_votes_with_owner.withColumnRenamed(\"OwnerUserId\", \"PostOwnerId\")"
   ]
  },
  {
   "cell_type": "markdown",
   "id": "2481fe7d",
   "metadata": {},
   "source": [
    "**Formatting Date**"
   ]
  },
  {
   "cell_type": "code",
   "execution_count": 95,
   "id": "1bb03ca8",
   "metadata": {},
   "outputs": [],
   "source": [
    "df_votes_with_owner = df_votes_with_owner.withColumn(\"CreationDate\", date_format(col(\"CreationDate\"), \"yyyy-MM-dd\"))\n"
   ]
  },
  {
   "cell_type": "code",
   "execution_count": 96,
   "id": "377aa81f",
   "metadata": {},
   "outputs": [
    {
     "name": "stdout",
     "output_type": "stream",
     "text": [
      "root\n",
      " |-- Id: integer (nullable = false)\n",
      " |-- PostId: integer (nullable = true)\n",
      " |-- VoteTypeId: integer (nullable = true)\n",
      " |-- CreationDate: string (nullable = true)\n",
      " |-- PostOwnerId: integer (nullable = true)\n",
      "\n"
     ]
    }
   ],
   "source": [
    "df_votes_with_owner.printSchema()"
   ]
  },
  {
   "cell_type": "code",
   "execution_count": 97,
   "id": "0d3e5674",
   "metadata": {},
   "outputs": [],
   "source": [
    "df_votes_final = df_votes_with_owner.withColumn(\n",
    "    'VoteTypeName',\n",
    "    when(df_votes_with_owner['VoteTypeId'] == 1, 'AcceptedByOriginator')\n",
    "    .when(df_votes_with_owner['VoteTypeId'] == 2, 'Upvote')\n",
    "    .when(df_votes_with_owner['VoteTypeId'] == 3, 'Downvote')\n",
    "    .when(df_votes_with_owner['VoteTypeId'] == 4, 'Offensive')\n",
    "    .when(df_votes_with_owner['VoteTypeId'] == 5, 'Favorite')\n",
    "    .when(df_votes_with_owner['VoteTypeId'] == 6, 'Close')\n",
    "    .when(df_votes_with_owner['VoteTypeId'] == 7, 'Reopen')\n",
    "    .when(df_votes_with_owner['VoteTypeId'] == 8, 'BountyStart')\n",
    "    .when(df_votes_with_owner['VoteTypeId'] == 9, 'BountyClose')\n",
    "    .when(df_votes_with_owner['VoteTypeId'] == 10, 'Deletion')\n",
    "    .when(df_votes_with_owner['VoteTypeId'] == 11, 'Undeletion')\n",
    "    .when(df_votes_with_owner['VoteTypeId'] == 12, 'Migration')\n",
    "    .otherwise('Unknown') \n",
    ")\n"
   ]
  },
  {
   "cell_type": "code",
   "execution_count": 98,
   "id": "486ac97d",
   "metadata": {},
   "outputs": [
    {
     "data": {
      "text/plain": [
       "DataFrame[Id: int, PostId: int, VoteTypeId: int, CreationDate: string, PostOwnerId: int, VoteTypeName: string]"
      ]
     },
     "execution_count": 98,
     "metadata": {},
     "output_type": "execute_result"
    }
   ],
   "source": [
    "df_votes_final"
   ]
  },
  {
   "cell_type": "code",
   "execution_count": null,
   "id": "f97245a5",
   "metadata": {},
   "outputs": [
    {
     "name": "stdout",
     "output_type": "stream",
     "text": [
      "+---+------+----------+------------+-----------+------------+\n",
      "| Id|PostId|VoteTypeId|CreationDate|PostOwnerId|VoteTypeName|\n",
      "+---+------+----------+------------+-----------+------------+\n",
      "| 20|     1|         2|  2010-07-19|          8|      Upvote|\n",
      "| 26|    13|         2|  2010-07-19|         23|      Upvote|\n",
      "| 12|     6|         2|  2010-07-19|          5|      Upvote|\n",
      "| 17|     6|         2|  2010-07-19|          5|      Upvote|\n",
      "| 25|    16|         2|  2010-07-19|          8|      Upvote|\n",
      "|  1|     3|         2|  2010-07-19|         18|      Upvote|\n",
      "|  5|     3|         2|  2010-07-19|         18|      Upvote|\n",
      "| 10|     3|         2|  2010-07-19|         18|      Upvote|\n",
      "| 21|     3|         2|  2010-07-19|         18|      Upvote|\n",
      "|  3|     5|         2|  2010-07-19|         23|      Upvote|\n",
      "|  4|     5|         2|  2010-07-19|         23|      Upvote|\n",
      "| 11|     5|         2|  2010-07-19|         23|      Upvote|\n",
      "| 15|     5|         2|  2010-07-19|         23|      Upvote|\n",
      "| 22|     5|         2|  2010-07-19|         23|      Upvote|\n",
      "| 23|     9|         2|  2010-07-19|         50|      Upvote|\n",
      "|  6|     4|         2|  2010-07-19|         23|      Upvote|\n",
      "| 14|    10|         2|  2010-07-19|         24|      Upvote|\n",
      "| 24|    14|         2|  2010-07-19|         36|      Upvote|\n",
      "|  2|     2|         2|  2010-07-19|         24|      Upvote|\n",
      "|  7|     2|         2|  2010-07-19|         24|      Upvote|\n",
      "+---+------+----------+------------+-----------+------------+\n",
      "only showing top 20 rows\n",
      "\n"
     ]
    }
   ],
   "source": [
    "df_votes_final.show()   ###"
   ]
  },
  {
   "cell_type": "code",
   "execution_count": 100,
   "id": "8c6c3f0d",
   "metadata": {},
   "outputs": [],
   "source": [
    "df_votes_final.coalesce(1).write.mode(\"overwrite\").parquet(\"SilverDataSet/Votes_Fact\")"
   ]
  },
  {
   "cell_type": "markdown",
   "id": "713ad6ab",
   "metadata": {},
   "source": [
    "**Creating Votes types Dim**"
   ]
  },
  {
   "cell_type": "code",
   "execution_count": 101,
   "id": "1e15bfa0",
   "metadata": {},
   "outputs": [],
   "source": [
    "vote_types_data = [\n",
    "    Row(VoteTypeId=1, VoteTypeName='AcceptedByOriginator', Description='Marks an answer as accepted by the question author.'),\n",
    "    Row(VoteTypeId=2, VoteTypeName='Upvote', Description='Upvote given to a question or answer.'),\n",
    "    Row(VoteTypeId=3, VoteTypeName='Downvote', Description='Downvote given to a question or answer.'),\n",
    "    Row(VoteTypeId=4, VoteTypeName='Offensive', Description='Flags a post as offensive or spam.'),\n",
    "    Row(VoteTypeId=5, VoteTypeName='Favorite', Description='Indicates a user has favorited a question.'),\n",
    "    Row(VoteTypeId=6, VoteTypeName='Close', Description='Suggests that a question should be closed.'),\n",
    "    Row(VoteTypeId=7, VoteTypeName='Reopen', Description='Suggests that a closed question should be reopened.'),\n",
    "    Row(VoteTypeId=8, VoteTypeName='BountyStart', Description='Indicates that a bounty has been added to a question.'),\n",
    "    Row(VoteTypeId=9, VoteTypeName='BountyClose', Description='Indicates that a bounty has been awarded to an answer.'),\n",
    "    Row(VoteTypeId=10, VoteTypeName='Deletion', Description='Indicates that a post has been deleted.'),\n",
    "    Row(VoteTypeId=11, VoteTypeName='Undeletion', Description='Indicates that a post has been undeleted.'),\n",
    "    Row(VoteTypeId=12, VoteTypeName='Migration', Description='Indicates that a question has been migrated to another Stack Exchange site.')\n",
    "]\n",
    "\n",
    "# Create a DataFrame\n",
    "df_Vote_Types_Dim = spark.createDataFrame(vote_types_data)"
   ]
  },
  {
   "cell_type": "code",
   "execution_count": 102,
   "id": "4c01c7a0",
   "metadata": {},
   "outputs": [
    {
     "name": "stdout",
     "output_type": "stream",
     "text": [
      "+----------+--------------------+--------------------+\n",
      "|VoteTypeId|        VoteTypeName|         Description|\n",
      "+----------+--------------------+--------------------+\n",
      "|         1|AcceptedByOriginator|Marks an answer a...|\n",
      "|         2|              Upvote|Upvote given to a...|\n",
      "|         3|            Downvote|Downvote given to...|\n",
      "|         4|           Offensive|Flags a post as o...|\n",
      "|         5|            Favorite|Indicates a user ...|\n",
      "|         6|               Close|Suggests that a q...|\n",
      "|         7|              Reopen|Suggests that a c...|\n",
      "|         8|         BountyStart|Indicates that a ...|\n",
      "|         9|         BountyClose|Indicates that a ...|\n",
      "|        10|            Deletion|Indicates that a ...|\n",
      "|        11|          Undeletion|Indicates that a ...|\n",
      "|        12|           Migration|Indicates that a ...|\n",
      "+----------+--------------------+--------------------+\n",
      "\n"
     ]
    }
   ],
   "source": [
    "df_Vote_Types_Dim.show()"
   ]
  },
  {
   "cell_type": "code",
   "execution_count": 103,
   "id": "42b6b725",
   "metadata": {},
   "outputs": [],
   "source": [
    "df_Vote_Types_Dim.coalesce(1).write.mode(\"overwrite\").parquet(\"SilverDataSet/Vote_Types_Dim\")"
   ]
  },
  {
   "cell_type": "markdown",
   "id": "e3fa93e3",
   "metadata": {},
   "source": [
    "# Posts"
   ]
  },
  {
   "cell_type": "code",
   "execution_count": 104,
   "id": "778a3d16",
   "metadata": {},
   "outputs": [
    {
     "name": "stdout",
     "output_type": "stream",
     "text": [
      "root\n",
      " |-- AcceptedAnswerId: integer (nullable = true)\n",
      " |-- AnswerCount: integer (nullable = true)\n",
      " |-- Body: string (nullable = true)\n",
      " |-- ClosedDate: timestamp (nullable = true)\n",
      " |-- CommentCount: integer (nullable = true)\n",
      " |-- CommunityOwnedDate: timestamp (nullable = true)\n",
      " |-- ContentLicense: string (nullable = true)\n",
      " |-- CreationDate: timestamp (nullable = true)\n",
      " |-- FavoriteCount: integer (nullable = true)\n",
      " |-- Id: integer (nullable = false)\n",
      " |-- LastActivityDate: timestamp (nullable = true)\n",
      " |-- LastEditDate: timestamp (nullable = true)\n",
      " |-- LastEditorDisplayName: string (nullable = true)\n",
      " |-- LastEditorUserId: integer (nullable = true)\n",
      " |-- OwnerDisplayName: string (nullable = true)\n",
      " |-- OwnerUserId: integer (nullable = true)\n",
      " |-- ParentId: integer (nullable = true)\n",
      " |-- PostTypeId: integer (nullable = true)\n",
      " |-- Score: integer (nullable = true)\n",
      " |-- Tags: string (nullable = true)\n",
      " |-- Title: string (nullable = true)\n",
      " |-- ViewCount: integer (nullable = true)\n",
      "\n"
     ]
    }
   ],
   "source": [
    "df_posts.printSchema()"
   ]
  },
  {
   "cell_type": "markdown",
   "id": "990d2ae6",
   "metadata": {},
   "source": [
    "## Filtering posts to Questions and answers "
   ]
  },
  {
   "cell_type": "code",
   "execution_count": 105,
   "id": "9dd05d1e",
   "metadata": {},
   "outputs": [],
   "source": [
    "df_Questions = df_posts.where(col('PostTypeId') == 1)"
   ]
  },
  {
   "cell_type": "code",
   "execution_count": 106,
   "id": "3e49fd22",
   "metadata": {},
   "outputs": [],
   "source": [
    "df_Answers = df_posts.where(col('PostTypeId') == 2)"
   ]
  },
  {
   "cell_type": "markdown",
   "id": "bf02bb62",
   "metadata": {},
   "source": [
    "## Working with Questions "
   ]
  },
  {
   "cell_type": "code",
   "execution_count": 107,
   "id": "81097904",
   "metadata": {},
   "outputs": [],
   "source": [
    "df_Questions_Filtered_cols = df_Questions.select('Id','OwnerUserId','CreationDate','LastActivityDate','AcceptedAnswerId','Body','Title','Tags','Score','ViewCount','AnswerCount','CommentCount')"
   ]
  },
  {
   "cell_type": "markdown",
   "id": "2495e5f6",
   "metadata": {},
   "source": [
    "### Dealing with nulls "
   ]
  },
  {
   "cell_type": "code",
   "execution_count": 108,
   "id": "26561573",
   "metadata": {},
   "outputs": [],
   "source": [
    "null_counts = df_Questions_Filtered_cols.select([sum(when(col(c).isNull(), 1).otherwise(0)).alias(c) for c in df_Questions_Filtered_cols.columns])\n",
    "#null_counts.show()"
   ]
  },
  {
   "cell_type": "markdown",
   "id": "796efbc8",
   "metadata": {},
   "source": [
    "#### UserID Nulls to -2 and Accepted Answer ID nulls to -1"
   ]
  },
  {
   "cell_type": "code",
   "execution_count": 109,
   "id": "9424422c",
   "metadata": {},
   "outputs": [],
   "source": [
    "df_Questions_Handling_Nulls = df_Questions_Filtered_cols.fillna({\n",
    "    'OwnerUserId':'-2',\n",
    "    'AcceptedAnswerId': '-1'\n",
    "})"
   ]
  },
  {
   "cell_type": "code",
   "execution_count": 110,
   "id": "3303c6d0",
   "metadata": {},
   "outputs": [],
   "source": [
    "#df_Questions_Handling_Nulls.show()"
   ]
  },
  {
   "cell_type": "code",
   "execution_count": 111,
   "id": "32a81b1d",
   "metadata": {},
   "outputs": [],
   "source": [
    "null_counts_again = df_Questions_Handling_Nulls.select([sum(when(col(c).isNull(), 1).otherwise(0)).alias(c) for c in df_Questions_Handling_Nulls.columns])"
   ]
  },
  {
   "cell_type": "code",
   "execution_count": 112,
   "id": "e1018d37",
   "metadata": {},
   "outputs": [],
   "source": [
    "#null_counts_again.show()"
   ]
  },
  {
   "cell_type": "markdown",
   "id": "7a495a18",
   "metadata": {},
   "source": [
    "#### Handling Duplication "
   ]
  },
  {
   "cell_type": "code",
   "execution_count": 113,
   "id": "dc35c152",
   "metadata": {},
   "outputs": [],
   "source": [
    "duplicates = df_Questions_Handling_Nulls.groupBy('OwnerUserId','Body').count().filter(\"count > 1\")\n",
    "#duplicates.show()"
   ]
  },
  {
   "cell_type": "code",
   "execution_count": 114,
   "id": "edcd632b",
   "metadata": {},
   "outputs": [],
   "source": [
    "#duplicates.count()"
   ]
  },
  {
   "cell_type": "code",
   "execution_count": 115,
   "id": "d7c1061d",
   "metadata": {},
   "outputs": [],
   "source": [
    "df_Questions_dropping_duplicates=df_Questions_Handling_Nulls.dropDuplicates(['OwnerUserId','Body'])"
   ]
  },
  {
   "cell_type": "code",
   "execution_count": 116,
   "id": "c9315348",
   "metadata": {},
   "outputs": [],
   "source": [
    "duplicates_validation = df_Questions_dropping_duplicates.groupBy('OwnerUserId','Body').count().filter(\"count > 1\")\n",
    "#duplicates_validation.show()"
   ]
  },
  {
   "cell_type": "markdown",
   "id": "d4c4bd88",
   "metadata": {},
   "source": [
    "#### Converting Date types "
   ]
  },
  {
   "cell_type": "code",
   "execution_count": 117,
   "id": "e3435bed",
   "metadata": {},
   "outputs": [],
   "source": [
    "df_Questions_Date_only =  df_Questions_dropping_duplicates.withColumn(\"CreationDate\", to_date(col(\"CreationDate\"),\"yyyy-MM-DD\"))\n",
    "df_Questions_Date_only = df_Questions_Date_only.withColumn(\"LastActivityDate\", to_date(col(\"LastActivityDate\"),\"yyyy-MM-DD\"))\n"
   ]
  },
  {
   "cell_type": "code",
   "execution_count": 118,
   "id": "02ebdf62",
   "metadata": {},
   "outputs": [],
   "source": [
    "#df_Questions_Date_only.collect()\n",
    "#df_Questions_Date_only.limit(10).show(truncate=False)"
   ]
  },
  {
   "cell_type": "markdown",
   "id": "f4694835",
   "metadata": {},
   "source": [
    "### Handling Body (HTML to Text )"
   ]
  },
  {
   "cell_type": "code",
   "execution_count": 119,
   "id": "8e596887",
   "metadata": {},
   "outputs": [],
   "source": [
    "def html_to_text(html):\n",
    "    if html is None:\n",
    "        return None\n",
    "    # Parse the HTML and extract the text content\n",
    "    soup = BeautifulSoup(html, \"html.parser\")\n",
    "    return soup.get_text()"
   ]
  },
  {
   "cell_type": "code",
   "execution_count": 120,
   "id": "9556a859",
   "metadata": {},
   "outputs": [],
   "source": [
    "html_to_text_udf = udf(html_to_text, StringType())\n"
   ]
  },
  {
   "cell_type": "code",
   "execution_count": 121,
   "id": "2a23b455",
   "metadata": {},
   "outputs": [],
   "source": [
    "df_Questions_HTMLToText = df_Questions_Date_only.withColumn(\"Body\", html_to_text_udf(col(\"Body\")))\n"
   ]
  },
  {
   "cell_type": "code",
   "execution_count": 122,
   "id": "e7307cf2",
   "metadata": {},
   "outputs": [],
   "source": [
    "df_Questions_refined_text = df_Questions_HTMLToText.withColumn(\n",
    "    \"Body\",\n",
    "    trim(\n",
    "        regexp_replace(\n",
    "            lower(\n",
    "                regexp_replace(\"Body\", \"\\\\s+\", \" \")\n",
    "            ),\n",
    "            \"[^a-zA-Z0-9\\\\s]\",\n",
    "            \"\"\n",
    "        )\n",
    "    )\n",
    ")"
   ]
  },
  {
   "cell_type": "markdown",
   "id": "2b4ead6d",
   "metadata": {},
   "source": [
    "#### Dealing with Tags"
   ]
  },
  {
   "cell_type": "code",
   "execution_count": 123,
   "id": "b851d12e",
   "metadata": {},
   "outputs": [],
   "source": [
    "df_Questions_final = df_Questions_refined_text.withColumn(\"Tags\", expr(\"substring(Tags, 2, length(Tags) - 2)\"))"
   ]
  },
  {
   "cell_type": "code",
   "execution_count": 124,
   "id": "11dbdb8e",
   "metadata": {},
   "outputs": [],
   "source": [
    "df_Questions_final = df_Questions_final.withColumn(\"Tags\", split(df_Questions_final[\"Tags\"], \"\\><\"))\n"
   ]
  },
  {
   "cell_type": "code",
   "execution_count": 125,
   "id": "71efa5b1",
   "metadata": {},
   "outputs": [
    {
     "name": "stdout",
     "output_type": "stream",
     "text": [
      "+-----------------------------------------------------------------------------------------+\n",
      "|Tags                                                                                     |\n",
      "+-----------------------------------------------------------------------------------------+\n",
      "|[self-study, p-value, standard-deviation, least-squares, sums-of-squares]                |\n",
      "|[self-study, variance, simulation, monte-carlo, numerical-integration]                   |\n",
      "|[self-study, simulation, monte-carlo, importance-sampling]                               |\n",
      "|[time-series, self-study, forecasting, arima]                                            |\n",
      "|[probability, hypothesis-testing, self-study, normal-distribution, multivariate-analysis]|\n",
      "|[hypothesis-testing, self-study, maximum-likelihood, inference, likelihood-ratio]        |\n",
      "|[hypothesis-testing, self-study, inference, exponential-family]                          |\n",
      "|[probability, self-study, normal-distribution, chi-squared-test, expected-value]         |\n",
      "|[self-study, estimation, inference, umvue]                                               |\n",
      "|[probability, distributions, beta-distribution, inverse-gamma-distribution]              |\n",
      "|[regression, self-study, least-squares, independence]                                    |\n",
      "|[logistic, spss]                                                                         |\n",
      "|[mixed-model, interpretation, glmm, effects]                                             |\n",
      "|[r, distributions]                                                                       |\n",
      "|[machine-learning, python, overfitting]                                                  |\n",
      "|[r, regression, negative-binomial-distribution, poisson-regression, offset]              |\n",
      "|[machine-learning, classification, neural-networks, cross-validation, perceptron]        |\n",
      "|[bonferroni]                                                                             |\n",
      "|[hypothesis-testing, poisson-distribution, bootstrap]                                    |\n",
      "|[regression, assumptions]                                                                |\n",
      "+-----------------------------------------------------------------------------------------+\n",
      "only showing top 20 rows\n",
      "\n"
     ]
    }
   ],
   "source": [
    "df_Questions_final.select(col('Tags')).show(truncate=False)     ###"
   ]
  },
  {
   "cell_type": "code",
   "execution_count": 126,
   "id": "97e03b6c",
   "metadata": {},
   "outputs": [],
   "source": [
    "df_Questions_final = df_Questions_final.withColumnRenamed(\"Id\",\"QuestionId\")"
   ]
  },
  {
   "cell_type": "code",
   "execution_count": 127,
   "id": "24560ff7",
   "metadata": {},
   "outputs": [
    {
     "name": "stdout",
     "output_type": "stream",
     "text": [
      "+----------+-----------+------------+----------------+----------------+--------------------+--------------------+--------------------+-----+---------+-----------+------------+\n",
      "|QuestionId|OwnerUserId|CreationDate|LastActivityDate|AcceptedAnswerId|                Body|               Title|                Tags|Score|ViewCount|AnswerCount|CommentCount|\n",
      "+----------+-----------+------------+----------------+----------------+--------------------+--------------------+--------------------+-----+---------+-----------+------------+\n",
      "|     95868|         -2|  2014-05-01|      2014-05-01|           95962|my attempt at mak...|Least Squares Fit...|[self-study, p-va...|    1|      135|          1|          19|\n",
      "|    146732|         -2|  2015-04-16|      2015-04-17|          146762|i have some troub...|Variance reductio...|[self-study, vari...|    7|     1733|          1|           5|\n",
      "|    151163|         -2|  2015-05-07|      2022-05-25|          151432|implement an esti...|Monte Carlo integ...|[self-study, simu...|    5|      601|          3|           5|\n",
      "|    252960|         -2|  2016-12-23|      2016-12-23|              -1|let b the lag ope...|Forecast of $(1-0...|[time-series, sel...|    1|       50|          0|           3|\n",
      "|    300402|         -2|  2017-08-29|      2017-08-30|              -1|let xsim npmusigm...|Hypothesis test a...|[probability, hyp...|    0|       60|          0|           2|\n",
      "|    156836|         -2|  2015-06-13|      2015-06-14|          156855|let x1xn random s...|Likelihood ratio ...|[hypothesis-testi...|    3|     9992|          1|           2|\n",
      "|    158971|         -2|  2015-06-27|      2015-06-28|              -1|let x1xn a random...|Karlin-Rubin theo...|[hypothesis-testi...|    1|     1554|          0|          14|\n",
      "|    222915|         -2|  2016-07-09|      2019-04-27|          222989|let x1 x2 cdots x...|Expectation of $\\...|[probability, sel...|   10|      276|          2|           0|\n",
      "|    152927|         -2|  2015-05-19|      2019-12-14|          153315|let x1ldotsxn be ...|UMVUE of $p^4$ wh...|[self-study, esti...|    2|     1082|          1|           1|\n",
      "|    215770|         -2|  2016-06-01|      2019-07-26|          215809|let ig denote inv...|Show that $\\frac{...|[probability, dis...|    3|     1555|          1|           3|\n",
      "|    181787|         -2|  2015-11-14|      2015-11-15|              -1|suppose that over...|Simultaneous conf...|[regression, self...|    0|      101|          0|           6|\n",
      "|      6609|         -2|  2011-01-27|      2011-02-25|              -1|question can you ...|How to do a repea...|    [logistic, spss]|    6|     2220|          1|           1|\n",
      "|    394647|         -2|  2019-02-27|      2019-02-27|          394666|this question is ...|How to interpret ...|[mixed-model, int...|    3|      305|          1|           0|\n",
      "|     62953|         -2|  2013-06-30|      2013-07-01|           63001|23 patients suffe...|How to test for \"...|  [r, distributions]|    2|      623|          1|           9|\n",
      "|    421582|         -2|  2019-08-09|      2019-08-15|              -1|i am working on a...|How to identify a...|[machine-learning...|    1|      807|          1|           0|\n",
      "|    603160|         -2|  2023-01-25|      2023-01-25|          603165|m1 glmnbnumber  f...|Regression Estima...|[r, regression, n...|    1|       60|          1|           5|\n",
      "|    401259|         -2|  2019-04-04|      2019-04-04|              -1|im really not sur...|Choosing perceptr...|[machine-learning...|    0|       52|          0|           3|\n",
      "|    324494|         -2|  2018-01-22|      2018-01-31|              -1|question practica...|Bonferroni correc...|        [bonferroni]|    1|      801|          2|           0|\n",
      "|      8083|         -2|  2011-03-09|      2011-03-10|              -1|revised version s...|One-sample-disper...|[hypothesis-testi...|    1|     1731|          2|           5|\n",
      "|    247986|         -2|  2016-11-26|      2016-12-18|              -1|im trying to see ...|Does regression w...|[regression, assu...|    8|     1114|          2|           8|\n",
      "+----------+-----------+------------+----------------+----------------+--------------------+--------------------+--------------------+-----+---------+-----------+------------+\n",
      "only showing top 20 rows\n",
      "\n"
     ]
    }
   ],
   "source": [
    "df_Questions_final.show()"
   ]
  },
  {
   "cell_type": "code",
   "execution_count": 128,
   "id": "d539e2f5",
   "metadata": {},
   "outputs": [],
   "source": [
    "df_Questions_final.coalesce(1).write.mode(\"overwrite\").parquet(\"SilverDataSet/Questions\")"
   ]
  },
  {
   "cell_type": "code",
   "execution_count": 129,
   "id": "c78b8cea",
   "metadata": {},
   "outputs": [
    {
     "name": "stdout",
     "output_type": "stream",
     "text": [
      "root\n",
      " |-- QuestionId: integer (nullable = false)\n",
      " |-- OwnerUserId: integer (nullable = true)\n",
      " |-- CreationDate: date (nullable = true)\n",
      " |-- LastActivityDate: date (nullable = true)\n",
      " |-- AcceptedAnswerId: integer (nullable = true)\n",
      " |-- Body: string (nullable = true)\n",
      " |-- Title: string (nullable = true)\n",
      " |-- Tags: array (nullable = true)\n",
      " |    |-- element: string (containsNull = false)\n",
      " |-- Score: integer (nullable = true)\n",
      " |-- ViewCount: integer (nullable = true)\n",
      " |-- AnswerCount: integer (nullable = true)\n",
      " |-- CommentCount: integer (nullable = true)\n",
      "\n"
     ]
    }
   ],
   "source": [
    "df_Questions_final.printSchema()"
   ]
  },
  {
   "cell_type": "markdown",
   "id": "016d4d55",
   "metadata": {},
   "source": [
    "## Working With Answers"
   ]
  },
  {
   "cell_type": "code",
   "execution_count": 130,
   "id": "27072076",
   "metadata": {},
   "outputs": [
    {
     "name": "stdout",
     "output_type": "stream",
     "text": [
      "root\n",
      " |-- AcceptedAnswerId: integer (nullable = true)\n",
      " |-- AnswerCount: integer (nullable = true)\n",
      " |-- Body: string (nullable = true)\n",
      " |-- ClosedDate: timestamp (nullable = true)\n",
      " |-- CommentCount: integer (nullable = true)\n",
      " |-- CommunityOwnedDate: timestamp (nullable = true)\n",
      " |-- ContentLicense: string (nullable = true)\n",
      " |-- CreationDate: timestamp (nullable = true)\n",
      " |-- FavoriteCount: integer (nullable = true)\n",
      " |-- Id: integer (nullable = false)\n",
      " |-- LastActivityDate: timestamp (nullable = true)\n",
      " |-- LastEditDate: timestamp (nullable = true)\n",
      " |-- LastEditorDisplayName: string (nullable = true)\n",
      " |-- LastEditorUserId: integer (nullable = true)\n",
      " |-- OwnerDisplayName: string (nullable = true)\n",
      " |-- OwnerUserId: integer (nullable = true)\n",
      " |-- ParentId: integer (nullable = true)\n",
      " |-- PostTypeId: integer (nullable = true)\n",
      " |-- Score: integer (nullable = true)\n",
      " |-- Tags: string (nullable = true)\n",
      " |-- Title: string (nullable = true)\n",
      " |-- ViewCount: integer (nullable = true)\n",
      "\n"
     ]
    }
   ],
   "source": [
    "df_Answers.printSchema()"
   ]
  },
  {
   "cell_type": "code",
   "execution_count": 131,
   "id": "daf05494",
   "metadata": {},
   "outputs": [],
   "source": [
    "df_Answers_Filtered_cols = df_Answers.select('Id','ParentId','OwnerUserId','CreationDate','LastActivityDate','Body','Score','CommentCount')"
   ]
  },
  {
   "cell_type": "code",
   "execution_count": 132,
   "id": "9f7069ef",
   "metadata": {},
   "outputs": [
    {
     "name": "stdout",
     "output_type": "stream",
     "text": [
      "+---+--------+-----------+--------------------+--------------------+--------------------+-----+------------+\n",
      "| Id|ParentId|OwnerUserId|        CreationDate|    LastActivityDate|                Body|Score|CommentCount|\n",
      "+---+--------+-----------+--------------------+--------------------+--------------------+-----+------------+\n",
      "|  5|       3|         23|2010-07-19 22:14:...|2010-07-19 22:21:...|<p>The R-project<...|   90|           3|\n",
      "|  9|       3|         50|2010-07-19 22:16:...|2010-07-19 22:16:...|<p><a href=\"http:...|   15|           3|\n",
      "| 12|       7|          5|2010-07-19 22:18:...|2010-07-19 22:18:...|<p>See my respons...|   24|           1|\n",
      "| 13|       6|         23|2010-07-19 22:18:...|2010-07-19 22:18:...|<p>Machine Learni...|   27|           6|\n",
      "| 14|       3|         36|2010-07-19 22:19:...|2010-07-19 22:19:...|<p>I second that ...|    6|           1|\n",
      "| 15|       1|          6|2010-07-19 22:19:...|2010-07-19 22:19:...|<p>John Cook give...|   24|           0|\n",
      "| 16|       3|          8|2010-07-19 22:22:...|2010-07-19 23:43:...|<p>Two projects s...|   17|           2|\n",
      "| 18|       7|         36|2010-07-19 22:24:...|2010-07-19 22:24:...|<p>Also see the U...|   43|           1|\n",
      "| 19|       7|         55|2010-07-19 22:24:...|2010-07-19 22:24:...|<p><a href=\"http:...|   16|           0|\n",
      "| 20|       2|         37|2010-07-19 22:24:...|2010-07-19 22:24:...|<p>The assumption...|    3|           2|\n",
      "| 24|       3|         61|2010-07-19 22:26:...|2022-11-28 01:15:...|<p>For doing a va...|   22|           0|\n",
      "| 28|       3|       NULL|2010-07-19 22:28:...|2022-11-28 01:14:...|<p><a href=\"http:...|    7|           0|\n",
      "| 29|      17|         36|2010-07-19 22:28:...|2010-07-19 22:28:...|<p>Contingency ta...|    8|           0|\n",
      "| 32|      25|          5|2010-07-19 22:29:...|2010-07-19 22:29:...|<p>I recommend R ...|   16|           0|\n",
      "| 38|      35|         61|2010-07-19 22:32:...|2010-07-19 22:32:...|<p>If your mean v...|    4|           2|\n",
      "| 41|      26|         83|2010-07-19 22:33:...|2015-06-17 10:59:...|<p>A quote from <...|   12|           0|\n",
      "| 42|       3|         80|2010-07-19 22:33:...|2010-07-19 22:33:...|<p><a href=\"http:...|   15|           3|\n",
      "| 43|      25|         74|2010-07-19 22:33:...|2022-12-03 16:50:...|<p>R is great, bu...|    7|           5|\n",
      "| 45|      40|         55|2010-07-19 22:34:...|2010-07-19 22:34:...|<p>The <a href=\"h...|    6|           1|\n",
      "| 46|      26|         62|2010-07-19 22:35:...|2010-07-20 05:13:...|<p>A standard dev...|    1|           2|\n",
      "+---+--------+-----------+--------------------+--------------------+--------------------+-----+------------+\n",
      "only showing top 20 rows\n",
      "\n"
     ]
    }
   ],
   "source": [
    "df_Answers_Filtered_cols.show()         ###"
   ]
  },
  {
   "cell_type": "markdown",
   "id": "15f6c19d",
   "metadata": {},
   "source": [
    "### Dealing with nulls"
   ]
  },
  {
   "cell_type": "code",
   "execution_count": 133,
   "id": "05d42e84",
   "metadata": {},
   "outputs": [],
   "source": [
    "null_counts = df_Answers_Filtered_cols.select([sum(when(col(c).isNull(), 1).otherwise(0)).alias(c) for c in df_Answers_Filtered_cols.columns])\n"
   ]
  },
  {
   "cell_type": "code",
   "execution_count": 134,
   "id": "17f2cc61",
   "metadata": {},
   "outputs": [],
   "source": [
    "#null_counts.show()"
   ]
  },
  {
   "cell_type": "code",
   "execution_count": 135,
   "id": "fdcf0d35",
   "metadata": {},
   "outputs": [],
   "source": [
    "df_Answers_Handling_Nulls = df_Answers_Filtered_cols.fillna({\n",
    "    'OwnerUserId':'-2',\n",
    "})"
   ]
  },
  {
   "cell_type": "code",
   "execution_count": 136,
   "id": "77f6e6b2",
   "metadata": {},
   "outputs": [],
   "source": [
    "#null_counts = df_Answers_Handling_Nulls.select([sum(when(col(c).isNull(), 1).otherwise(0)).alias(c) for c in df_Answers_Handling_Nulls.columns])\n",
    "#null_counts.show()"
   ]
  },
  {
   "cell_type": "markdown",
   "id": "eac0f939",
   "metadata": {},
   "source": [
    "### Handling Duplicates "
   ]
  },
  {
   "cell_type": "code",
   "execution_count": 137,
   "id": "d7fc8481",
   "metadata": {},
   "outputs": [],
   "source": [
    "duplicates = df_Answers_Handling_Nulls.groupBy('OwnerUserId','Body','ParentId').count().filter(\"count > 1\")\n"
   ]
  },
  {
   "cell_type": "code",
   "execution_count": 138,
   "id": "8fdb12dd",
   "metadata": {},
   "outputs": [
    {
     "name": "stdout",
     "output_type": "stream",
     "text": [
      "root\n",
      " |-- Id: integer (nullable = false)\n",
      " |-- ParentId: integer (nullable = true)\n",
      " |-- OwnerUserId: integer (nullable = true)\n",
      " |-- CreationDate: timestamp (nullable = true)\n",
      " |-- LastActivityDate: timestamp (nullable = true)\n",
      " |-- Body: string (nullable = true)\n",
      " |-- Score: integer (nullable = true)\n",
      " |-- CommentCount: integer (nullable = true)\n",
      "\n"
     ]
    }
   ],
   "source": [
    "df_Answers_Handling_Nulls.printSchema()"
   ]
  },
  {
   "cell_type": "code",
   "execution_count": 139,
   "id": "85c7c4be",
   "metadata": {},
   "outputs": [],
   "source": [
    "df_Answers_Date_only =  df_Answers_Handling_Nulls.withColumn(\"CreationDate\", to_date(col(\"CreationDate\"),\"yyyy-MM-DD\"))\n",
    "df_Answers_Date_only = df_Answers_Date_only.withColumn(\"LastActivityDate\", to_date(col(\"LastActivityDate\"),\"yyyy-MM-DD\"))"
   ]
  },
  {
   "cell_type": "code",
   "execution_count": 140,
   "id": "21b4e960",
   "metadata": {},
   "outputs": [
    {
     "name": "stdout",
     "output_type": "stream",
     "text": [
      "root\n",
      " |-- Id: integer (nullable = false)\n",
      " |-- ParentId: integer (nullable = true)\n",
      " |-- OwnerUserId: integer (nullable = true)\n",
      " |-- CreationDate: date (nullable = true)\n",
      " |-- LastActivityDate: date (nullable = true)\n",
      " |-- Body: string (nullable = true)\n",
      " |-- Score: integer (nullable = true)\n",
      " |-- CommentCount: integer (nullable = true)\n",
      "\n"
     ]
    }
   ],
   "source": [
    "df_Answers_Date_only.printSchema()"
   ]
  },
  {
   "cell_type": "markdown",
   "id": "4d501827",
   "metadata": {},
   "source": [
    "### Handling Body (HTML to Text )"
   ]
  },
  {
   "cell_type": "code",
   "execution_count": 141,
   "id": "70139174",
   "metadata": {},
   "outputs": [],
   "source": [
    "df_Answers_HTMLToText = df_Answers_Date_only.withColumn(\"Body\", html_to_text_udf(col(\"Body\")))\n"
   ]
  },
  {
   "cell_type": "code",
   "execution_count": 142,
   "id": "4cd59607",
   "metadata": {},
   "outputs": [],
   "source": [
    "df_Answers_refined_text = df_Answers_HTMLToText.withColumn(\n",
    "    \"Body\",\n",
    "    trim(\n",
    "        regexp_replace(\n",
    "            lower(\n",
    "                regexp_replace(\"Body\", \"\\\\s+\", \" \")\n",
    "            ),\n",
    "            \"[^a-zA-Z0-9\\\\s]\",\n",
    "            \"\"\n",
    "        )\n",
    "    )\n",
    ")"
   ]
  },
  {
   "cell_type": "code",
   "execution_count": 143,
   "id": "2f4ba20f",
   "metadata": {},
   "outputs": [
    {
     "name": "stdout",
     "output_type": "stream",
     "text": [
      "+-----------------------------------------------------------------------------------------------------------------------------------------------------------------------------------------------------------------------------------------------------------------------------------------------------------------------------------------------------------------------------------------------------------------------------------------------------------------------------------------------------------------------------------------------------------------------------------------------------------------------------------------------------------------------------------------------------------------------------------------------------------------------------------------------------------------------------------------------------------------------------------------------------------------------------------------------------------------------------------------------------------------------------------------------------------------------------------------------------------------------------------------------------------------------------------------------------------------------------------------------------------------------------------------------------------------------------------------------------------------------------------------------------------------------------------------------------------------------------+\n",
      "|Body                                                                                                                                                                                                                                                                                                                                                                                                                                                                                                                                                                                                                                                                                                                                                                                                                                                                                                                                                                                                                                                                                                                                                                                                                                                                                                                                                                                                                                                                         |\n",
      "+-----------------------------------------------------------------------------------------------------------------------------------------------------------------------------------------------------------------------------------------------------------------------------------------------------------------------------------------------------------------------------------------------------------------------------------------------------------------------------------------------------------------------------------------------------------------------------------------------------------------------------------------------------------------------------------------------------------------------------------------------------------------------------------------------------------------------------------------------------------------------------------------------------------------------------------------------------------------------------------------------------------------------------------------------------------------------------------------------------------------------------------------------------------------------------------------------------------------------------------------------------------------------------------------------------------------------------------------------------------------------------------------------------------------------------------------------------------------------------+\n",
      "|the rproject httpwwwrprojectorg r is valuable and significant because it was the first widelyaccepted opensource alternative to bigbox packages its mature well supported and a standard within many scientific communities some reasons why it is useful and valuable there are some nice tutorials here                                                                                                                                                                                                                                                                                                                                                                                                                                                                                                                                                                                                                                                                                                                                                                                                                                                                                                                                                                                                                                                                                                                                                                    |\n",
      "|incanter is a clojurebased rlike platform environment  libraries for statistical computing and graphics                                                                                                                                                                                                                                                                                                                                                                                                                                                                                                                                                                                                                                                                                                                                                                                                                                                                                                                                                                                                                                                                                                                                                                                                                                                                                                                                                                      |\n",
      "|see my response to datasets for running statistical analysis on in reference to datasets in r                                                                                                                                                                                                                                                                                                                                                                                                                                                                                                                                                                                                                                                                                                                                                                                                                                                                                                                                                                                                                                                                                                                                                                                                                                                                                                                                                                                |\n",
      "|machine learning seems to have its basis in the pragmatic  a practical observation or simulation of reality even within statistics mindless checking of models and assumptions can lead to discarding methods that are useful for example years ago the very first commercially available and working bankruptcy model implemented by the credit bureaus was created through a plain old linear regression model targeting a 01 outcome technically thats a bad approach but practically it worked                                                                                                                                                                                                                                                                                                                                                                                                                                                                                                                                                                                                                                                                                                                                                                                                                                                                                                                                                                           |\n",
      "|i second that jay why is r valuable heres a short list of reasons httpwwwinsiderorgwhyuser also check out ggplot2  a very nice graphics package for r some nice tutorials here                                                                                                                                                                                                                                                                                                                                                                                                                                                                                                                                                                                                                                                                                                                                                                                                                                                                                                                                                                                                                                                                                                                                                                                                                                                                                               |\n",
      "|john cook gives some interesting recommendations basically get percentilesquantiles not means or obscure scale parameters from the experts and fit them with the appropriate distribution httpwwwjohndcookcomblog20100131parametersfrompercentiles                                                                                                                                                                                                                                                                                                                                                                                                                                                                                                                                                                                                                                                                                                                                                                                                                                                                                                                                                                                                                                                                                                                                                                                                                           |\n",
      "|two projects spring to mind bugs  taking some of the pain out of bayesian statistics it allows the user to focus more on the model and a bit less on mcmc bioconductor  perhaps the most popular statistical tool in bioinformatics i know its a r repository but there are a large number of people who want to learn r just for bioconductor the number of packages available for cutting edge analysis make it second to none                                                                                                                                                                                                                                                                                                                                                                                                                                                                                                                                                                                                                                                                                                                                                                                                                                                                                                                                                                                                                                             |\n",
      "|also see the uci machine learning data repository httparchiveicsucieduml                                                                                                                                                                                                                                                                                                                                                                                                                                                                                                                                                                                                                                                                                                                                                                                                                                                                                                                                                                                                                                                                                                                                                                                                                                                                                                                                                                                                     |\n",
      "|gapminder has a number 430 at the last look of datasets which may or may not be of use to you                                                                                                                                                                                                                                                                                                                                                                                                                                                                                                                                                                                                                                                                                                                                                                                                                                                                                                                                                                                                                                                                                                                                                                                                                                                                                                                                                                                |\n",
      "|the assumption of normality assumes your data is normally distributed the bell curve or gaussian distribution you can check this by plotting the data or checking the measures for kurtosis how sharp the peak is and skewdness  if more than half the data is on one side of the peak                                                                                                                                                                                                                                                                                                                                                                                                                                                                                                                                                                                                                                                                                                                                                                                                                                                                                                                                                                                                                                                                                                                                                                                       |\n",
      "|for doing a variety of mcmc tasks in python theres pymc which ive gotten quite a bit of use out of i havent run across anything that i can do in bugs that i cant do in pymc and the way you specify models and bring in data seems to be a lot more intuitive to me                                                                                                                                                                                                                                                                                                                                                                                                                                                                                                                                                                                                                                                                                                                                                                                                                                                                                                                                                                                                                                                                                                                                                                                                         |\n",
      "|gsl for those of you who wish to program in c  c is a valuable resource as it provides several routines for random generators linear algebra etc while gsl is primarily available for linux there are also ports for windows see this and this                                                                                                                                                                                                                                                                                                                                                                                                                                                                                                                                                                                                                                                                                                                                                                                                                                                                                                                                                                                                                                                                                                                                                                                                                               |\n",
      "|contingency table chisquare also logistic regression is your friend  use dummy variables                                                                                                                                                                                                                                                                                                                                                                                                                                                                                                                                                                                                                                                                                                                                                                                                                                                                                                                                                                                                                                                                                                                                                                                                                                                                                                                                                                                     |\n",
      "|i recommend r see the time series view on cran some useful references econometrics in r by grant farnsworth multivariate time series modelling in r                                                                                                                                                                                                                                                                                                                                                                                                                                                                                                                                                                                                                                                                                                                                                                                                                                                                                                                                                                                                                                                                                                                                                                                                                                                                                                                          |\n",
      "|if your mean value for the poisson is 1500 then youre very close to a normal distribution you might try using that as an approximation and then modelling the mean and variance separately                                                                                                                                                                                                                                                                                                                                                                                                                                                                                                                                                                                                                                                                                                                                                                                                                                                                                                                                                                                                                                                                                                                                                                                                                                                                                   |\n",
      "|a quote from wikipedia it shows how much variation there is from the average mean or expectedbudgeted value a low standard deviation indicates that the data points tend to be very close to the mean whereas high standard deviation indicates that the data is spread out over a large range of values                                                                                                                                                                                                                                                                                                                                                                                                                                                                                                                                                                                                                                                                                                                                                                                                                                                                                                                                                                                                                                                                                                                                                                     |\n",
      "|weka for data mining  contains many classification and clustering algorithms in java                                                                                                                                                                                                                                                                                                                                                                                                                                                                                                                                                                                                                                                                                                                                                                                                                                                                                                                                                                                                                                                                                                                                                                                                                                                                                                                                                                                         |\n",
      "|r is great but i wouldnt really call it windows based  thats like saying the cmd prompt is windows based i guess it is technically in a window rapidminer is far easier to use 1 its a free opensource multiplatform gui heres a video on time series forecasting financial time series modelling  part 1 also dont forget to read forecasting methods and principles 1 no i dont work for them                                                                                                                                                                                                                                                                                                                                                                                                                                                                                                                                                                                                                                                                                                                                                                                                                                                                                                                                                                                                                                                                              |\n",
      "|the mersenne twister is one ive come across and used before now                                                                                                                                                                                                                                                                                                                                                                                                                                                                                                                                                                                                                                                                                                                                                                                                                                                                                                                                                                                                                                                                                                                                                                                                                                                                                                                                                                                                              |\n",
      "|a standard deviation is the square root of the second central moment of a distribution a central moment is the expected difference from the expected value of the distribution a first central moment would usually be 0 so we define a second central moment as the expected value of the squared distance of a random variable from its expected value to put it on a scale that is more in line with the original observations we take the square root of that second central moment and call it the standard deviation standard deviation is a property of a population it measures how much average dispersion there is to that population are all the obsrvations clustered around the mean or are they widely spread out to estimate the standard deviation of a population we often calculate the standard deviation of a sample from that population to do this you take observations from that population calculate a mean of those observations and then calculate the square root of the average squared deviation from that sample mean to get an unbiased estimator of the variance you dont actually calculate the average squared deviation from the sample mean but instead you divide by n1 where n is the number of observations in your sample note that this sample standard deviation is not an unbiased estimator of the standard deviation but the square of the sample standard deviation is an unbiased estimator of the variance of the population|\n",
      "+-----------------------------------------------------------------------------------------------------------------------------------------------------------------------------------------------------------------------------------------------------------------------------------------------------------------------------------------------------------------------------------------------------------------------------------------------------------------------------------------------------------------------------------------------------------------------------------------------------------------------------------------------------------------------------------------------------------------------------------------------------------------------------------------------------------------------------------------------------------------------------------------------------------------------------------------------------------------------------------------------------------------------------------------------------------------------------------------------------------------------------------------------------------------------------------------------------------------------------------------------------------------------------------------------------------------------------------------------------------------------------------------------------------------------------------------------------------------------------+\n",
      "only showing top 20 rows\n",
      "\n"
     ]
    }
   ],
   "source": [
    "df_Answers_refined_text.select('Body').show(truncate = False)"
   ]
  },
  {
   "cell_type": "code",
   "execution_count": 144,
   "id": "672248cb",
   "metadata": {},
   "outputs": [],
   "source": [
    "df_Answers_final = df_Answers_refined_text.withColumnRenamed(\"Id\",\"AnswerId\")\n"
   ]
  },
  {
   "cell_type": "code",
   "execution_count": 145,
   "id": "d91f52c0",
   "metadata": {},
   "outputs": [],
   "source": [
    "df_Answers_final.coalesce(1).write.mode(\"overwrite\").parquet(\"SilverDataSet/Answers\")"
   ]
  },
  {
   "cell_type": "code",
   "execution_count": 146,
   "id": "393052f7",
   "metadata": {},
   "outputs": [],
   "source": [
    "spark.stop()"
   ]
  },
  {
   "cell_type": "code",
   "execution_count": null,
   "id": "d750c8ff",
   "metadata": {},
   "outputs": [],
   "source": []
  }
 ],
 "metadata": {
  "kernelspec": {
   "display_name": "Python (lab2)",
   "language": "python",
   "name": "lab2"
  },
  "language_info": {
   "codemirror_mode": {
    "name": "ipython",
    "version": 3
   },
   "file_extension": ".py",
   "mimetype": "text/x-python",
   "name": "python",
   "nbconvert_exporter": "python",
   "pygments_lexer": "ipython3",
   "version": "3.11.11"
  }
 },
 "nbformat": 4,
 "nbformat_minor": 5
}
